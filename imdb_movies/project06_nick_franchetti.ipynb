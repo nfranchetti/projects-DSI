{
 "cells": [
  {
   "cell_type": "code",
   "execution_count": 1,
   "metadata": {
    "collapsed": true
   },
   "outputs": [],
   "source": [
    "import pandas as pd\n",
    "import numpy as np\n",
    "import matplotlib.pyplot as plt\n",
    "%matplotlib inline"
   ]
  },
  {
   "cell_type": "code",
   "execution_count": 2,
   "metadata": {
    "collapsed": true
   },
   "outputs": [],
   "source": [
    "from imdbpie import Imdb\n",
    "imdb = Imdb()\n",
    "imdb = Imdb(anonymize=True) # to proxy requests"
   ]
  },
  {
   "cell_type": "code",
   "execution_count": 3,
   "metadata": {
    "collapsed": false
   },
   "outputs": [],
   "source": [
    "top_250 = imdb.top_250()"
   ]
  },
  {
   "cell_type": "code",
   "execution_count": 4,
   "metadata": {
    "collapsed": false
   },
   "outputs": [],
   "source": [
    "# top_250 = pd.DataFrame(top_250)\n",
    "# top_250.head()"
   ]
  },
  {
   "cell_type": "code",
   "execution_count": 5,
   "metadata": {
    "collapsed": false
   },
   "outputs": [
    {
     "data": {
      "text/plain": [
       "{u'can_rate': True,\n",
       " u'image': {u'height': 1388,\n",
       "  u'url': u'https://images-na.ssl-images-amazon.com/images/M/MV5BODU4MjU4NjIwNl5BMl5BanBnXkFtZTgwMDU2MjEyMDE@._V1_.jpg',\n",
       "  u'width': 933},\n",
       " u'num_votes': 1724552,\n",
       " u'rating': 9.3,\n",
       " u'tconst': u'tt0111161',\n",
       " u'title': u'The Shawshank Redemption',\n",
       " u'type': u'feature',\n",
       " u'year': u'1994'}"
      ]
     },
     "execution_count": 5,
     "metadata": {},
     "output_type": "execute_result"
    }
   ],
   "source": [
    "top_250[0]"
   ]
  },
  {
   "cell_type": "code",
   "execution_count": 6,
   "metadata": {
    "collapsed": false
   },
   "outputs": [],
   "source": [
    "# Get a list of top 250 movie titles\n",
    "list_of_movies = []\n",
    "\n",
    "for movie in top_250:\n",
    "    list_of_movies.append(movie['tconst'])"
   ]
  },
  {
   "cell_type": "code",
   "execution_count": 7,
   "metadata": {
    "collapsed": false
   },
   "outputs": [
    {
     "data": {
      "text/plain": [
       "[u'tt0111161', u'tt0068646', u'tt0071562', u'tt0468569', u'tt0050083']"
      ]
     },
     "execution_count": 7,
     "metadata": {},
     "output_type": "execute_result"
    }
   ],
   "source": [
    "list_of_movies[0:5]"
   ]
  },
  {
   "cell_type": "code",
   "execution_count": 8,
   "metadata": {
    "collapsed": false
   },
   "outputs": [],
   "source": [
    "# Can also get other information by using IMDBPie, but it's messy\n",
    "title_test = imdb.get_title_by_id(\"tt0468569\")"
   ]
  },
  {
   "cell_type": "code",
   "execution_count": 9,
   "metadata": {
    "collapsed": false,
    "scrolled": true
   },
   "outputs": [
    {
     "data": {
      "text/plain": [
       "u'The Dark Knight'"
      ]
     },
     "execution_count": 9,
     "metadata": {},
     "output_type": "execute_result"
    }
   ],
   "source": [
    "title_test.title"
   ]
  },
  {
   "cell_type": "code",
   "execution_count": 10,
   "metadata": {
    "collapsed": false
   },
   "outputs": [
    {
     "data": {
      "text/plain": [
       "[<Person: u'Christian Bale' (u'nm0000288')>,\n",
       " <Person: u'Heath Ledger' (u'nm0005132')>,\n",
       " <Person: u'Aaron Eckhart' (u'nm0001173')>,\n",
       " <Person: u'Michael Caine' (u'nm0000323')>]"
      ]
     },
     "execution_count": 10,
     "metadata": {},
     "output_type": "execute_result"
    }
   ],
   "source": [
    "title_test.cast_summary"
   ]
  },
  {
   "cell_type": "code",
   "execution_count": 11,
   "metadata": {
    "collapsed": false
   },
   "outputs": [
    {
     "data": {
      "text/plain": [
       "[u'Action', u'Crime', u'Drama', u'Thriller']"
      ]
     },
     "execution_count": 11,
     "metadata": {},
     "output_type": "execute_result"
    }
   ],
   "source": [
    "title_test.genres"
   ]
  },
  {
   "cell_type": "code",
   "execution_count": 12,
   "metadata": {
    "collapsed": false,
    "scrolled": true
   },
   "outputs": [
    {
     "data": {
      "text/plain": [
       "imdbpie.objects.Title"
      ]
     },
     "execution_count": 12,
     "metadata": {},
     "output_type": "execute_result"
    }
   ],
   "source": [
    "type(title_test)"
   ]
  },
  {
   "cell_type": "markdown",
   "metadata": {},
   "source": [
    "### I'm going to use OMDb API instead because the other information about the movie is cleaner\n",
    "\n",
    "I'll use the list of the top 250 movies I generated using IMDb Pie above."
   ]
  },
  {
   "cell_type": "code",
   "execution_count": 13,
   "metadata": {
    "collapsed": true
   },
   "outputs": [],
   "source": [
    "import requests\n",
    "import time\n",
    "import json"
   ]
  },
  {
   "cell_type": "code",
   "execution_count": 14,
   "metadata": {
    "collapsed": false
   },
   "outputs": [],
   "source": [
    "# Test on one movie title\n",
    "r = requests.get('http://www.omdbapi.com/?type=movie&t=the+shawshank+redemption')"
   ]
  },
  {
   "cell_type": "code",
   "execution_count": 15,
   "metadata": {
    "collapsed": false
   },
   "outputs": [
    {
     "data": {
      "text/plain": [
       "<Response [200]>"
      ]
     },
     "execution_count": 15,
     "metadata": {},
     "output_type": "execute_result"
    }
   ],
   "source": [
    "r"
   ]
  },
  {
   "cell_type": "code",
   "execution_count": 16,
   "metadata": {
    "collapsed": false
   },
   "outputs": [
    {
     "data": {
      "text/plain": [
       "{u'Actors': u'Tim Robbins, Morgan Freeman, Bob Gunton, William Sadler',\n",
       " u'Awards': u'Nominated for 7 Oscars. Another 18 wins & 30 nominations.',\n",
       " u'Country': u'USA',\n",
       " u'Director': u'Frank Darabont',\n",
       " u'Genre': u'Crime, Drama',\n",
       " u'Language': u'English',\n",
       " u'Metascore': u'80',\n",
       " u'Plot': u'Two imprisoned men bond over a number of years, finding solace and eventual redemption through acts of common decency.',\n",
       " u'Poster': u'https://images-na.ssl-images-amazon.com/images/M/MV5BODU4MjU4NjIwNl5BMl5BanBnXkFtZTgwMDU2MjEyMDE@._V1_SX300.jpg',\n",
       " u'Rated': u'R',\n",
       " u'Released': u'14 Oct 1994',\n",
       " u'Response': u'True',\n",
       " u'Runtime': u'142 min',\n",
       " u'Title': u'The Shawshank Redemption',\n",
       " u'Type': u'movie',\n",
       " u'Writer': u'Stephen King (short story \"Rita Hayworth and Shawshank Redemption\"), Frank Darabont (screenplay)',\n",
       " u'Year': u'1994',\n",
       " u'imdbID': u'tt0111161',\n",
       " u'imdbRating': u'9.3',\n",
       " u'imdbVotes': u'1,711,064'}"
      ]
     },
     "execution_count": 16,
     "metadata": {},
     "output_type": "execute_result"
    }
   ],
   "source": [
    "r.json()"
   ]
  },
  {
   "cell_type": "code",
   "execution_count": 17,
   "metadata": {
    "collapsed": false
   },
   "outputs": [
    {
     "data": {
      "text/plain": [
       "[u'tt0111161', u'tt0068646', u'tt0071562', u'tt0468569', u'tt0050083']"
      ]
     },
     "execution_count": 17,
     "metadata": {},
     "output_type": "execute_result"
    }
   ],
   "source": [
    "list_of_movies[0:5]"
   ]
  },
  {
   "cell_type": "code",
   "execution_count": 18,
   "metadata": {
    "collapsed": false
   },
   "outputs": [],
   "source": [
    "# # After running the script in the cell below this one the first time, I discovered that OMDb API errors out if \n",
    "# # the length of the movie title is only one character. I added this little thing to the code to work around that \n",
    "\n",
    "# for movie in list_of_movies:\n",
    "#     title = movie.replace(' ', '+')\n",
    "#     if len(title) == 1:\n",
    "#         title = '\"'+title+'\"'\n",
    "#         print title"
   ]
  },
  {
   "cell_type": "code",
   "execution_count": 19,
   "metadata": {
    "collapsed": false
   },
   "outputs": [
    {
     "name": "stdout",
     "output_type": "stream",
     "text": [
      "Finished movie: tt0111161\n",
      "Finished movie: tt0068646\n",
      "Finished movie: tt0071562\n",
      "Finished movie: tt0468569\n",
      "Finished movie: tt0050083\n",
      "Finished movie: tt0108052\n",
      "Finished movie: tt0110912\n",
      "Finished movie: tt0167260\n",
      "Finished movie: tt0060196\n",
      "Finished movie: tt0137523\n",
      "Finished movie: tt0120737\n",
      "Finished movie: tt0080684\n",
      "Finished movie: tt0109830\n",
      "Finished movie: tt1375666\n",
      "Finished movie: tt0167261\n",
      "Finished movie: tt0073486\n",
      "Finished movie: tt0099685\n",
      "Finished movie: tt0133093\n",
      "Finished movie: tt0047478\n",
      "Finished movie: tt0076759\n",
      "Finished movie: tt0317248\n",
      "Finished movie: tt0114369\n",
      "Finished movie: tt0102926\n",
      "Finished movie: tt0038650\n",
      "Finished movie: tt0114814\n",
      "Finished movie: tt0118799\n",
      "Finished movie: tt0110413\n",
      "Finished movie: tt0245429\n",
      "Finished movie: tt0120815\n",
      "Finished movie: tt0064116\n",
      "Finished movie: tt0120586\n",
      "Finished movie: tt0816692\n",
      "Finished movie: tt0034583\n",
      "Finished movie: tt0054215\n",
      "Finished movie: tt0021749\n",
      "Finished movie: tt0082971\n",
      "Finished movie: tt0120689\n",
      "Finished movie: tt1675434\n",
      "Finished movie: tt0027977\n",
      "Finished movie: tt0047396\n",
      "Finished movie: tt0103064\n",
      "Finished movie: tt0407887\n",
      "Finished movie: tt0253474\n",
      "Finished movie: tt0088763\n",
      "Finished movie: tt2582802\n",
      "Finished movie: tt0172495\n",
      "Finished movie: tt0209144\n",
      "Finished movie: tt0078788\n",
      "Finished movie: tt0482571\n",
      "Finished movie: tt0110357\n",
      "Finished movie: tt0078748\n",
      "Finished movie: tt0057012\n",
      "Finished movie: tt0043014\n",
      "Finished movie: tt0032553\n",
      "Finished movie: tt0405094\n",
      "Finished movie: tt0095765\n",
      "Finished movie: tt0050825\n",
      "Finished movie: tt1853728\n",
      "Finished movie: tt0081505\n",
      "Finished movie: tt0095327\n",
      "Finished movie: tt0910970\n",
      "Finished movie: tt1345836\n",
      "Finished movie: tt0169547\n",
      "Finished movie: tt0119698\n",
      "Finished movie: tt0090605\n",
      "Finished movie: tt0364569\n",
      "Finished movie: tt0087843\n",
      "Finished movie: tt0033467\n",
      "Finished movie: tt0082096\n",
      "Finished movie: tt0051201\n",
      "Finished movie: tt0053125\n",
      "Finished movie: tt0052357\n",
      "Finished movie: tt0086190\n",
      "Finished movie: tt0022100\n",
      "Finished movie: tt0105236\n",
      "Finished movie: tt0112573\n",
      "Finished movie: tt0211915\n",
      "Finished movie: tt0180093\n",
      "Finished movie: tt0986264\n",
      "Finished movie: tt0476735\n",
      "Finished movie: tt0066921\n",
      "Finished movie: tt0075314\n",
      "Finished movie: tt0036775\n",
      "Finished movie: tt0056172\n",
      "Finished movie: tt0056592\n",
      "Finished movie: tt0435761\n",
      "Finished movie: tt0338013\n",
      "Finished movie: tt0086879\n",
      "Finished movie: tt0093058\n",
      "Finished movie: tt0109117\n",
      "Finished movie: tt0070735\n",
      "Finished movie: tt0062622\n",
      "Finished movie: tt0040522\n",
      "Finished movie: tt0114709\n",
      "Finished movie: tt0208092\n",
      "Finished movie: tt0045152\n",
      "Finished movie: tt0361748\n",
      "Finished movie: tt0012349\n",
      "Finished movie: tt0071853\n",
      "Finished movie: tt0119488\n",
      "Finished movie: tt0059578\n",
      "Finished movie: tt1187043\n",
      "Finished movie: tt0042876\n",
      "Finished movie: tt0086250\n",
      "Finished movie: tt0053604\n",
      "Finished movie: tt0097576\n",
      "Finished movie: tt1832382\n",
      "Finished movie: tt0017136\n",
      "Finished movie: tt2106476\n",
      "Finished movie: tt0119217\n",
      "Finished movie: tt0042192\n",
      "Finished movie: tt0055630\n",
      "Finished movie: tt0372784\n",
      "Finished movie: tt0040897\n",
      "Finished movie: tt0053291\n",
      "Finished movie: tt1049413\n",
      "Finished movie: tt0105695\n",
      "Finished movie: tt0041959\n",
      "Finished movie: tt0363163\n",
      "Finished movie: tt0081398\n",
      "Finished movie: tt0095016\n",
      "Finished movie: tt0118849\n",
      "Finished movie: tt0057115\n",
      "Finished movie: tt0113277\n",
      "Finished movie: tt0071315\n",
      "Finished movie: tt2096673\n",
      "Finished movie: tt0457430\n",
      "Finished movie: tt0047296\n",
      "Finished movie: tt0096283\n",
      "Finished movie: tt0044741\n",
      "Finished movie: tt3170832\n",
      "Finished movie: tt0089881\n",
      "Finished movie: tt0015864\n",
      "Finished movie: tt0050212\n",
      "Finished movie: tt0031679\n",
      "Finished movie: tt1305806\n",
      "Finished movie: tt0083658\n",
      "Finished movie: tt0050976\n",
      "Finished movie: tt0120735\n",
      "Finished movie: tt0347149\n",
      "Finished movie: tt0112641\n",
      "Finished movie: tt0055031\n",
      "Finished movie: tt0050986\n",
      "Finished movie: tt0019254\n",
      "Finished movie: tt0017925\n",
      "Finished movie: tt0080678\n",
      "Finished movie: tt0268978\n",
      "Finished movie: tt0018455\n",
      "Finished movie: tt1291584\n",
      "Finished movie: tt0993846\n",
      "Finished movie: tt0434409\n",
      "Finished movie: tt1255953\n",
      "Finished movie: tt1205489\n",
      "Finished movie: tt0118715\n",
      "Finished movie: tt0046438\n",
      "Finished movie: tt0077416\n",
      "Finished movie: tt0046912\n",
      "Finished movie: tt0117951\n",
      "Finished movie: tt0031381\n",
      "Finished movie: tt0116282\n",
      "Finished movie: tt0032976\n",
      "Finished movie: tt0266543\n",
      "Finished movie: tt0061512\n",
      "Finished movie: tt0167404\n",
      "Finished movie: tt0892769\n",
      "Finished movie: tt0084787\n",
      "Finished movie: tt2488496\n",
      "Finished movie: tt0477348\n",
      "Finished movie: tt0758758\n",
      "Finished movie: tt0266697\n",
      "Finished movie: tt0978762\n",
      "Finished movie: tt2267998\n",
      "Finished movie: tt0469494\n",
      "Finished movie: tt0091251\n",
      "Finished movie: tt0025316\n",
      "Finished movie: tt0079470\n",
      "Finished movie: tt1979320\n",
      "Finished movie: tt0074896\n",
      "Finished movie: tt0395169\n",
      "Finished movie: tt0091763\n",
      "Finished movie: tt0050783\n",
      "Finished movie: tt0074958\n",
      "Finished movie: tt0046268\n",
      "Finished movie: tt1130884\n",
      "Finished movie: tt1895587\n",
      "Finished movie: tt0033870\n",
      "Finished movie: tt0064115\n",
      "Finished movie: tt0092005\n",
      "Finished movie: tt0107207\n",
      "Finished movie: tt1392190\n",
      "Finished movie: tt0053198\n",
      "Finished movie: tt3011894\n",
      "Finished movie: tt2024544\n",
      "Finished movie: tt0060827\n",
      "Finished movie: tt0052618\n",
      "Finished movie: tt2278388\n",
      "Finished movie: tt0245712\n",
      "Finished movie: tt0405159\n",
      "Finished movie: tt0093779\n",
      "Finished movie: tt0107290\n",
      "Finished movie: tt1028532\n",
      "Finished movie: tt0087544\n",
      "Finished movie: tt0052311\n",
      "Finished movie: tt0079944\n",
      "Finished movie: tt0032551\n",
      "Finished movie: tt0353969\n",
      "Finished movie: tt2948356\n",
      "Finished movie: tt0075686\n",
      "Finished movie: tt0120382\n",
      "Finished movie: tt0112471\n",
      "Finished movie: tt0083987\n",
      "Finished movie: tt0440963\n",
      "Finished movie: tt0046911\n",
      "Finished movie: tt0075148\n",
      "Finished movie: tt0246578\n",
      "Finished movie: tt1201607\n",
      "Finished movie: tt0056801\n",
      "Finished movie: tt0198781\n",
      "Finished movie: tt0032138\n",
      "Finished movie: tt0088247\n",
      "Finished movie: tt0107048\n",
      "Finished movie: tt0114746\n",
      "Finished movie: tt1392214\n",
      "Finished movie: tt0073195\n",
      "Finished movie: tt0036868\n",
      "Finished movie: tt0338564\n",
      "Finished movie: tt0072684\n",
      "Finished movie: tt0113247\n",
      "Finished movie: tt0264464\n",
      "Finished movie: tt0044079\n",
      "Finished movie: tt0401792\n",
      "Finished movie: tt0058946\n",
      "Finished movie: tt0072890\n",
      "Finished movie: tt0041546\n",
      "Finished movie: tt1954470\n",
      "Finished movie: tt0325980\n",
      "Finished movie: tt1865505\n",
      "Finished movie: tt1663202\n",
      "Finished movie: tt1454029\n",
      "Finished movie: tt2084970\n",
      "Finished movie: tt1220719\n",
      "Finished movie: tt3659388\n",
      "Finished movie: tt1431045\n",
      "Finished movie: tt0092067\n",
      "Finished movie: tt0058461\n",
      "Finished movie: tt0046250\n",
      "Finished movie: tt2015381\n",
      "Finished movie: tt0083922\n",
      "Finished movie: tt1504320\n",
      "Finished movie: tt1821480\n"
     ]
    }
   ],
   "source": [
    "movies_json = []\n",
    "\n",
    "for movie in list_of_movies:\n",
    "#     title = movie.replace(' ', '+')\n",
    "    \n",
    "#     # Workaround for one character movies\n",
    "#     if len(title) == 1:\n",
    "#         title = '\"'+title+'\"'\n",
    "\n",
    "    url = 'http://www.omdbapi.com/?i='+movie\n",
    "    r = requests.get(url)\n",
    "    movies_json.append(r.json())\n",
    "    print 'Finished movie:', movie\n",
    "    time.sleep(1)"
   ]
  },
  {
   "cell_type": "code",
   "execution_count": 88,
   "metadata": {
    "collapsed": false
   },
   "outputs": [
    {
     "data": {
      "text/plain": [
       "250"
      ]
     },
     "execution_count": 88,
     "metadata": {},
     "output_type": "execute_result"
    }
   ],
   "source": [
    "len(movies_json)"
   ]
  },
  {
   "cell_type": "code",
   "execution_count": 89,
   "metadata": {
    "collapsed": false
   },
   "outputs": [
    {
     "data": {
      "text/plain": [
       "{u'Actors': u'Tim Robbins, Morgan Freeman, Bob Gunton, William Sadler',\n",
       " u'Awards': u'Nominated for 7 Oscars. Another 18 wins & 30 nominations.',\n",
       " u'Country': u'USA',\n",
       " u'Director': u'Frank Darabont',\n",
       " u'Genre': u'Crime, Drama',\n",
       " u'Language': u'English',\n",
       " u'Metascore': u'80',\n",
       " u'Plot': u'Two imprisoned men bond over a number of years, finding solace and eventual redemption through acts of common decency.',\n",
       " u'Poster': u'https://images-na.ssl-images-amazon.com/images/M/MV5BODU4MjU4NjIwNl5BMl5BanBnXkFtZTgwMDU2MjEyMDE@._V1_SX300.jpg',\n",
       " u'Rated': u'R',\n",
       " u'Released': u'14 Oct 1994',\n",
       " u'Response': u'True',\n",
       " u'Runtime': u'142 min',\n",
       " u'Title': u'The Shawshank Redemption',\n",
       " u'Type': u'movie',\n",
       " u'Writer': u'Stephen King (short story \"Rita Hayworth and Shawshank Redemption\"), Frank Darabont (screenplay)',\n",
       " u'Year': u'1994',\n",
       " u'imdbID': u'tt0111161',\n",
       " u'imdbRating': u'9.3',\n",
       " u'imdbVotes': u'1,711,064'}"
      ]
     },
     "execution_count": 89,
     "metadata": {},
     "output_type": "execute_result"
    }
   ],
   "source": [
    "movies_json[0]"
   ]
  },
  {
   "cell_type": "code",
   "execution_count": 294,
   "metadata": {
    "collapsed": false
   },
   "outputs": [
    {
     "name": "stdout",
     "output_type": "stream",
     "text": [
      "(250, 20)\n"
     ]
    },
    {
     "data": {
      "text/html": [
       "<div>\n",
       "<table border=\"1\" class=\"dataframe\">\n",
       "  <thead>\n",
       "    <tr style=\"text-align: right;\">\n",
       "      <th></th>\n",
       "      <th>Actors</th>\n",
       "      <th>Awards</th>\n",
       "      <th>Country</th>\n",
       "      <th>Director</th>\n",
       "      <th>Genre</th>\n",
       "      <th>Language</th>\n",
       "      <th>Metascore</th>\n",
       "      <th>Plot</th>\n",
       "      <th>Poster</th>\n",
       "      <th>Rated</th>\n",
       "      <th>Released</th>\n",
       "      <th>Response</th>\n",
       "      <th>Runtime</th>\n",
       "      <th>Title</th>\n",
       "      <th>Type</th>\n",
       "      <th>Writer</th>\n",
       "      <th>Year</th>\n",
       "      <th>imdbID</th>\n",
       "      <th>imdbRating</th>\n",
       "      <th>imdbVotes</th>\n",
       "    </tr>\n",
       "  </thead>\n",
       "  <tbody>\n",
       "    <tr>\n",
       "      <th>0</th>\n",
       "      <td>Tim Robbins, Morgan Freeman, Bob Gunton, Willi...</td>\n",
       "      <td>Nominated for 7 Oscars. Another 18 wins &amp; 30 n...</td>\n",
       "      <td>USA</td>\n",
       "      <td>Frank Darabont</td>\n",
       "      <td>Crime, Drama</td>\n",
       "      <td>English</td>\n",
       "      <td>80</td>\n",
       "      <td>Two imprisoned men bond over a number of years...</td>\n",
       "      <td>https://images-na.ssl-images-amazon.com/images...</td>\n",
       "      <td>R</td>\n",
       "      <td>14 Oct 1994</td>\n",
       "      <td>True</td>\n",
       "      <td>142 min</td>\n",
       "      <td>The Shawshank Redemption</td>\n",
       "      <td>movie</td>\n",
       "      <td>Stephen King (short story \"Rita Hayworth and S...</td>\n",
       "      <td>1994</td>\n",
       "      <td>tt0111161</td>\n",
       "      <td>9.3</td>\n",
       "      <td>1,711,064</td>\n",
       "    </tr>\n",
       "    <tr>\n",
       "      <th>1</th>\n",
       "      <td>Marlon Brando, Al Pacino, James Caan, Richard ...</td>\n",
       "      <td>Won 3 Oscars. Another 23 wins &amp; 27 nominations.</td>\n",
       "      <td>USA</td>\n",
       "      <td>Francis Ford Coppola</td>\n",
       "      <td>Crime, Drama</td>\n",
       "      <td>English, Italian, Latin</td>\n",
       "      <td>100</td>\n",
       "      <td>The aging patriarch of an organized crime dyna...</td>\n",
       "      <td>https://images-na.ssl-images-amazon.com/images...</td>\n",
       "      <td>R</td>\n",
       "      <td>24 Mar 1972</td>\n",
       "      <td>True</td>\n",
       "      <td>175 min</td>\n",
       "      <td>The Godfather</td>\n",
       "      <td>movie</td>\n",
       "      <td>Mario Puzo (screenplay), Francis Ford Coppola ...</td>\n",
       "      <td>1972</td>\n",
       "      <td>tt0068646</td>\n",
       "      <td>9.2</td>\n",
       "      <td>1,177,812</td>\n",
       "    </tr>\n",
       "  </tbody>\n",
       "</table>\n",
       "</div>"
      ],
      "text/plain": [
       "                                              Actors  \\\n",
       "0  Tim Robbins, Morgan Freeman, Bob Gunton, Willi...   \n",
       "1  Marlon Brando, Al Pacino, James Caan, Richard ...   \n",
       "\n",
       "                                              Awards Country  \\\n",
       "0  Nominated for 7 Oscars. Another 18 wins & 30 n...     USA   \n",
       "1    Won 3 Oscars. Another 23 wins & 27 nominations.     USA   \n",
       "\n",
       "               Director         Genre                 Language Metascore  \\\n",
       "0        Frank Darabont  Crime, Drama                  English        80   \n",
       "1  Francis Ford Coppola  Crime, Drama  English, Italian, Latin       100   \n",
       "\n",
       "                                                Plot  \\\n",
       "0  Two imprisoned men bond over a number of years...   \n",
       "1  The aging patriarch of an organized crime dyna...   \n",
       "\n",
       "                                              Poster Rated     Released  \\\n",
       "0  https://images-na.ssl-images-amazon.com/images...     R  14 Oct 1994   \n",
       "1  https://images-na.ssl-images-amazon.com/images...     R  24 Mar 1972   \n",
       "\n",
       "  Response  Runtime                     Title   Type  \\\n",
       "0     True  142 min  The Shawshank Redemption  movie   \n",
       "1     True  175 min             The Godfather  movie   \n",
       "\n",
       "                                              Writer  Year     imdbID  \\\n",
       "0  Stephen King (short story \"Rita Hayworth and S...  1994  tt0111161   \n",
       "1  Mario Puzo (screenplay), Francis Ford Coppola ...  1972  tt0068646   \n",
       "\n",
       "  imdbRating  imdbVotes  \n",
       "0        9.3  1,711,064  \n",
       "1        9.2  1,177,812  "
      ]
     },
     "execution_count": 294,
     "metadata": {},
     "output_type": "execute_result"
    }
   ],
   "source": [
    "df = pd.DataFrame(movies_json)\n",
    "print df.shape\n",
    "df.head(2)"
   ]
  },
  {
   "cell_type": "code",
   "execution_count": 295,
   "metadata": {
    "collapsed": false
   },
   "outputs": [
    {
     "data": {
      "text/plain": [
       "Actors        False\n",
       "Awards        False\n",
       "Country       False\n",
       "Director      False\n",
       "Genre         False\n",
       "Language      False\n",
       "Metascore     False\n",
       "Plot          False\n",
       "Poster        False\n",
       "Rated         False\n",
       "Released      False\n",
       "Response      False\n",
       "Runtime       False\n",
       "Title         False\n",
       "Type          False\n",
       "Writer        False\n",
       "Year          False\n",
       "imdbID        False\n",
       "imdbRating    False\n",
       "imdbVotes     False\n",
       "dtype: bool"
      ]
     },
     "execution_count": 295,
     "metadata": {},
     "output_type": "execute_result"
    }
   ],
   "source": [
    "df.isnull().any()"
   ]
  },
  {
   "cell_type": "code",
   "execution_count": 296,
   "metadata": {
    "collapsed": false
   },
   "outputs": [],
   "source": [
    "with open('data.json', 'w') as outfile:\n",
    "    json.dump(movies_json, outfile)"
   ]
  },
  {
   "cell_type": "code",
   "execution_count": 297,
   "metadata": {
    "collapsed": true
   },
   "outputs": [],
   "source": [
    "with open('data.json') as data_file:    \n",
    "    data = json.load(data_file)"
   ]
  },
  {
   "cell_type": "code",
   "execution_count": 298,
   "metadata": {
    "collapsed": false
   },
   "outputs": [
    {
     "data": {
      "text/html": [
       "<div>\n",
       "<table border=\"1\" class=\"dataframe\">\n",
       "  <thead>\n",
       "    <tr style=\"text-align: right;\">\n",
       "      <th></th>\n",
       "      <th>Actors</th>\n",
       "      <th>Awards</th>\n",
       "      <th>Country</th>\n",
       "      <th>Director</th>\n",
       "      <th>Genre</th>\n",
       "      <th>Language</th>\n",
       "      <th>Metascore</th>\n",
       "      <th>Plot</th>\n",
       "      <th>Poster</th>\n",
       "      <th>Rated</th>\n",
       "      <th>Released</th>\n",
       "      <th>Response</th>\n",
       "      <th>Runtime</th>\n",
       "      <th>Title</th>\n",
       "      <th>Type</th>\n",
       "      <th>Writer</th>\n",
       "      <th>Year</th>\n",
       "      <th>imdbID</th>\n",
       "      <th>imdbRating</th>\n",
       "      <th>imdbVotes</th>\n",
       "    </tr>\n",
       "  </thead>\n",
       "  <tbody>\n",
       "    <tr>\n",
       "      <th>0</th>\n",
       "      <td>Tim Robbins, Morgan Freeman, Bob Gunton, Willi...</td>\n",
       "      <td>Nominated for 7 Oscars. Another 18 wins &amp; 30 n...</td>\n",
       "      <td>USA</td>\n",
       "      <td>Frank Darabont</td>\n",
       "      <td>Crime, Drama</td>\n",
       "      <td>English</td>\n",
       "      <td>80</td>\n",
       "      <td>Two imprisoned men bond over a number of years...</td>\n",
       "      <td>https://images-na.ssl-images-amazon.com/images...</td>\n",
       "      <td>R</td>\n",
       "      <td>14 Oct 1994</td>\n",
       "      <td>True</td>\n",
       "      <td>142 min</td>\n",
       "      <td>The Shawshank Redemption</td>\n",
       "      <td>movie</td>\n",
       "      <td>Stephen King (short story \"Rita Hayworth and S...</td>\n",
       "      <td>1994</td>\n",
       "      <td>tt0111161</td>\n",
       "      <td>9.3</td>\n",
       "      <td>1,711,064</td>\n",
       "    </tr>\n",
       "    <tr>\n",
       "      <th>1</th>\n",
       "      <td>Marlon Brando, Al Pacino, James Caan, Richard ...</td>\n",
       "      <td>Won 3 Oscars. Another 23 wins &amp; 27 nominations.</td>\n",
       "      <td>USA</td>\n",
       "      <td>Francis Ford Coppola</td>\n",
       "      <td>Crime, Drama</td>\n",
       "      <td>English, Italian, Latin</td>\n",
       "      <td>100</td>\n",
       "      <td>The aging patriarch of an organized crime dyna...</td>\n",
       "      <td>https://images-na.ssl-images-amazon.com/images...</td>\n",
       "      <td>R</td>\n",
       "      <td>24 Mar 1972</td>\n",
       "      <td>True</td>\n",
       "      <td>175 min</td>\n",
       "      <td>The Godfather</td>\n",
       "      <td>movie</td>\n",
       "      <td>Mario Puzo (screenplay), Francis Ford Coppola ...</td>\n",
       "      <td>1972</td>\n",
       "      <td>tt0068646</td>\n",
       "      <td>9.2</td>\n",
       "      <td>1,177,812</td>\n",
       "    </tr>\n",
       "    <tr>\n",
       "      <th>2</th>\n",
       "      <td>Al Pacino, Robert Duvall, Diane Keaton, Robert...</td>\n",
       "      <td>Won 6 Oscars. Another 10 wins &amp; 20 nominations.</td>\n",
       "      <td>USA</td>\n",
       "      <td>Francis Ford Coppola</td>\n",
       "      <td>Crime, Drama</td>\n",
       "      <td>English, Italian, Spanish, Latin, Sicilian</td>\n",
       "      <td>80</td>\n",
       "      <td>The early life and career of Vito Corleone in ...</td>\n",
       "      <td>https://images-na.ssl-images-amazon.com/images...</td>\n",
       "      <td>R</td>\n",
       "      <td>20 Dec 1974</td>\n",
       "      <td>True</td>\n",
       "      <td>202 min</td>\n",
       "      <td>The Godfather: Part II</td>\n",
       "      <td>movie</td>\n",
       "      <td>Francis Ford Coppola (screenplay), Mario Puzo ...</td>\n",
       "      <td>1974</td>\n",
       "      <td>tt0071562</td>\n",
       "      <td>9.0</td>\n",
       "      <td>807,734</td>\n",
       "    </tr>\n",
       "    <tr>\n",
       "      <th>3</th>\n",
       "      <td>Christian Bale, Heath Ledger, Aaron Eckhart, M...</td>\n",
       "      <td>Won 2 Oscars. Another 146 wins &amp; 142 nominations.</td>\n",
       "      <td>USA, UK</td>\n",
       "      <td>Christopher Nolan</td>\n",
       "      <td>Action, Crime, Drama</td>\n",
       "      <td>English, Mandarin</td>\n",
       "      <td>82</td>\n",
       "      <td>When the menace known as the Joker wreaks havo...</td>\n",
       "      <td>https://images-na.ssl-images-amazon.com/images...</td>\n",
       "      <td>PG-13</td>\n",
       "      <td>18 Jul 2008</td>\n",
       "      <td>True</td>\n",
       "      <td>152 min</td>\n",
       "      <td>The Dark Knight</td>\n",
       "      <td>movie</td>\n",
       "      <td>Jonathan Nolan (screenplay), Christopher Nolan...</td>\n",
       "      <td>2008</td>\n",
       "      <td>tt0468569</td>\n",
       "      <td>9.0</td>\n",
       "      <td>1,699,835</td>\n",
       "    </tr>\n",
       "    <tr>\n",
       "      <th>4</th>\n",
       "      <td>Martin Balsam, John Fiedler, Lee J. Cobb, E.G....</td>\n",
       "      <td>Nominated for 3 Oscars. Another 16 wins &amp; 8 no...</td>\n",
       "      <td>USA</td>\n",
       "      <td>Sidney Lumet</td>\n",
       "      <td>Crime, Drama</td>\n",
       "      <td>English</td>\n",
       "      <td>N/A</td>\n",
       "      <td>A jury holdout attempts to prevent a miscarria...</td>\n",
       "      <td>https://images-na.ssl-images-amazon.com/images...</td>\n",
       "      <td>APPROVED</td>\n",
       "      <td>01 Apr 1957</td>\n",
       "      <td>True</td>\n",
       "      <td>96 min</td>\n",
       "      <td>12 Angry Men</td>\n",
       "      <td>movie</td>\n",
       "      <td>Reginald Rose (story), Reginald Rose (screenplay)</td>\n",
       "      <td>1957</td>\n",
       "      <td>tt0050083</td>\n",
       "      <td>8.9</td>\n",
       "      <td>455,987</td>\n",
       "    </tr>\n",
       "  </tbody>\n",
       "</table>\n",
       "</div>"
      ],
      "text/plain": [
       "                                              Actors  \\\n",
       "0  Tim Robbins, Morgan Freeman, Bob Gunton, Willi...   \n",
       "1  Marlon Brando, Al Pacino, James Caan, Richard ...   \n",
       "2  Al Pacino, Robert Duvall, Diane Keaton, Robert...   \n",
       "3  Christian Bale, Heath Ledger, Aaron Eckhart, M...   \n",
       "4  Martin Balsam, John Fiedler, Lee J. Cobb, E.G....   \n",
       "\n",
       "                                              Awards  Country  \\\n",
       "0  Nominated for 7 Oscars. Another 18 wins & 30 n...      USA   \n",
       "1    Won 3 Oscars. Another 23 wins & 27 nominations.      USA   \n",
       "2    Won 6 Oscars. Another 10 wins & 20 nominations.      USA   \n",
       "3  Won 2 Oscars. Another 146 wins & 142 nominations.  USA, UK   \n",
       "4  Nominated for 3 Oscars. Another 16 wins & 8 no...      USA   \n",
       "\n",
       "               Director                 Genre  \\\n",
       "0        Frank Darabont          Crime, Drama   \n",
       "1  Francis Ford Coppola          Crime, Drama   \n",
       "2  Francis Ford Coppola          Crime, Drama   \n",
       "3     Christopher Nolan  Action, Crime, Drama   \n",
       "4          Sidney Lumet          Crime, Drama   \n",
       "\n",
       "                                     Language Metascore  \\\n",
       "0                                     English        80   \n",
       "1                     English, Italian, Latin       100   \n",
       "2  English, Italian, Spanish, Latin, Sicilian        80   \n",
       "3                           English, Mandarin        82   \n",
       "4                                     English       N/A   \n",
       "\n",
       "                                                Plot  \\\n",
       "0  Two imprisoned men bond over a number of years...   \n",
       "1  The aging patriarch of an organized crime dyna...   \n",
       "2  The early life and career of Vito Corleone in ...   \n",
       "3  When the menace known as the Joker wreaks havo...   \n",
       "4  A jury holdout attempts to prevent a miscarria...   \n",
       "\n",
       "                                              Poster     Rated     Released  \\\n",
       "0  https://images-na.ssl-images-amazon.com/images...         R  14 Oct 1994   \n",
       "1  https://images-na.ssl-images-amazon.com/images...         R  24 Mar 1972   \n",
       "2  https://images-na.ssl-images-amazon.com/images...         R  20 Dec 1974   \n",
       "3  https://images-na.ssl-images-amazon.com/images...     PG-13  18 Jul 2008   \n",
       "4  https://images-na.ssl-images-amazon.com/images...  APPROVED  01 Apr 1957   \n",
       "\n",
       "  Response  Runtime                     Title   Type  \\\n",
       "0     True  142 min  The Shawshank Redemption  movie   \n",
       "1     True  175 min             The Godfather  movie   \n",
       "2     True  202 min    The Godfather: Part II  movie   \n",
       "3     True  152 min           The Dark Knight  movie   \n",
       "4     True   96 min              12 Angry Men  movie   \n",
       "\n",
       "                                              Writer  Year     imdbID  \\\n",
       "0  Stephen King (short story \"Rita Hayworth and S...  1994  tt0111161   \n",
       "1  Mario Puzo (screenplay), Francis Ford Coppola ...  1972  tt0068646   \n",
       "2  Francis Ford Coppola (screenplay), Mario Puzo ...  1974  tt0071562   \n",
       "3  Jonathan Nolan (screenplay), Christopher Nolan...  2008  tt0468569   \n",
       "4  Reginald Rose (story), Reginald Rose (screenplay)  1957  tt0050083   \n",
       "\n",
       "  imdbRating  imdbVotes  \n",
       "0        9.3  1,711,064  \n",
       "1        9.2  1,177,812  \n",
       "2        9.0    807,734  \n",
       "3        9.0  1,699,835  \n",
       "4        8.9    455,987  "
      ]
     },
     "execution_count": 298,
     "metadata": {},
     "output_type": "execute_result"
    }
   ],
   "source": [
    "df = pd.DataFrame(data)\n",
    "df.head()"
   ]
  },
  {
   "cell_type": "code",
   "execution_count": 299,
   "metadata": {
    "collapsed": false,
    "scrolled": false
   },
   "outputs": [],
   "source": [
    "# Saving to csv so I don't have to generate data again\n",
    "df.to_csv('dirty_data.csv', encoding='utf-8', index=False)"
   ]
  },
  {
   "cell_type": "code",
   "execution_count": 300,
   "metadata": {
    "collapsed": false
   },
   "outputs": [
    {
     "name": "stdout",
     "output_type": "stream",
     "text": [
      "(250, 20)\n"
     ]
    },
    {
     "data": {
      "text/html": [
       "<div>\n",
       "<table border=\"1\" class=\"dataframe\">\n",
       "  <thead>\n",
       "    <tr style=\"text-align: right;\">\n",
       "      <th></th>\n",
       "      <th>Actors</th>\n",
       "      <th>Awards</th>\n",
       "      <th>Country</th>\n",
       "      <th>Director</th>\n",
       "      <th>Genre</th>\n",
       "      <th>Language</th>\n",
       "      <th>Metascore</th>\n",
       "      <th>Plot</th>\n",
       "      <th>Poster</th>\n",
       "      <th>Rated</th>\n",
       "      <th>Released</th>\n",
       "      <th>Response</th>\n",
       "      <th>Runtime</th>\n",
       "      <th>Title</th>\n",
       "      <th>Type</th>\n",
       "      <th>Writer</th>\n",
       "      <th>Year</th>\n",
       "      <th>imdbID</th>\n",
       "      <th>imdbRating</th>\n",
       "      <th>imdbVotes</th>\n",
       "    </tr>\n",
       "  </thead>\n",
       "  <tbody>\n",
       "    <tr>\n",
       "      <th>0</th>\n",
       "      <td>Tim Robbins, Morgan Freeman, Bob Gunton, Willi...</td>\n",
       "      <td>Nominated for 7 Oscars. Another 18 wins &amp; 30 n...</td>\n",
       "      <td>USA</td>\n",
       "      <td>Frank Darabont</td>\n",
       "      <td>Crime, Drama</td>\n",
       "      <td>English</td>\n",
       "      <td>80.0</td>\n",
       "      <td>Two imprisoned men bond over a number of years...</td>\n",
       "      <td>https://images-na.ssl-images-amazon.com/images...</td>\n",
       "      <td>R</td>\n",
       "      <td>14 Oct 1994</td>\n",
       "      <td>True</td>\n",
       "      <td>142 min</td>\n",
       "      <td>The Shawshank Redemption</td>\n",
       "      <td>movie</td>\n",
       "      <td>Stephen King (short story \"Rita Hayworth and S...</td>\n",
       "      <td>1994</td>\n",
       "      <td>tt0111161</td>\n",
       "      <td>9.3</td>\n",
       "      <td>1,711,064</td>\n",
       "    </tr>\n",
       "    <tr>\n",
       "      <th>1</th>\n",
       "      <td>Marlon Brando, Al Pacino, James Caan, Richard ...</td>\n",
       "      <td>Won 3 Oscars. Another 23 wins &amp; 27 nominations.</td>\n",
       "      <td>USA</td>\n",
       "      <td>Francis Ford Coppola</td>\n",
       "      <td>Crime, Drama</td>\n",
       "      <td>English, Italian, Latin</td>\n",
       "      <td>100.0</td>\n",
       "      <td>The aging patriarch of an organized crime dyna...</td>\n",
       "      <td>https://images-na.ssl-images-amazon.com/images...</td>\n",
       "      <td>R</td>\n",
       "      <td>24 Mar 1972</td>\n",
       "      <td>True</td>\n",
       "      <td>175 min</td>\n",
       "      <td>The Godfather</td>\n",
       "      <td>movie</td>\n",
       "      <td>Mario Puzo (screenplay), Francis Ford Coppola ...</td>\n",
       "      <td>1972</td>\n",
       "      <td>tt0068646</td>\n",
       "      <td>9.2</td>\n",
       "      <td>1,177,812</td>\n",
       "    </tr>\n",
       "    <tr>\n",
       "      <th>2</th>\n",
       "      <td>Al Pacino, Robert Duvall, Diane Keaton, Robert...</td>\n",
       "      <td>Won 6 Oscars. Another 10 wins &amp; 20 nominations.</td>\n",
       "      <td>USA</td>\n",
       "      <td>Francis Ford Coppola</td>\n",
       "      <td>Crime, Drama</td>\n",
       "      <td>English, Italian, Spanish, Latin, Sicilian</td>\n",
       "      <td>80.0</td>\n",
       "      <td>The early life and career of Vito Corleone in ...</td>\n",
       "      <td>https://images-na.ssl-images-amazon.com/images...</td>\n",
       "      <td>R</td>\n",
       "      <td>20 Dec 1974</td>\n",
       "      <td>True</td>\n",
       "      <td>202 min</td>\n",
       "      <td>The Godfather: Part II</td>\n",
       "      <td>movie</td>\n",
       "      <td>Francis Ford Coppola (screenplay), Mario Puzo ...</td>\n",
       "      <td>1974</td>\n",
       "      <td>tt0071562</td>\n",
       "      <td>9.0</td>\n",
       "      <td>807,734</td>\n",
       "    </tr>\n",
       "    <tr>\n",
       "      <th>3</th>\n",
       "      <td>Christian Bale, Heath Ledger, Aaron Eckhart, M...</td>\n",
       "      <td>Won 2 Oscars. Another 146 wins &amp; 142 nominations.</td>\n",
       "      <td>USA, UK</td>\n",
       "      <td>Christopher Nolan</td>\n",
       "      <td>Action, Crime, Drama</td>\n",
       "      <td>English, Mandarin</td>\n",
       "      <td>82.0</td>\n",
       "      <td>When the menace known as the Joker wreaks havo...</td>\n",
       "      <td>https://images-na.ssl-images-amazon.com/images...</td>\n",
       "      <td>PG-13</td>\n",
       "      <td>18 Jul 2008</td>\n",
       "      <td>True</td>\n",
       "      <td>152 min</td>\n",
       "      <td>The Dark Knight</td>\n",
       "      <td>movie</td>\n",
       "      <td>Jonathan Nolan (screenplay), Christopher Nolan...</td>\n",
       "      <td>2008</td>\n",
       "      <td>tt0468569</td>\n",
       "      <td>9.0</td>\n",
       "      <td>1,699,835</td>\n",
       "    </tr>\n",
       "    <tr>\n",
       "      <th>4</th>\n",
       "      <td>Martin Balsam, John Fiedler, Lee J. Cobb, E.G....</td>\n",
       "      <td>Nominated for 3 Oscars. Another 16 wins &amp; 8 no...</td>\n",
       "      <td>USA</td>\n",
       "      <td>Sidney Lumet</td>\n",
       "      <td>Crime, Drama</td>\n",
       "      <td>English</td>\n",
       "      <td>NaN</td>\n",
       "      <td>A jury holdout attempts to prevent a miscarria...</td>\n",
       "      <td>https://images-na.ssl-images-amazon.com/images...</td>\n",
       "      <td>APPROVED</td>\n",
       "      <td>01 Apr 1957</td>\n",
       "      <td>True</td>\n",
       "      <td>96 min</td>\n",
       "      <td>12 Angry Men</td>\n",
       "      <td>movie</td>\n",
       "      <td>Reginald Rose (story), Reginald Rose (screenplay)</td>\n",
       "      <td>1957</td>\n",
       "      <td>tt0050083</td>\n",
       "      <td>8.9</td>\n",
       "      <td>455,987</td>\n",
       "    </tr>\n",
       "  </tbody>\n",
       "</table>\n",
       "</div>"
      ],
      "text/plain": [
       "                                              Actors  \\\n",
       "0  Tim Robbins, Morgan Freeman, Bob Gunton, Willi...   \n",
       "1  Marlon Brando, Al Pacino, James Caan, Richard ...   \n",
       "2  Al Pacino, Robert Duvall, Diane Keaton, Robert...   \n",
       "3  Christian Bale, Heath Ledger, Aaron Eckhart, M...   \n",
       "4  Martin Balsam, John Fiedler, Lee J. Cobb, E.G....   \n",
       "\n",
       "                                              Awards  Country  \\\n",
       "0  Nominated for 7 Oscars. Another 18 wins & 30 n...      USA   \n",
       "1    Won 3 Oscars. Another 23 wins & 27 nominations.      USA   \n",
       "2    Won 6 Oscars. Another 10 wins & 20 nominations.      USA   \n",
       "3  Won 2 Oscars. Another 146 wins & 142 nominations.  USA, UK   \n",
       "4  Nominated for 3 Oscars. Another 16 wins & 8 no...      USA   \n",
       "\n",
       "               Director                 Genre  \\\n",
       "0        Frank Darabont          Crime, Drama   \n",
       "1  Francis Ford Coppola          Crime, Drama   \n",
       "2  Francis Ford Coppola          Crime, Drama   \n",
       "3     Christopher Nolan  Action, Crime, Drama   \n",
       "4          Sidney Lumet          Crime, Drama   \n",
       "\n",
       "                                     Language  Metascore  \\\n",
       "0                                     English       80.0   \n",
       "1                     English, Italian, Latin      100.0   \n",
       "2  English, Italian, Spanish, Latin, Sicilian       80.0   \n",
       "3                           English, Mandarin       82.0   \n",
       "4                                     English        NaN   \n",
       "\n",
       "                                                Plot  \\\n",
       "0  Two imprisoned men bond over a number of years...   \n",
       "1  The aging patriarch of an organized crime dyna...   \n",
       "2  The early life and career of Vito Corleone in ...   \n",
       "3  When the menace known as the Joker wreaks havo...   \n",
       "4  A jury holdout attempts to prevent a miscarria...   \n",
       "\n",
       "                                              Poster     Rated     Released  \\\n",
       "0  https://images-na.ssl-images-amazon.com/images...         R  14 Oct 1994   \n",
       "1  https://images-na.ssl-images-amazon.com/images...         R  24 Mar 1972   \n",
       "2  https://images-na.ssl-images-amazon.com/images...         R  20 Dec 1974   \n",
       "3  https://images-na.ssl-images-amazon.com/images...     PG-13  18 Jul 2008   \n",
       "4  https://images-na.ssl-images-amazon.com/images...  APPROVED  01 Apr 1957   \n",
       "\n",
       "  Response  Runtime                     Title   Type  \\\n",
       "0     True  142 min  The Shawshank Redemption  movie   \n",
       "1     True  175 min             The Godfather  movie   \n",
       "2     True  202 min    The Godfather: Part II  movie   \n",
       "3     True  152 min           The Dark Knight  movie   \n",
       "4     True   96 min              12 Angry Men  movie   \n",
       "\n",
       "                                              Writer  Year     imdbID  \\\n",
       "0  Stephen King (short story \"Rita Hayworth and S...  1994  tt0111161   \n",
       "1  Mario Puzo (screenplay), Francis Ford Coppola ...  1972  tt0068646   \n",
       "2  Francis Ford Coppola (screenplay), Mario Puzo ...  1974  tt0071562   \n",
       "3  Jonathan Nolan (screenplay), Christopher Nolan...  2008  tt0468569   \n",
       "4  Reginald Rose (story), Reginald Rose (screenplay)  1957  tt0050083   \n",
       "\n",
       "   imdbRating  imdbVotes  \n",
       "0         9.3  1,711,064  \n",
       "1         9.2  1,177,812  \n",
       "2         9.0    807,734  \n",
       "3         9.0  1,699,835  \n",
       "4         8.9    455,987  "
      ]
     },
     "execution_count": 300,
     "metadata": {},
     "output_type": "execute_result"
    }
   ],
   "source": [
    "df = pd.read_csv('dirty_data.csv')\n",
    "print df.shape\n",
    "df.head()"
   ]
  },
  {
   "cell_type": "code",
   "execution_count": 302,
   "metadata": {
    "collapsed": false
   },
   "outputs": [
    {
     "data": {
      "text/plain": [
       "Actors        False\n",
       "Awards         True\n",
       "Country       False\n",
       "Director      False\n",
       "Genre         False\n",
       "Language       True\n",
       "Metascore      True\n",
       "Plot          False\n",
       "Poster         True\n",
       "Rated          True\n",
       "Released       True\n",
       "Response      False\n",
       "Runtime       False\n",
       "Title         False\n",
       "Type          False\n",
       "Writer        False\n",
       "Year          False\n",
       "imdbID        False\n",
       "imdbRating    False\n",
       "imdbVotes     False\n",
       "dtype: bool"
      ]
     },
     "execution_count": 302,
     "metadata": {},
     "output_type": "execute_result"
    }
   ],
   "source": [
    "df.isnull().any()"
   ]
  },
  {
   "cell_type": "code",
   "execution_count": 303,
   "metadata": {
    "collapsed": false
   },
   "outputs": [],
   "source": [
    "# for col in df:\n",
    "#     print df[col].isnull().value_counts()\n",
    "#     print ''"
   ]
  },
  {
   "cell_type": "code",
   "execution_count": 304,
   "metadata": {
    "collapsed": false,
    "scrolled": false
   },
   "outputs": [
    {
     "data": {
      "text/plain": [
       "Actors         object\n",
       "Awards         object\n",
       "Country        object\n",
       "Director       object\n",
       "Genre          object\n",
       "Language       object\n",
       "Metascore     float64\n",
       "Plot           object\n",
       "Poster         object\n",
       "Rated          object\n",
       "Released       object\n",
       "Response         bool\n",
       "Runtime        object\n",
       "Title          object\n",
       "Type           object\n",
       "Writer         object\n",
       "Year            int64\n",
       "imdbID         object\n",
       "imdbRating    float64\n",
       "imdbVotes      object\n",
       "dtype: object"
      ]
     },
     "execution_count": 304,
     "metadata": {},
     "output_type": "execute_result"
    }
   ],
   "source": [
    "df.dtypes"
   ]
  },
  {
   "cell_type": "code",
   "execution_count": null,
   "metadata": {
    "collapsed": false
   },
   "outputs": [],
   "source": []
  },
  {
   "cell_type": "code",
   "execution_count": null,
   "metadata": {
    "collapsed": true
   },
   "outputs": [],
   "source": []
  },
  {
   "cell_type": "code",
   "execution_count": null,
   "metadata": {
    "collapsed": true
   },
   "outputs": [],
   "source": []
  },
  {
   "cell_type": "code",
   "execution_count": null,
   "metadata": {
    "collapsed": true
   },
   "outputs": [],
   "source": []
  },
  {
   "cell_type": "code",
   "execution_count": null,
   "metadata": {
    "collapsed": true
   },
   "outputs": [],
   "source": []
  },
  {
   "cell_type": "code",
   "execution_count": 305,
   "metadata": {
    "collapsed": true
   },
   "outputs": [],
   "source": [
    "df['Year'] = df['Year'].astype(int)"
   ]
  },
  {
   "cell_type": "code",
   "execution_count": 306,
   "metadata": {
    "collapsed": false
   },
   "outputs": [],
   "source": [
    "df['imdbVotes'] = df['imdbVotes'].str.replace(',', '').astype(int)"
   ]
  },
  {
   "cell_type": "code",
   "execution_count": 307,
   "metadata": {
    "collapsed": false
   },
   "outputs": [],
   "source": [
    "df['Runtime'] = df['Runtime'].str.replace(' min', '').astype(float)"
   ]
  },
  {
   "cell_type": "code",
   "execution_count": 308,
   "metadata": {
    "collapsed": false
   },
   "outputs": [],
   "source": [
    "# df['Released'] = df['Released'].str.encode('utf-8')"
   ]
  },
  {
   "cell_type": "code",
   "execution_count": 309,
   "metadata": {
    "collapsed": false
   },
   "outputs": [],
   "source": [
    "df['Released'] = pd.to_datetime(df['Released'])"
   ]
  },
  {
   "cell_type": "code",
   "execution_count": 310,
   "metadata": {
    "collapsed": false
   },
   "outputs": [],
   "source": [
    "df['imdbRating'] = df['imdbRating'].astype(float)"
   ]
  },
  {
   "cell_type": "code",
   "execution_count": 317,
   "metadata": {
    "collapsed": false
   },
   "outputs": [
    {
     "data": {
      "text/plain": [
       "Actors                    object\n",
       "Awards                    object\n",
       "Country                   object\n",
       "Director                  object\n",
       "Genre                     object\n",
       "Language                  object\n",
       "Metascore                float64\n",
       "Plot                      object\n",
       "Poster                    object\n",
       "Rated                     object\n",
       "Released          datetime64[ns]\n",
       "Response                    bool\n",
       "Runtime                  float64\n",
       "Title                     object\n",
       "Type                      object\n",
       "Writer                    object\n",
       "Year                       int64\n",
       "imdbID                    object\n",
       "imdbRating               float64\n",
       "imdbVotes                  int64\n",
       "is_high_rating             int64\n",
       "dtype: object"
      ]
     },
     "execution_count": 317,
     "metadata": {},
     "output_type": "execute_result"
    }
   ],
   "source": [
    "df.dtypes"
   ]
  },
  {
   "cell_type": "code",
   "execution_count": 313,
   "metadata": {
    "collapsed": false
   },
   "outputs": [],
   "source": [
    "# Define a high rating as above the median, in order to make this a classification problem\n",
    "# I originally tried using RandomForestRegressor (and others) to predict the score, but the results were really bad\n",
    "df['is_high_rating'] = df['imdbRating'].apply(lambda x: 1 if x >= np.median(df['imdbRating']) else 0)"
   ]
  },
  {
   "cell_type": "code",
   "execution_count": 314,
   "metadata": {
    "collapsed": false
   },
   "outputs": [
    {
     "data": {
      "text/plain": [
       "count    250.000000\n",
       "mean       0.524000\n",
       "std        0.500426\n",
       "min        0.000000\n",
       "25%        0.000000\n",
       "50%        1.000000\n",
       "75%        1.000000\n",
       "max        1.000000\n",
       "Name: is_high_rating, dtype: float64"
      ]
     },
     "execution_count": 314,
     "metadata": {},
     "output_type": "execute_result"
    }
   ],
   "source": [
    "df['is_high_rating'].describe()"
   ]
  },
  {
   "cell_type": "code",
   "execution_count": 318,
   "metadata": {
    "collapsed": false
   },
   "outputs": [
    {
     "name": "stderr",
     "output_type": "stream",
     "text": [
      "/home/nick/anaconda2/lib/python2.7/site-packages/ipykernel/__main__.py:4: SettingWithCopyWarning: \n",
      "A value is trying to be set on a copy of a slice from a DataFrame\n",
      "\n",
      "See the caveats in the documentation: http://pandas.pydata.org/pandas-docs/stable/indexing.html#indexing-view-versus-copy\n",
      "/home/nick/anaconda2/lib/python2.7/site-packages/pandas/core/indexing.py:132: SettingWithCopyWarning: \n",
      "A value is trying to be set on a copy of a slice from a DataFrame\n",
      "\n",
      "See the caveats in the documentation: http://pandas.pydata.org/pandas-docs/stable/indexing.html#indexing-view-versus-copy\n",
      "  self._setitem_with_indexer(indexer, value)\n"
     ]
    }
   ],
   "source": [
    "df['Month'] = 0\n",
    "\n",
    "for row in range(len(df)):\n",
    "    df['Month'][row] = df['Released'][row].month"
   ]
  },
  {
   "cell_type": "code",
   "execution_count": 319,
   "metadata": {
    "collapsed": false
   },
   "outputs": [
    {
     "data": {
      "text/plain": [
       "0    10.0\n",
       "1     3.0\n",
       "2    12.0\n",
       "3     7.0\n",
       "4     4.0\n",
       "Name: Month, dtype: float64"
      ]
     },
     "execution_count": 319,
     "metadata": {},
     "output_type": "execute_result"
    }
   ],
   "source": [
    "df['Month'][0:5]"
   ]
  },
  {
   "cell_type": "code",
   "execution_count": 320,
   "metadata": {
    "collapsed": false,
    "scrolled": true
   },
   "outputs": [
    {
     "data": {
      "text/plain": [
       "Index([u'Actors', u'Awards', u'Country', u'Director', u'Genre', u'Language',\n",
       "       u'Metascore', u'Plot', u'Poster', u'Rated', u'Released', u'Response',\n",
       "       u'Runtime', u'Title', u'Type', u'Writer', u'Year', u'imdbID',\n",
       "       u'imdbRating', u'imdbVotes', u'is_high_rating', u'Month'],\n",
       "      dtype='object')"
      ]
     },
     "execution_count": 320,
     "metadata": {},
     "output_type": "execute_result"
    }
   ],
   "source": [
    "df.columns"
   ]
  },
  {
   "cell_type": "code",
   "execution_count": 421,
   "metadata": {
    "collapsed": false,
    "scrolled": true
   },
   "outputs": [
    {
     "data": {
      "image/png": "[encoded data removed]",
      "text/plain": [
       "<matplotlib.figure.Figure at 0x7f2910752150>"
      ]
     },
     "metadata": {},
     "output_type": "display_data"
    }
   ],
   "source": [
    "plt.scatter(df['Year'], df['imdbRating'])\n",
    "plt.xlabel('Year')\n",
    "plt.ylabel('IMDb Rating')\n",
    "plt.xlim([1920, 2020])\n",
    "plt.show()"
   ]
  },
  {
   "cell_type": "code",
   "execution_count": 420,
   "metadata": {
    "collapsed": false
   },
   "outputs": [
    {
     "data": {
      "image/png": "[encoded data removed]",
      "text/plain": [
       "<matplotlib.figure.Figure at 0x7f2911c8f450>"
      ]
     },
     "metadata": {},
     "output_type": "display_data"
    }
   ],
   "source": [
    "plt.scatter(df['imdbVotes'], df['imdbRating'])\n",
    "plt.xlabel('Number of IMDb votes')\n",
    "plt.ylabel('IMDb Rating')\n",
    "plt.xlim([0, 2000000])\n",
    "plt.show()"
   ]
  },
  {
   "cell_type": "code",
   "execution_count": 423,
   "metadata": {
    "collapsed": false
   },
   "outputs": [
    {
     "data": {
      "image/png": "[encoded data removed]",
      "text/plain": [
       "<matplotlib.figure.Figure at 0x7f29105aea50>"
      ]
     },
     "metadata": {},
     "output_type": "display_data"
    }
   ],
   "source": [
    "plt.scatter(df['Runtime'], df['imdbRating'])\n",
    "plt.xlabel('Runtime (minutes)')\n",
    "plt.ylabel('IMDb Rating')\n",
    "plt.show()"
   ]
  },
  {
   "cell_type": "code",
   "execution_count": 424,
   "metadata": {
    "collapsed": false
   },
   "outputs": [
    {
     "data": {
      "image/png": "[encoded data removed]",
      "text/plain": [
       "<matplotlib.figure.Figure at 0x7f29105bb490>"
      ]
     },
     "metadata": {},
     "output_type": "display_data"
    }
   ],
   "source": [
    "plt.scatter(df['Month'], df['imdbRating'])\n",
    "plt.xlabel('Month Released')\n",
    "plt.ylabel('IMDb Rating')\n",
    "plt.show()"
   ]
  },
  {
   "cell_type": "code",
   "execution_count": 342,
   "metadata": {
    "collapsed": false
   },
   "outputs": [
    {
     "data": {
      "text/html": [
       "<div>\n",
       "<table border=\"1\" class=\"dataframe\">\n",
       "  <thead>\n",
       "    <tr style=\"text-align: right;\">\n",
       "      <th></th>\n",
       "      <th>Title</th>\n",
       "      <th>is_high_rating</th>\n",
       "      <th>imdbVotes</th>\n",
       "      <th>Runtime</th>\n",
       "      <th>Year</th>\n",
       "      <th>Month</th>\n",
       "    </tr>\n",
       "  </thead>\n",
       "  <tbody>\n",
       "    <tr>\n",
       "      <th>0</th>\n",
       "      <td>The Shawshank Redemption</td>\n",
       "      <td>1</td>\n",
       "      <td>1711064</td>\n",
       "      <td>142.0</td>\n",
       "      <td>1994</td>\n",
       "      <td>10.0</td>\n",
       "    </tr>\n",
       "    <tr>\n",
       "      <th>1</th>\n",
       "      <td>The Godfather</td>\n",
       "      <td>1</td>\n",
       "      <td>1177812</td>\n",
       "      <td>175.0</td>\n",
       "      <td>1972</td>\n",
       "      <td>3.0</td>\n",
       "    </tr>\n",
       "    <tr>\n",
       "      <th>2</th>\n",
       "      <td>The Godfather: Part II</td>\n",
       "      <td>1</td>\n",
       "      <td>807734</td>\n",
       "      <td>202.0</td>\n",
       "      <td>1974</td>\n",
       "      <td>12.0</td>\n",
       "    </tr>\n",
       "    <tr>\n",
       "      <th>3</th>\n",
       "      <td>The Dark Knight</td>\n",
       "      <td>1</td>\n",
       "      <td>1699835</td>\n",
       "      <td>152.0</td>\n",
       "      <td>2008</td>\n",
       "      <td>7.0</td>\n",
       "    </tr>\n",
       "    <tr>\n",
       "      <th>4</th>\n",
       "      <td>12 Angry Men</td>\n",
       "      <td>1</td>\n",
       "      <td>455987</td>\n",
       "      <td>96.0</td>\n",
       "      <td>1957</td>\n",
       "      <td>4.0</td>\n",
       "    </tr>\n",
       "  </tbody>\n",
       "</table>\n",
       "</div>"
      ],
      "text/plain": [
       "                      Title  is_high_rating  imdbVotes  Runtime  Year  Month\n",
       "0  The Shawshank Redemption               1    1711064    142.0  1994   10.0\n",
       "1             The Godfather               1    1177812    175.0  1972    3.0\n",
       "2    The Godfather: Part II               1     807734    202.0  1974   12.0\n",
       "3           The Dark Knight               1    1699835    152.0  2008    7.0\n",
       "4              12 Angry Men               1     455987     96.0  1957    4.0"
      ]
     },
     "execution_count": 342,
     "metadata": {},
     "output_type": "execute_result"
    }
   ],
   "source": [
    "# A few numerical categories that I want to use for my model\n",
    "dummies = df[['Title', 'is_high_rating', 'imdbVotes', 'Runtime', 'Year', 'Month']]\n",
    "dummies.head()"
   ]
  },
  {
   "cell_type": "code",
   "execution_count": 322,
   "metadata": {
    "collapsed": false
   },
   "outputs": [
    {
     "data": {
      "text/plain": [
       "Title              object\n",
       "is_high_rating      int64\n",
       "imdbVotes           int64\n",
       "Runtime           float64\n",
       "Year                int64\n",
       "Month             float64\n",
       "dtype: object"
      ]
     },
     "execution_count": 322,
     "metadata": {},
     "output_type": "execute_result"
    }
   ],
   "source": [
    "dummies.dtypes"
   ]
  },
  {
   "cell_type": "code",
   "execution_count": 344,
   "metadata": {
    "collapsed": false
   },
   "outputs": [
    {
     "data": {
      "text/html": [
       "<div>\n",
       "<table border=\"1\" class=\"dataframe\">\n",
       "  <thead>\n",
       "    <tr style=\"text-align: right;\">\n",
       "      <th></th>\n",
       "      <th>Title</th>\n",
       "      <th>is_high_rating</th>\n",
       "      <th>imdbVotes</th>\n",
       "      <th>Runtime</th>\n",
       "      <th>Year</th>\n",
       "      <th>Month</th>\n",
       "    </tr>\n",
       "  </thead>\n",
       "  <tbody>\n",
       "    <tr>\n",
       "      <th>132</th>\n",
       "      <td>The Gold Rush</td>\n",
       "      <td>0</td>\n",
       "      <td>69196</td>\n",
       "      <td>95.0</td>\n",
       "      <td>1925</td>\n",
       "      <td>NaN</td>\n",
       "    </tr>\n",
       "  </tbody>\n",
       "</table>\n",
       "</div>"
      ],
      "text/plain": [
       "             Title  is_high_rating  imdbVotes  Runtime  Year  Month\n",
       "132  The Gold Rush               0      69196     95.0  1925    NaN"
      ]
     },
     "execution_count": 344,
     "metadata": {},
     "output_type": "execute_result"
    }
   ],
   "source": [
    "dummies[dummies['Month'].isnull()]"
   ]
  },
  {
   "cell_type": "code",
   "execution_count": 346,
   "metadata": {
    "collapsed": false
   },
   "outputs": [
    {
     "name": "stderr",
     "output_type": "stream",
     "text": [
      "/home/nick/anaconda2/lib/python2.7/site-packages/pandas/core/generic.py:3191: SettingWithCopyWarning: \n",
      "A value is trying to be set on a copy of a slice from a DataFrame\n",
      "\n",
      "See the caveats in the documentation: http://pandas.pydata.org/pandas-docs/stable/indexing.html#indexing-view-versus-copy\n",
      "  self._update_inplace(new_data)\n"
     ]
    }
   ],
   "source": [
    "# Found release month from https://en.wikipedia.org/wiki/The_Gold_Rush\n",
    "dummies['Month'].fillna(6.0, inplace=True)"
   ]
  },
  {
   "cell_type": "code",
   "execution_count": 347,
   "metadata": {
    "collapsed": false
   },
   "outputs": [
    {
     "data": {
      "text/plain": [
       "Title             False\n",
       "is_high_rating    False\n",
       "imdbVotes         False\n",
       "Runtime           False\n",
       "Year              False\n",
       "Month             False\n",
       "dtype: bool"
      ]
     },
     "execution_count": 347,
     "metadata": {},
     "output_type": "execute_result"
    }
   ],
   "source": [
    "dummies.isnull().any()"
   ]
  },
  {
   "cell_type": "code",
   "execution_count": 348,
   "metadata": {
    "collapsed": false
   },
   "outputs": [
    {
     "data": {
      "text/html": [
       "<div>\n",
       "<table border=\"1\" class=\"dataframe\">\n",
       "  <thead>\n",
       "    <tr style=\"text-align: right;\">\n",
       "      <th></th>\n",
       "      <th>Title</th>\n",
       "      <th>is_high_rating</th>\n",
       "      <th>imdbVotes</th>\n",
       "      <th>Runtime</th>\n",
       "      <th>Year</th>\n",
       "      <th>Month</th>\n",
       "      <th>Action</th>\n",
       "      <th>Adventure</th>\n",
       "      <th>Biography</th>\n",
       "      <th>Comedy</th>\n",
       "      <th>...</th>\n",
       "      <th>Victor Fleming</th>\n",
       "      <th>Vittorio De Sica</th>\n",
       "      <th>Wai-Keung Lau</th>\n",
       "      <th>Wes Anderson</th>\n",
       "      <th>William Wyler</th>\n",
       "      <th>Wilson Yip</th>\n",
       "      <th>Wolfgang Petersen</th>\n",
       "      <th>Woody Allen</th>\n",
       "      <th>Yasujirô Ozu</th>\n",
       "      <th>Çagan Irmak</th>\n",
       "    </tr>\n",
       "  </thead>\n",
       "  <tbody>\n",
       "    <tr>\n",
       "      <th>0</th>\n",
       "      <td>The Shawshank Redemption</td>\n",
       "      <td>1</td>\n",
       "      <td>1711064</td>\n",
       "      <td>142.0</td>\n",
       "      <td>1994</td>\n",
       "      <td>10.0</td>\n",
       "      <td>0</td>\n",
       "      <td>0</td>\n",
       "      <td>0</td>\n",
       "      <td>0</td>\n",
       "      <td>...</td>\n",
       "      <td>0</td>\n",
       "      <td>0</td>\n",
       "      <td>0</td>\n",
       "      <td>0</td>\n",
       "      <td>0</td>\n",
       "      <td>0</td>\n",
       "      <td>0</td>\n",
       "      <td>0</td>\n",
       "      <td>0</td>\n",
       "      <td>0</td>\n",
       "    </tr>\n",
       "    <tr>\n",
       "      <th>1</th>\n",
       "      <td>The Godfather</td>\n",
       "      <td>1</td>\n",
       "      <td>1177812</td>\n",
       "      <td>175.0</td>\n",
       "      <td>1972</td>\n",
       "      <td>3.0</td>\n",
       "      <td>0</td>\n",
       "      <td>0</td>\n",
       "      <td>0</td>\n",
       "      <td>0</td>\n",
       "      <td>...</td>\n",
       "      <td>0</td>\n",
       "      <td>0</td>\n",
       "      <td>0</td>\n",
       "      <td>0</td>\n",
       "      <td>0</td>\n",
       "      <td>0</td>\n",
       "      <td>0</td>\n",
       "      <td>0</td>\n",
       "      <td>0</td>\n",
       "      <td>0</td>\n",
       "    </tr>\n",
       "    <tr>\n",
       "      <th>2</th>\n",
       "      <td>The Godfather: Part II</td>\n",
       "      <td>1</td>\n",
       "      <td>807734</td>\n",
       "      <td>202.0</td>\n",
       "      <td>1974</td>\n",
       "      <td>12.0</td>\n",
       "      <td>0</td>\n",
       "      <td>0</td>\n",
       "      <td>0</td>\n",
       "      <td>0</td>\n",
       "      <td>...</td>\n",
       "      <td>0</td>\n",
       "      <td>0</td>\n",
       "      <td>0</td>\n",
       "      <td>0</td>\n",
       "      <td>0</td>\n",
       "      <td>0</td>\n",
       "      <td>0</td>\n",
       "      <td>0</td>\n",
       "      <td>0</td>\n",
       "      <td>0</td>\n",
       "    </tr>\n",
       "    <tr>\n",
       "      <th>3</th>\n",
       "      <td>The Dark Knight</td>\n",
       "      <td>1</td>\n",
       "      <td>1699835</td>\n",
       "      <td>152.0</td>\n",
       "      <td>2008</td>\n",
       "      <td>7.0</td>\n",
       "      <td>0</td>\n",
       "      <td>0</td>\n",
       "      <td>0</td>\n",
       "      <td>0</td>\n",
       "      <td>...</td>\n",
       "      <td>0</td>\n",
       "      <td>0</td>\n",
       "      <td>0</td>\n",
       "      <td>0</td>\n",
       "      <td>0</td>\n",
       "      <td>0</td>\n",
       "      <td>0</td>\n",
       "      <td>0</td>\n",
       "      <td>0</td>\n",
       "      <td>0</td>\n",
       "    </tr>\n",
       "    <tr>\n",
       "      <th>4</th>\n",
       "      <td>12 Angry Men</td>\n",
       "      <td>1</td>\n",
       "      <td>455987</td>\n",
       "      <td>96.0</td>\n",
       "      <td>1957</td>\n",
       "      <td>4.0</td>\n",
       "      <td>0</td>\n",
       "      <td>0</td>\n",
       "      <td>0</td>\n",
       "      <td>0</td>\n",
       "      <td>...</td>\n",
       "      <td>0</td>\n",
       "      <td>0</td>\n",
       "      <td>0</td>\n",
       "      <td>0</td>\n",
       "      <td>0</td>\n",
       "      <td>0</td>\n",
       "      <td>0</td>\n",
       "      <td>0</td>\n",
       "      <td>0</td>\n",
       "      <td>0</td>\n",
       "    </tr>\n",
       "  </tbody>\n",
       "</table>\n",
       "<p>5 rows × 215 columns</p>\n",
       "</div>"
      ],
      "text/plain": [
       "                      Title  is_high_rating  imdbVotes  Runtime  Year  Month  \\\n",
       "0  The Shawshank Redemption               1    1711064    142.0  1994   10.0   \n",
       "1             The Godfather               1    1177812    175.0  1972    3.0   \n",
       "2    The Godfather: Part II               1     807734    202.0  1974   12.0   \n",
       "3           The Dark Knight               1    1699835    152.0  2008    7.0   \n",
       "4              12 Angry Men               1     455987     96.0  1957    4.0   \n",
       "\n",
       "    Action   Adventure   Biography   Comedy     ...       Victor Fleming  \\\n",
       "0        0           0           0        0     ...                    0   \n",
       "1        0           0           0        0     ...                    0   \n",
       "2        0           0           0        0     ...                    0   \n",
       "3        0           0           0        0     ...                    0   \n",
       "4        0           0           0        0     ...                    0   \n",
       "\n",
       "   Vittorio De Sica  Wai-Keung Lau  Wes Anderson  William Wyler  Wilson Yip  \\\n",
       "0                 0              0             0              0           0   \n",
       "1                 0              0             0              0           0   \n",
       "2                 0              0             0              0           0   \n",
       "3                 0              0             0              0           0   \n",
       "4                 0              0             0              0           0   \n",
       "\n",
       "   Wolfgang Petersen  Woody Allen  Yasujirô Ozu  Çagan Irmak  \n",
       "0                  0            0             0            0  \n",
       "1                  0            0             0            0  \n",
       "2                  0            0             0            0  \n",
       "3                  0            0             0            0  \n",
       "4                  0            0             0            0  \n",
       "\n",
       "[5 rows x 215 columns]"
      ]
     },
     "execution_count": 348,
     "metadata": {},
     "output_type": "execute_result"
    }
   ],
   "source": [
    "# I want to include the Genre, Director, and Actors in the model\n",
    "# Creating dummies for Genre and Director\n",
    "\n",
    "# for col in set(['Genre', 'Language', 'Director', 'Language', 'Country']):\n",
    "for col in set(['Genre', 'Director']):\n",
    "    dummies = dummies.join(df[col].str.get_dummies(sep=','))\n",
    "    \n",
    "dummies.head()"
   ]
  },
  {
   "cell_type": "code",
   "execution_count": 349,
   "metadata": {
    "collapsed": false
   },
   "outputs": [],
   "source": [
    "# Now adding actors\n",
    "# Doing this separately because there was overlap between actors and directors\n",
    "dummies = dummies.join(df['Actors'].str.get_dummies(sep=','), lsuffix='_director', rsuffix='_actor')"
   ]
  },
  {
   "cell_type": "code",
   "execution_count": 350,
   "metadata": {
    "collapsed": false,
    "scrolled": false
   },
   "outputs": [
    {
     "data": {
      "text/plain": [
       "(250, 1083)"
      ]
     },
     "execution_count": 350,
     "metadata": {},
     "output_type": "execute_result"
    }
   ],
   "source": [
    "dummies.shape"
   ]
  },
  {
   "cell_type": "code",
   "execution_count": 351,
   "metadata": {
    "collapsed": false
   },
   "outputs": [
    {
     "data": {
      "text/plain": [
       "R            105\n",
       "PG            38\n",
       "PG-13         32\n",
       "NOT RATED     27\n",
       "APPROVED      19\n",
       "G             12\n",
       "UNRATED        9\n",
       "PASSED         5\n",
       "M              1\n",
       "Name: Rated, dtype: int64"
      ]
     },
     "execution_count": 351,
     "metadata": {},
     "output_type": "execute_result"
    }
   ],
   "source": [
    "df['Rated'].value_counts()"
   ]
  },
  {
   "cell_type": "code",
   "execution_count": 352,
   "metadata": {
    "collapsed": false
   },
   "outputs": [
    {
     "data": {
      "text/html": [
       "<div>\n",
       "<table border=\"1\" class=\"dataframe\">\n",
       "  <thead>\n",
       "    <tr style=\"text-align: right;\">\n",
       "      <th></th>\n",
       "      <th>Title</th>\n",
       "      <th>is_high_rating</th>\n",
       "      <th>imdbVotes</th>\n",
       "      <th>Runtime</th>\n",
       "      <th>Year</th>\n",
       "      <th>Month</th>\n",
       "      <th>Action</th>\n",
       "      <th>Adventure</th>\n",
       "      <th>Biography</th>\n",
       "      <th>Comedy</th>\n",
       "      <th>...</th>\n",
       "      <th>Yves Montand</th>\n",
       "      <th>APPROVED</th>\n",
       "      <th>G</th>\n",
       "      <th>M</th>\n",
       "      <th>NOT RATED</th>\n",
       "      <th>PASSED</th>\n",
       "      <th>PG</th>\n",
       "      <th>PG-13</th>\n",
       "      <th>R</th>\n",
       "      <th>UNRATED</th>\n",
       "    </tr>\n",
       "  </thead>\n",
       "  <tbody>\n",
       "    <tr>\n",
       "      <th>0</th>\n",
       "      <td>The Shawshank Redemption</td>\n",
       "      <td>1</td>\n",
       "      <td>1711064</td>\n",
       "      <td>142.0</td>\n",
       "      <td>1994</td>\n",
       "      <td>10.0</td>\n",
       "      <td>0</td>\n",
       "      <td>0</td>\n",
       "      <td>0</td>\n",
       "      <td>0</td>\n",
       "      <td>...</td>\n",
       "      <td>0</td>\n",
       "      <td>0.0</td>\n",
       "      <td>0.0</td>\n",
       "      <td>0.0</td>\n",
       "      <td>0.0</td>\n",
       "      <td>0.0</td>\n",
       "      <td>0.0</td>\n",
       "      <td>0.0</td>\n",
       "      <td>1.0</td>\n",
       "      <td>0.0</td>\n",
       "    </tr>\n",
       "    <tr>\n",
       "      <th>1</th>\n",
       "      <td>The Godfather</td>\n",
       "      <td>1</td>\n",
       "      <td>1177812</td>\n",
       "      <td>175.0</td>\n",
       "      <td>1972</td>\n",
       "      <td>3.0</td>\n",
       "      <td>0</td>\n",
       "      <td>0</td>\n",
       "      <td>0</td>\n",
       "      <td>0</td>\n",
       "      <td>...</td>\n",
       "      <td>0</td>\n",
       "      <td>0.0</td>\n",
       "      <td>0.0</td>\n",
       "      <td>0.0</td>\n",
       "      <td>0.0</td>\n",
       "      <td>0.0</td>\n",
       "      <td>0.0</td>\n",
       "      <td>0.0</td>\n",
       "      <td>1.0</td>\n",
       "      <td>0.0</td>\n",
       "    </tr>\n",
       "    <tr>\n",
       "      <th>2</th>\n",
       "      <td>The Godfather: Part II</td>\n",
       "      <td>1</td>\n",
       "      <td>807734</td>\n",
       "      <td>202.0</td>\n",
       "      <td>1974</td>\n",
       "      <td>12.0</td>\n",
       "      <td>0</td>\n",
       "      <td>0</td>\n",
       "      <td>0</td>\n",
       "      <td>0</td>\n",
       "      <td>...</td>\n",
       "      <td>0</td>\n",
       "      <td>0.0</td>\n",
       "      <td>0.0</td>\n",
       "      <td>0.0</td>\n",
       "      <td>0.0</td>\n",
       "      <td>0.0</td>\n",
       "      <td>0.0</td>\n",
       "      <td>0.0</td>\n",
       "      <td>1.0</td>\n",
       "      <td>0.0</td>\n",
       "    </tr>\n",
       "    <tr>\n",
       "      <th>3</th>\n",
       "      <td>The Dark Knight</td>\n",
       "      <td>1</td>\n",
       "      <td>1699835</td>\n",
       "      <td>152.0</td>\n",
       "      <td>2008</td>\n",
       "      <td>7.0</td>\n",
       "      <td>0</td>\n",
       "      <td>0</td>\n",
       "      <td>0</td>\n",
       "      <td>0</td>\n",
       "      <td>...</td>\n",
       "      <td>0</td>\n",
       "      <td>0.0</td>\n",
       "      <td>0.0</td>\n",
       "      <td>0.0</td>\n",
       "      <td>0.0</td>\n",
       "      <td>0.0</td>\n",
       "      <td>0.0</td>\n",
       "      <td>1.0</td>\n",
       "      <td>0.0</td>\n",
       "      <td>0.0</td>\n",
       "    </tr>\n",
       "    <tr>\n",
       "      <th>4</th>\n",
       "      <td>12 Angry Men</td>\n",
       "      <td>1</td>\n",
       "      <td>455987</td>\n",
       "      <td>96.0</td>\n",
       "      <td>1957</td>\n",
       "      <td>4.0</td>\n",
       "      <td>0</td>\n",
       "      <td>0</td>\n",
       "      <td>0</td>\n",
       "      <td>0</td>\n",
       "      <td>...</td>\n",
       "      <td>0</td>\n",
       "      <td>1.0</td>\n",
       "      <td>0.0</td>\n",
       "      <td>0.0</td>\n",
       "      <td>0.0</td>\n",
       "      <td>0.0</td>\n",
       "      <td>0.0</td>\n",
       "      <td>0.0</td>\n",
       "      <td>0.0</td>\n",
       "      <td>0.0</td>\n",
       "    </tr>\n",
       "  </tbody>\n",
       "</table>\n",
       "<p>5 rows × 1092 columns</p>\n",
       "</div>"
      ],
      "text/plain": [
       "                      Title  is_high_rating  imdbVotes  Runtime  Year  Month  \\\n",
       "0  The Shawshank Redemption               1    1711064    142.0  1994   10.0   \n",
       "1             The Godfather               1    1177812    175.0  1972    3.0   \n",
       "2    The Godfather: Part II               1     807734    202.0  1974   12.0   \n",
       "3           The Dark Knight               1    1699835    152.0  2008    7.0   \n",
       "4              12 Angry Men               1     455987     96.0  1957    4.0   \n",
       "\n",
       "    Action   Adventure   Biography   Comedy   ...     Yves Montand  APPROVED  \\\n",
       "0        0           0           0        0   ...                0       0.0   \n",
       "1        0           0           0        0   ...                0       0.0   \n",
       "2        0           0           0        0   ...                0       0.0   \n",
       "3        0           0           0        0   ...                0       0.0   \n",
       "4        0           0           0        0   ...                0       1.0   \n",
       "\n",
       "     G    M  NOT RATED  PASSED   PG  PG-13    R  UNRATED  \n",
       "0  0.0  0.0        0.0     0.0  0.0    0.0  1.0      0.0  \n",
       "1  0.0  0.0        0.0     0.0  0.0    0.0  1.0      0.0  \n",
       "2  0.0  0.0        0.0     0.0  0.0    0.0  1.0      0.0  \n",
       "3  0.0  0.0        0.0     0.0  0.0    1.0  0.0      0.0  \n",
       "4  0.0  0.0        0.0     0.0  0.0    0.0  0.0      0.0  \n",
       "\n",
       "[5 rows x 1092 columns]"
      ]
     },
     "execution_count": 352,
     "metadata": {},
     "output_type": "execute_result"
    }
   ],
   "source": [
    "# Including the Rating, I probably would have consolidated these if I had more time, since there are similar categories\n",
    "dummies = dummies.join(pd.get_dummies(df['Rated']), rsuffix='_rating')\n",
    "dummies.head()"
   ]
  },
  {
   "cell_type": "code",
   "execution_count": 353,
   "metadata": {
    "collapsed": false
   },
   "outputs": [
    {
     "data": {
      "text/plain": [
       "(250, 1092)"
      ]
     },
     "execution_count": 353,
     "metadata": {},
     "output_type": "execute_result"
    }
   ],
   "source": [
    "dummies.shape"
   ]
  },
  {
   "cell_type": "code",
   "execution_count": 374,
   "metadata": {
    "collapsed": false
   },
   "outputs": [
    {
     "name": "stdout",
     "output_type": "stream",
     "text": [
      "(250, 1090)\n"
     ]
    },
    {
     "data": {
      "text/html": [
       "<div>\n",
       "<table border=\"1\" class=\"dataframe\">\n",
       "  <thead>\n",
       "    <tr style=\"text-align: right;\">\n",
       "      <th></th>\n",
       "      <th>imdbVotes</th>\n",
       "      <th>Runtime</th>\n",
       "      <th>Year</th>\n",
       "      <th>Month</th>\n",
       "      <th>Action</th>\n",
       "      <th>Adventure</th>\n",
       "      <th>Biography</th>\n",
       "      <th>Comedy</th>\n",
       "      <th>Crime</th>\n",
       "      <th>Drama</th>\n",
       "      <th>...</th>\n",
       "      <th>Yves Montand</th>\n",
       "      <th>APPROVED</th>\n",
       "      <th>G</th>\n",
       "      <th>M</th>\n",
       "      <th>NOT RATED</th>\n",
       "      <th>PASSED</th>\n",
       "      <th>PG</th>\n",
       "      <th>PG-13</th>\n",
       "      <th>R</th>\n",
       "      <th>UNRATED</th>\n",
       "    </tr>\n",
       "  </thead>\n",
       "  <tbody>\n",
       "    <tr>\n",
       "      <th>0</th>\n",
       "      <td>1711064</td>\n",
       "      <td>142.0</td>\n",
       "      <td>1994</td>\n",
       "      <td>10.0</td>\n",
       "      <td>0</td>\n",
       "      <td>0</td>\n",
       "      <td>0</td>\n",
       "      <td>0</td>\n",
       "      <td>0</td>\n",
       "      <td>1</td>\n",
       "      <td>...</td>\n",
       "      <td>0</td>\n",
       "      <td>0.0</td>\n",
       "      <td>0.0</td>\n",
       "      <td>0.0</td>\n",
       "      <td>0.0</td>\n",
       "      <td>0.0</td>\n",
       "      <td>0.0</td>\n",
       "      <td>0.0</td>\n",
       "      <td>1.0</td>\n",
       "      <td>0.0</td>\n",
       "    </tr>\n",
       "    <tr>\n",
       "      <th>1</th>\n",
       "      <td>1177812</td>\n",
       "      <td>175.0</td>\n",
       "      <td>1972</td>\n",
       "      <td>3.0</td>\n",
       "      <td>0</td>\n",
       "      <td>0</td>\n",
       "      <td>0</td>\n",
       "      <td>0</td>\n",
       "      <td>0</td>\n",
       "      <td>1</td>\n",
       "      <td>...</td>\n",
       "      <td>0</td>\n",
       "      <td>0.0</td>\n",
       "      <td>0.0</td>\n",
       "      <td>0.0</td>\n",
       "      <td>0.0</td>\n",
       "      <td>0.0</td>\n",
       "      <td>0.0</td>\n",
       "      <td>0.0</td>\n",
       "      <td>1.0</td>\n",
       "      <td>0.0</td>\n",
       "    </tr>\n",
       "    <tr>\n",
       "      <th>2</th>\n",
       "      <td>807734</td>\n",
       "      <td>202.0</td>\n",
       "      <td>1974</td>\n",
       "      <td>12.0</td>\n",
       "      <td>0</td>\n",
       "      <td>0</td>\n",
       "      <td>0</td>\n",
       "      <td>0</td>\n",
       "      <td>0</td>\n",
       "      <td>1</td>\n",
       "      <td>...</td>\n",
       "      <td>0</td>\n",
       "      <td>0.0</td>\n",
       "      <td>0.0</td>\n",
       "      <td>0.0</td>\n",
       "      <td>0.0</td>\n",
       "      <td>0.0</td>\n",
       "      <td>0.0</td>\n",
       "      <td>0.0</td>\n",
       "      <td>1.0</td>\n",
       "      <td>0.0</td>\n",
       "    </tr>\n",
       "    <tr>\n",
       "      <th>3</th>\n",
       "      <td>1699835</td>\n",
       "      <td>152.0</td>\n",
       "      <td>2008</td>\n",
       "      <td>7.0</td>\n",
       "      <td>0</td>\n",
       "      <td>0</td>\n",
       "      <td>0</td>\n",
       "      <td>0</td>\n",
       "      <td>1</td>\n",
       "      <td>1</td>\n",
       "      <td>...</td>\n",
       "      <td>0</td>\n",
       "      <td>0.0</td>\n",
       "      <td>0.0</td>\n",
       "      <td>0.0</td>\n",
       "      <td>0.0</td>\n",
       "      <td>0.0</td>\n",
       "      <td>0.0</td>\n",
       "      <td>1.0</td>\n",
       "      <td>0.0</td>\n",
       "      <td>0.0</td>\n",
       "    </tr>\n",
       "    <tr>\n",
       "      <th>4</th>\n",
       "      <td>455987</td>\n",
       "      <td>96.0</td>\n",
       "      <td>1957</td>\n",
       "      <td>4.0</td>\n",
       "      <td>0</td>\n",
       "      <td>0</td>\n",
       "      <td>0</td>\n",
       "      <td>0</td>\n",
       "      <td>0</td>\n",
       "      <td>1</td>\n",
       "      <td>...</td>\n",
       "      <td>0</td>\n",
       "      <td>1.0</td>\n",
       "      <td>0.0</td>\n",
       "      <td>0.0</td>\n",
       "      <td>0.0</td>\n",
       "      <td>0.0</td>\n",
       "      <td>0.0</td>\n",
       "      <td>0.0</td>\n",
       "      <td>0.0</td>\n",
       "      <td>0.0</td>\n",
       "    </tr>\n",
       "  </tbody>\n",
       "</table>\n",
       "<p>5 rows × 1090 columns</p>\n",
       "</div>"
      ],
      "text/plain": [
       "   imdbVotes  Runtime  Year  Month   Action   Adventure   Biography   Comedy  \\\n",
       "0    1711064    142.0  1994   10.0        0           0           0        0   \n",
       "1    1177812    175.0  1972    3.0        0           0           0        0   \n",
       "2     807734    202.0  1974   12.0        0           0           0        0   \n",
       "3    1699835    152.0  2008    7.0        0           0           0        0   \n",
       "4     455987     96.0  1957    4.0        0           0           0        0   \n",
       "\n",
       "    Crime   Drama   ...     Yves Montand  APPROVED    G    M  NOT RATED  \\\n",
       "0       0       1   ...                0       0.0  0.0  0.0        0.0   \n",
       "1       0       1   ...                0       0.0  0.0  0.0        0.0   \n",
       "2       0       1   ...                0       0.0  0.0  0.0        0.0   \n",
       "3       1       1   ...                0       0.0  0.0  0.0        0.0   \n",
       "4       0       1   ...                0       1.0  0.0  0.0        0.0   \n",
       "\n",
       "   PASSED   PG  PG-13    R  UNRATED  \n",
       "0     0.0  0.0    0.0  1.0      0.0  \n",
       "1     0.0  0.0    0.0  1.0      0.0  \n",
       "2     0.0  0.0    0.0  1.0      0.0  \n",
       "3     0.0  0.0    1.0  0.0      0.0  \n",
       "4     0.0  0.0    0.0  0.0      0.0  \n",
       "\n",
       "[5 rows x 1090 columns]"
      ]
     },
     "execution_count": 374,
     "metadata": {},
     "output_type": "execute_result"
    }
   ],
   "source": [
    "# Define X for model, drop title and rating (y)\n",
    "X = dummies.drop(['Title', 'is_high_rating'], axis=1)\n",
    "print X.shape\n",
    "X.head()"
   ]
  },
  {
   "cell_type": "code",
   "execution_count": 377,
   "metadata": {
    "collapsed": false
   },
   "outputs": [
    {
     "data": {
      "text/plain": [
       "imdbVotes            False\n",
       "Runtime              False\n",
       "Year                 False\n",
       "Month                False\n",
       " Action              False\n",
       " Adventure           False\n",
       " Biography           False\n",
       " Comedy              False\n",
       " Crime               False\n",
       " Drama               False\n",
       " Family              False\n",
       " Fantasy             False\n",
       " Film-Noir           False\n",
       " History             False\n",
       " Horror              False\n",
       " Music               False\n",
       " Musical             False\n",
       " Mystery             False\n",
       " Romance             False\n",
       " Sci-Fi              False\n",
       " Sport               False\n",
       " Thriller            False\n",
       " War                 False\n",
       " Western             False\n",
       "Action               False\n",
       "Adventure            False\n",
       "Animation            False\n",
       "Biography            False\n",
       "Comedy               False\n",
       "Crime                False\n",
       "                     ...  \n",
       "Tim Roth             False\n",
       "Tom Berenger         False\n",
       "Tom Hanks            False\n",
       "Tom Hardy            False\n",
       "Tom Skerritt         False\n",
       "Tommy Lee Jones      False\n",
       "Toni Collette        False\n",
       "Toshirô Mifune       False\n",
       "Tsutomu Tatsumi      False\n",
       "Tyrone Power         False\n",
       "Uma Thurman          False\n",
       "Victor Sjöström      False\n",
       "Vidya Balan          False\n",
       "Vincent Cassel       False\n",
       "Virginia Cherrill    False\n",
       "Wil Wheaton          False\n",
       "William H. Macy      False\n",
       "William Holden       False\n",
       "Woody Allen_actor    False\n",
       "Xolani Mali          False\n",
       "Yves Montand         False\n",
       "APPROVED             False\n",
       "G                    False\n",
       "M                    False\n",
       "NOT RATED            False\n",
       "PASSED               False\n",
       "PG                   False\n",
       "PG-13                False\n",
       "R                    False\n",
       "UNRATED              False\n",
       "dtype: bool"
      ]
     },
     "execution_count": 377,
     "metadata": {},
     "output_type": "execute_result"
    }
   ],
   "source": [
    "X.isnull().any()"
   ]
  },
  {
   "cell_type": "code",
   "execution_count": 378,
   "metadata": {
    "collapsed": false
   },
   "outputs": [
    {
     "data": {
      "text/plain": [
       "(250,)"
      ]
     },
     "execution_count": 378,
     "metadata": {},
     "output_type": "execute_result"
    }
   ],
   "source": [
    "# Define target variable\n",
    "y = dummies['is_high_rating']\n",
    "y.shape"
   ]
  },
  {
   "cell_type": "code",
   "execution_count": 379,
   "metadata": {
    "collapsed": false
   },
   "outputs": [
    {
     "data": {
      "text/plain": [
       "count    250.000000\n",
       "mean       0.524000\n",
       "std        0.500426\n",
       "min        0.000000\n",
       "25%        0.000000\n",
       "50%        1.000000\n",
       "75%        1.000000\n",
       "max        1.000000\n",
       "Name: is_high_rating, dtype: float64"
      ]
     },
     "execution_count": 379,
     "metadata": {},
     "output_type": "execute_result"
    }
   ],
   "source": [
    "y.describe()"
   ]
  },
  {
   "cell_type": "code",
   "execution_count": 380,
   "metadata": {
    "collapsed": true
   },
   "outputs": [],
   "source": [
    "from sklearn.cross_validation import train_test_split\n",
    "from sklearn.metrics import accuracy_score, confusion_matrix, classification_report\n",
    "\n",
    "X_train, X_test, y_train, y_test = train_test_split(X, y, test_size=0.4)"
   ]
  },
  {
   "cell_type": "code",
   "execution_count": 381,
   "metadata": {
    "collapsed": false
   },
   "outputs": [],
   "source": [
    "from sklearn.cross_validation import KFold\n",
    "\n",
    "cv = KFold(len(df), n_folds=3, shuffle=True, random_state=42)"
   ]
  },
  {
   "cell_type": "code",
   "execution_count": 382,
   "metadata": {
    "collapsed": false
   },
   "outputs": [],
   "source": [
    "from sklearn.grid_search import GridSearchCV\n",
    "\n",
    "# For most of these, I kinda have no idea what 'good' parameters to grid search over are\n",
    "# I kinda guessed/took what I could find by googling\n",
    "params = {\n",
    "    'bagging_decision_tree': {\"max_samples\": [5, 10, 15],\n",
    "                             \"max_features\": [1, 2, 3],\n",
    "                             \"bootstrap\": [True, False]},\n",
    "    'random_forest': {\"n_estimators\": [10, 100, 1000],\n",
    "              \"max_depth\": [3, None],\n",
    "              \"max_features\": [0.25, 0.5, 0.75, 1.0],\n",
    "              \"bootstrap\": [True, False],\n",
    "              \"criterion\": [\"gini\", \"entropy\"]},\n",
    "    'extra_trees': {\"criterion\": [\"gini\", \"entropy\"],\n",
    "                   \"max_depth\": [3, None],\n",
    "                   \"max_features\": [0.25, 0.5, 0.75, 1.0],\n",
    "                   \"bootstrap\": [True, False]},\n",
    "    'adaboost': {\"n_estimators\": [10, 50, 100],\n",
    "                \"learning_rate\": [1, 5, 10],\n",
    "                \"algorithm\": ['SAMME', 'SAMME.R']},\n",
    "    'gradient_boosting': {\"n_estimators\": [10, 100, 200],\n",
    "                          \"max_depth\": [3, None],}\n",
    "}"
   ]
  },
  {
   "cell_type": "code",
   "execution_count": 383,
   "metadata": {
    "collapsed": true
   },
   "outputs": [],
   "source": [
    "# params = {\n",
    "#     'bagging_decision_tree': {},\n",
    "#     'random_forest': {},\n",
    "#     'extra_trees': {},\n",
    "#     'adaboost': {},\n",
    "#     'gradient_boosting': {}\n",
    "# }"
   ]
  },
  {
   "cell_type": "code",
   "execution_count": 384,
   "metadata": {
    "collapsed": true
   },
   "outputs": [],
   "source": [
    "results = {}\n",
    "\n",
    "def evaluate_model(X_train, X_test, y_train, y_test, model, model_name):\n",
    "    grid = GridSearchCV(model, param_grid=params[model_name], cv=3)\n",
    "    grid.fit(X_train, y_train)\n",
    "    predictions = grid.predict(X_test)\n",
    "    print 'Model tested:', model_name\n",
    "    print grid.best_params_\n",
    "    print grid.score(X_train, y_train)\n",
    "    print grid.score(X_test, y_test)\n",
    "    print pd.DataFrame(confusion_matrix(y_test, predictions), index=['predicted_high_rating', 'predicted_not_high_rating'], columns=['is_high_rating', 'not_high_rating'])\n",
    "    print classification_report(y_test, predictions)\n",
    "#     plt.scatter(y_test, predictions)\n",
    "#     plt.xlabel('True Values')\n",
    "#     plt.ylabel('Predictions')\n",
    "#     plt.show()\n",
    "    results.update({model_name: grid.score(X_test, y_test)})"
   ]
  },
  {
   "cell_type": "code",
   "execution_count": 385,
   "metadata": {
    "collapsed": false
   },
   "outputs": [],
   "source": [
    "# I tried Regressor models and they sucked :(\n",
    "\n",
    "# from sklearn.tree import DecisionTreeRegressor\n",
    "# from sklearn.ensemble import RandomForestRegressor, ExtraTreesRegressor, AdaBoostRegressor, GradientBoostingRegressor, BaggingRegressor\n",
    "\n",
    "# brdt = BaggingRegressor(DecisionTreeRegressor())\n",
    "# rfr = RandomForestRegressor(n_jobs=-1)\n",
    "# etr = ExtraTreesRegressor(n_jobs=-1)\n",
    "# adr = AdaBoostRegressor()\n",
    "# gbr = GradientBoostingRegressor()\n",
    "\n",
    "# models = {\n",
    "#     'bagging_decision_tree': brdt,\n",
    "#     'random_forest': rfr,\n",
    "#     'extra_trees': etr,\n",
    "#     'adaboost': adr,\n",
    "#     'gradient_boosting': gbr\n",
    "# }"
   ]
  },
  {
   "cell_type": "code",
   "execution_count": 386,
   "metadata": {
    "collapsed": false
   },
   "outputs": [],
   "source": [
    "from sklearn.tree import DecisionTreeClassifier\n",
    "from sklearn.ensemble import RandomForestClassifier, ExtraTreesClassifier, AdaBoostClassifier, GradientBoostingClassifier, BaggingClassifier\n",
    "\n",
    "bcdt = BaggingClassifier(DecisionTreeClassifier())\n",
    "rfc = RandomForestClassifier(n_jobs=-1)\n",
    "etc = ExtraTreesClassifier(n_jobs=-1)\n",
    "adc = AdaBoostClassifier()\n",
    "gbc = GradientBoostingClassifier()\n",
    "\n",
    "models = {\n",
    "    'bagging_decision_tree': bcdt,\n",
    "    'random_forest': rfc,\n",
    "    'extra_trees': etc,\n",
    "    'adaboost': adc,\n",
    "    'gradient_boosting': gbc\n",
    "}"
   ]
  },
  {
   "cell_type": "code",
   "execution_count": 387,
   "metadata": {
    "collapsed": false,
    "scrolled": false
   },
   "outputs": [
    {
     "name": "stdout",
     "output_type": "stream",
     "text": [
      "Model tested: gradient_boosting\n",
      "{'n_estimators': 10, 'max_depth': 3}\n",
      "0.813333333333\n",
      "0.7\n",
      "                           is_high_rating  not_high_rating\n",
      "predicted_high_rating                  30               14\n",
      "predicted_not_high_rating              16               40\n",
      "             precision    recall  f1-score   support\n",
      "\n",
      "          0       0.65      0.68      0.67        44\n",
      "          1       0.74      0.71      0.73        56\n",
      "\n",
      "avg / total       0.70      0.70      0.70       100\n",
      "\n",
      "Model tested: adaboost\n",
      "{'n_estimators': 100, 'learning_rate': 1, 'algorithm': 'SAMME'}\n",
      "0.826666666667\n",
      "0.73\n",
      "                           is_high_rating  not_high_rating\n",
      "predicted_high_rating                  31               13\n",
      "predicted_not_high_rating              14               42\n",
      "             precision    recall  f1-score   support\n",
      "\n",
      "          0       0.69      0.70      0.70        44\n",
      "          1       0.76      0.75      0.76        56\n",
      "\n",
      "avg / total       0.73      0.73      0.73       100\n",
      "\n",
      "Model tested: random_forest\n",
      "{'max_features': 0.25, 'n_estimators': 100, 'bootstrap': False, 'criterion': 'entropy', 'max_depth': None}\n",
      "1.0\n",
      "0.67\n",
      "                           is_high_rating  not_high_rating\n",
      "predicted_high_rating                  28               16\n",
      "predicted_not_high_rating              17               39\n",
      "             precision    recall  f1-score   support\n",
      "\n",
      "          0       0.62      0.64      0.63        44\n",
      "          1       0.71      0.70      0.70        56\n",
      "\n",
      "avg / total       0.67      0.67      0.67       100\n",
      "\n",
      "Model tested: bagging_decision_tree\n",
      "{'max_features': 1, 'max_samples': 10, 'bootstrap': False}\n",
      "0.5\n",
      "0.56\n",
      "                           is_high_rating  not_high_rating\n",
      "predicted_high_rating                   0               44\n",
      "predicted_not_high_rating               0               56\n",
      "             precision    recall  f1-score   support\n",
      "\n",
      "          0       0.00      0.00      0.00        44\n",
      "          1       0.56      1.00      0.72        56\n",
      "\n",
      "avg / total       0.31      0.56      0.40       100\n",
      "\n",
      "Model tested: extra_trees\n",
      "{'max_features': 0.75, 'bootstrap': False, 'criterion': 'entropy', 'max_depth': None}\n",
      "1.0\n",
      "0.63\n",
      "                           is_high_rating  not_high_rating\n",
      "predicted_high_rating                  33               11\n",
      "predicted_not_high_rating              26               30\n",
      "             precision    recall  f1-score   support\n",
      "\n",
      "          0       0.56      0.75      0.64        44\n",
      "          1       0.73      0.54      0.62        56\n",
      "\n",
      "avg / total       0.66      0.63      0.63       100\n",
      "\n",
      "{'bagging_decision_tree': 0.56000000000000005, 'extra_trees': 0.63, 'gradient_boosting': 0.69999999999999996, 'random_forest': 0.67000000000000004, 'adaboost': 0.72999999999999998}\n"
     ]
    }
   ],
   "source": [
    "# Get the best grid searched model of each type\n",
    "\n",
    "results = {}\n",
    "\n",
    "for key, value in models.items():\n",
    "    counter = 0\n",
    "    evaluate_model(X_train, X_test, y_train, y_test, value, key)\n",
    "    \n",
    "print results"
   ]
  },
  {
   "cell_type": "code",
   "execution_count": 440,
   "metadata": {
    "collapsed": false
   },
   "outputs": [
    {
     "data": {
      "text/html": [
       "<div>\n",
       "<table border=\"1\" class=\"dataframe\">\n",
       "  <thead>\n",
       "    <tr style=\"text-align: right;\">\n",
       "      <th></th>\n",
       "      <th>Model</th>\n",
       "      <th>Best GridSearchCV Score</th>\n",
       "    </tr>\n",
       "  </thead>\n",
       "  <tbody>\n",
       "    <tr>\n",
       "      <th>0</th>\n",
       "      <td>bagging_decision_tree</td>\n",
       "      <td>0.56</td>\n",
       "    </tr>\n",
       "    <tr>\n",
       "      <th>1</th>\n",
       "      <td>extra_trees</td>\n",
       "      <td>0.63</td>\n",
       "    </tr>\n",
       "    <tr>\n",
       "      <th>2</th>\n",
       "      <td>gradient_boosting</td>\n",
       "      <td>0.70</td>\n",
       "    </tr>\n",
       "    <tr>\n",
       "      <th>3</th>\n",
       "      <td>random_forest</td>\n",
       "      <td>0.67</td>\n",
       "    </tr>\n",
       "    <tr>\n",
       "      <th>4</th>\n",
       "      <td>adaboost</td>\n",
       "      <td>0.73</td>\n",
       "    </tr>\n",
       "  </tbody>\n",
       "</table>\n",
       "</div>"
      ],
      "text/plain": [
       "                   Model  Best GridSearchCV Score\n",
       "0  bagging_decision_tree                     0.56\n",
       "1            extra_trees                     0.63\n",
       "2      gradient_boosting                     0.70\n",
       "3          random_forest                     0.67\n",
       "4               adaboost                     0.73"
      ]
     },
     "execution_count": 440,
     "metadata": {},
     "output_type": "execute_result"
    }
   ],
   "source": [
    "results_df = pd.DataFrame.from_dict(results, orient='index').reset_index()\n",
    "results_df.columns = ['Model', 'Best GridSearchCV Score']\n",
    "results_df"
   ]
  },
  {
   "cell_type": "code",
   "execution_count": 401,
   "metadata": {
    "collapsed": true
   },
   "outputs": [],
   "source": [
    "# fit best random forest model to the whole train set based on grid search parameters above\n",
    "best_random_forest = RandomForestClassifier(max_features=0.25, n_estimators=100, bootstrap=False, criterion='entropy', max_depth=None)"
   ]
  },
  {
   "cell_type": "code",
   "execution_count": 413,
   "metadata": {
    "collapsed": false
   },
   "outputs": [
    {
     "data": {
      "text/plain": [
       "RandomForestClassifier(bootstrap=False, class_weight=None,\n",
       "            criterion='entropy', max_depth=None, max_features=0.25,\n",
       "            max_leaf_nodes=None, min_samples_leaf=1, min_samples_split=2,\n",
       "            min_weight_fraction_leaf=0.0, n_estimators=100, n_jobs=1,\n",
       "            oob_score=False, random_state=None, verbose=0,\n",
       "            warm_start=False)"
      ]
     },
     "execution_count": 413,
     "metadata": {},
     "output_type": "execute_result"
    }
   ],
   "source": [
    "best_random_forest.fit(X_train, y_train)"
   ]
  },
  {
   "cell_type": "code",
   "execution_count": 402,
   "metadata": {
    "collapsed": false
   },
   "outputs": [],
   "source": [
    "# fit best Adaboost model to the whole train set based on grid search parameters above\n",
    "best_adaboost = AdaBoostClassifier(n_estimators=100, learning_rate=1, algorithm='SAMME')"
   ]
  },
  {
   "cell_type": "code",
   "execution_count": 403,
   "metadata": {
    "collapsed": false
   },
   "outputs": [],
   "source": [
    "# The best overall model was the Adaboost model\n",
    "best_model = best_adaboost.fit(X_train, y_train)"
   ]
  },
  {
   "cell_type": "code",
   "execution_count": 404,
   "metadata": {
    "collapsed": false
   },
   "outputs": [],
   "source": [
    "best_predictions = best_model.predict(X_test)"
   ]
  },
  {
   "cell_type": "code",
   "execution_count": 405,
   "metadata": {
    "collapsed": false
   },
   "outputs": [
    {
     "name": "stdout",
     "output_type": "stream",
     "text": [
      "0.73\n"
     ]
    },
    {
     "data": {
      "text/html": [
       "<div>\n",
       "<table border=\"1\" class=\"dataframe\">\n",
       "  <thead>\n",
       "    <tr style=\"text-align: right;\">\n",
       "      <th></th>\n",
       "      <th>is_high_rating</th>\n",
       "      <th>not_high_rating</th>\n",
       "    </tr>\n",
       "  </thead>\n",
       "  <tbody>\n",
       "    <tr>\n",
       "      <th>predicted_high_rating</th>\n",
       "      <td>31</td>\n",
       "      <td>13</td>\n",
       "    </tr>\n",
       "    <tr>\n",
       "      <th>predicted_not_high_rating</th>\n",
       "      <td>14</td>\n",
       "      <td>42</td>\n",
       "    </tr>\n",
       "  </tbody>\n",
       "</table>\n",
       "</div>"
      ],
      "text/plain": [
       "                           is_high_rating  not_high_rating\n",
       "predicted_high_rating                  31               13\n",
       "predicted_not_high_rating              14               42"
      ]
     },
     "execution_count": 405,
     "metadata": {},
     "output_type": "execute_result"
    }
   ],
   "source": [
    "print best_model.score(X_test, y_test)\n",
    "best_confusion = pd.DataFrame(confusion_matrix(y_test, best_predictions), index=['predicted_high_rating', 'predicted_not_high_rating'], columns=['is_high_rating', 'not_high_rating'])\n",
    "best_confusion"
   ]
  },
  {
   "cell_type": "code",
   "execution_count": 406,
   "metadata": {
    "collapsed": false
   },
   "outputs": [
    {
     "name": "stdout",
     "output_type": "stream",
     "text": [
      "             precision    recall  f1-score   support\n",
      "\n",
      "          0       0.69      0.70      0.70        44\n",
      "          1       0.76      0.75      0.76        56\n",
      "\n",
      "avg / total       0.73      0.73      0.73       100\n",
      "\n"
     ]
    }
   ],
   "source": [
    "print classification_report(y_test, best_predictions)"
   ]
  },
  {
   "cell_type": "code",
   "execution_count": null,
   "metadata": {
    "collapsed": false
   },
   "outputs": [],
   "source": []
  },
  {
   "cell_type": "code",
   "execution_count": 414,
   "metadata": {
    "collapsed": true
   },
   "outputs": [],
   "source": [
    "from sklearn import tree\n",
    "i_tree = 0\n",
    "for tree_in_forest in best_random_forest.estimators_:\n",
    "    with open('tree_' + str(i_tree) + '.dot', 'w') as my_file:\n",
    "        my_file = tree.export_graphviz(tree_in_forest, out_file = my_file)\n",
    "    i_tree = i_tree + 1"
   ]
  },
  {
   "cell_type": "code",
   "execution_count": 415,
   "metadata": {
    "collapsed": false
   },
   "outputs": [],
   "source": [
    "from sklearn.externals.six import StringIO\n",
    "from sklearn.tree import export_graphviz\n",
    "\n",
    "\n",
    "# dot_data = StringIO()  \n",
    "# export_graphviz(best_random_forest, out_file=dot_data,  \n",
    "#                     feature_names=X_train.columns,  \n",
    "#                     class_names=y_train,  \n",
    "#                     filled=True, rounded=True,\n",
    "#                     proportion=True,\n",
    "#                     special_characters=True)  \n",
    "# graph = pydot.graph_from_dot_data(dot_data.getvalue())  \n",
    "# Image(graph.create_png())  "
   ]
  },
  {
   "cell_type": "code",
   "execution_count": 417,
   "metadata": {
    "collapsed": false,
    "scrolled": true
   },
   "outputs": [],
   "source": [
    "# import pydot\n",
    "# (graph) = pydot.graph_from_dot_file('tree_1.dot')\n",
    "# graph.write_png('tree_1.png')\n",
    "# graph.draw('tree_1.png')"
   ]
  },
  {
   "cell_type": "markdown",
   "metadata": {},
   "source": [
    "#### For fun, here's a tree image I made from following the discussion you had with Chris in Slack. I kinda have no idea if this is actually useful or not."
   ]
  },
  {
   "cell_type": "markdown",
   "metadata": {},
   "source": [
    "![](tree_1.png)"
   ]
  },
  {
   "cell_type": "code",
   "execution_count": null,
   "metadata": {
    "collapsed": true
   },
   "outputs": [],
   "source": []
  },
  {
   "cell_type": "code",
   "execution_count": null,
   "metadata": {
    "collapsed": true
   },
   "outputs": [],
   "source": []
  },
  {
   "cell_type": "markdown",
   "metadata": {
    "collapsed": true
   },
   "source": [
    "### Write-up Blog Post\n",
    "http://nick-dsi.blogspot.com/2016/11/project-6-apis-random-forests.html"
   ]
  },
  {
   "cell_type": "code",
   "execution_count": null,
   "metadata": {
    "collapsed": true
   },
   "outputs": [],
   "source": []
  }
 ],
 "metadata": {
  "anaconda-cloud": {},
  "kernelspec": {
   "display_name": "Python [conda root]",
   "language": "python",
   "name": "conda-root-py"
  },
  "language_info": {
   "codemirror_mode": {
    "name": "ipython",
    "version": 2
   },
   "file_extension": ".py",
   "mimetype": "text/x-python",
   "name": "python",
   "nbconvert_exporter": "python",
   "pygments_lexer": "ipython2",
   "version": "2.7.12"
  }
 },
 "nbformat": 4,
 "nbformat_minor": 1
}
