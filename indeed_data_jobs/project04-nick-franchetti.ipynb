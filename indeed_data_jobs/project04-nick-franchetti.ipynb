{
 "cells": [
  {
   "cell_type": "markdown",
   "metadata": {
    "focus": false,
    "id": "69b9a648-bcc7-490d-9f9b-ea244d156bd6"
   },
   "source": [
    "# Web Scraping for Indeed.com & Predicting Salaries"
   ]
  },
  {
   "cell_type": "markdown",
   "metadata": {
    "focus": false,
    "id": "34681254-c802-462f-829d-8894d0772d08"
   },
   "source": [
    "In this project, we will practice two major skills: collecting data by scraping a website and then building a binary predictor with Logistic Regression.\n",
    "\n",
    "We are going to collect salary information on data science jobs in a variety of markets. Then using the location, title and summary of the job we will attempt to predict the salary of the job. For job posting sites, this would be extraordinarily useful. While most listings DO NOT come with salary information (as you will see in this exercise), being to able extrapolate or predict the expected salaries from other listings can help guide negotiations.\n",
    "\n",
    "Normally, we could use regression for this task; however, we will convert this problem into classification and use Logistic Regression.\n",
    "\n",
    "- Question: Why would we want this to be a classification problem?\n",
    "- Answer: While more precision may be better, there is a fair amount of natural variance in job salaries - predicting a range be may be useful.\n",
    "\n",
    "Therefore, the first part of the assignment will be focused on scraping Indeed.com. In the second, we'll focus on using listings with salary information to build a model and predict additional salaries."
   ]
  },
  {
   "cell_type": "markdown",
   "metadata": {
    "focus": false,
    "id": "a948d79c-5527-4c0d-ab23-f5d43ce72056"
   },
   "source": [
    "### Scraping job listings from Indeed.com"
   ]
  },
  {
   "cell_type": "markdown",
   "metadata": {
    "focus": true,
    "id": "7203e0c9-e437-4802-a6ad-7dc464f94436"
   },
   "source": [
    "We will be scraping job listings from Indeed.com using BeautifulSoup. Luckily, Indeed.com is a simple text page where we can easily find relevant entries.\n",
    "\n",
    "First, look at the source of an Indeed.com page: (http://www.indeed.com/jobs?q=data+scientist+%2420%2C000&l=New+York&start=10\")\n",
    "\n",
    "Notice, each job listing is underneath a `div` tag with a class name of `result`. We can use BeautifulSoup to extract those. "
   ]
  },
  {
   "cell_type": "markdown",
   "metadata": {
    "focus": false,
    "id": "9732c901-ae26-4160-8376-42e22dd327df"
   },
   "source": [
    "#### Setup a request (using `requests`) to the URL below. Use BeautifulSoup to parse the page and extract all results (HINT: Look for div tags with class name result)\n",
    "\n",
    "The URL here has many query parameters\n",
    "\n",
    "- `q` for the job search\n",
    "- This is followed by \"+20,000\" to return results with salaries (or expected salaries >$20,000)\n",
    "- `l` for a location \n",
    "- `start` for what result number to start on"
   ]
  },
  {
   "cell_type": "code",
   "execution_count": 1,
   "metadata": {
    "collapsed": false,
    "focus": false,
    "id": "e915023e-6b0d-4982-af2a-b1e0355f4927"
   },
   "outputs": [],
   "source": [
    "# Various example URL's to test code on\n",
    "\n",
    "# URL = 'http://www.indeed.com/jobs?q=data+scientist+%24120%2C000&l=Chicago%2C+IL&start=10&pp='\n",
    "# URL = 'http://www.indeed.com/jobs?q=data+scientist&l=Chicago%2C+IL'\n",
    "URL = 'http://www.indeed.com/jobs?q=data+scientist&l=Chicago%2C+IL&start=60&pp='"
   ]
  },
  {
   "cell_type": "code",
   "execution_count": 1,
   "metadata": {
    "collapsed": true,
    "focus": false,
    "id": "2efefc73-064a-482d-b3b5-ddf5508cb4ec"
   },
   "outputs": [],
   "source": [
    "import requests\n",
    "import bs4\n",
    "from bs4 import BeautifulSoup\n",
    "import urllib2\n",
    "import pandas as pd\n",
    "import numpy as np\n",
    "import matplotlib.pyplot as plt\n",
    "%matplotlib inline\n",
    "import seaborn as sns"
   ]
  },
  {
   "cell_type": "code",
   "execution_count": 3,
   "metadata": {
    "collapsed": true
   },
   "outputs": [],
   "source": [
    "import time\n",
    "def time_delay(x):\n",
    "    time.sleep(x)\n",
    "    print 'I waited for %s seconds'"
   ]
  },
  {
   "cell_type": "code",
   "execution_count": 4,
   "metadata": {
    "collapsed": false,
    "focus": false,
    "id": "2c6752c4-7704-4c94-8bc0-6f13d2d0d570"
   },
   "outputs": [
    {
     "name": "stderr",
     "output_type": "stream",
     "text": [
      "/home/nick/anaconda2/lib/python2.7/site-packages/bs4/__init__.py:181: UserWarning: No parser was explicitly specified, so I'm using the best available HTML parser for this system (\"lxml\"). This usually isn't a problem, but if you run this code on another system, or in a different virtual environment, it may use a different parser and behave differently.\n",
      "\n",
      "The code that caused this warning is on line 174 of the file /home/nick/anaconda2/lib/python2.7/runpy.py. To get rid of this warning, change code that looks like this:\n",
      "\n",
      " BeautifulSoup([your markup])\n",
      "\n",
      "to this:\n",
      "\n",
      " BeautifulSoup([your markup], \"lxml\")\n",
      "\n",
      "  markup_type=markup_type))\n"
     ]
    }
   ],
   "source": [
    "# Read page with BeautifulSoup\n",
    "soup = BeautifulSoup(urllib2.urlopen(URL).read())"
   ]
  },
  {
   "cell_type": "code",
   "execution_count": 5,
   "metadata": {
    "collapsed": false
   },
   "outputs": [
    {
     "name": "stdout",
     "output_type": "stream",
     "text": [
      "10\n"
     ]
    }
   ],
   "source": [
    "# Previously I was trying to differentiate between sponsored and non-sponsored results. Now, instead, I'm just searching\n",
    "# on the keyword 'result', which will return both and avoid having to deal with weird combinations of leading/trailing spaces\n",
    "\n",
    "# JUST USE RESULT, NOT ROW RESULT WITH ANY WEIRD COMBINATION OF SPACES\n",
    "\n",
    "# Sponsored postings\n",
    "# print len(soup('div', {'class' : 'row result'}))\n",
    "# print len(soup('div', {'class' : 'row  result'}))\n",
    "# print len(soup('div', {'class' : 'row sjlast result'}))\n",
    "\n",
    "\n",
    "# All Postings\n",
    "print len(soup('div', {'class' : 'result'}))"
   ]
  },
  {
   "cell_type": "code",
   "execution_count": 6,
   "metadata": {
    "collapsed": false
   },
   "outputs": [],
   "source": [
    "# for row in soup('div', {'class' : 'row result'}):\n",
    "#     print row.prettify(), '\\n'"
   ]
  },
  {
   "cell_type": "code",
   "execution_count": 7,
   "metadata": {
    "collapsed": false
   },
   "outputs": [],
   "source": [
    "# Not using this anymore\n",
    "\n",
    "# # #### For sponsored results\n",
    "\n",
    "# data = {}\n",
    "# counter = 0\n",
    "\n",
    "\n",
    "# for row in soup('div'):\n",
    "#     data[counter] = {}\n",
    "#     if soup('div', {'class' : 'result'}):\n",
    "#         for item in row('a',{'data-tn-element' : 'jobTitle'}):\n",
    "#             data[counter]['Title'] = item.text\n",
    "#         for item in row('span', {'class' : 'company'}):\n",
    "#             data[counter]['Company'] = item.text\n",
    "#         for item in row('span', {'class': 'location'}):\n",
    "#             data[counter]['Location'] = item.text\n",
    "#         for item in row('span', {'class': 'summary'}):\n",
    "#             data[counter]['Summary'] = item.text\n",
    "#         for item in row('td', {'class': 'snip'}):\n",
    "#             if item('nobr'): # Salary doesn't exist for all entries\n",
    "#                 for sal in item('nobr'):\n",
    "#                     data[counter]['Salary'] = sal.text\n",
    "#             else:\n",
    "#                 data[counter]['Salary'] = None\n",
    "#         counter += 1\n",
    "#     else:\n",
    "#         if row('div', {'class' : 'result'}):\n",
    "#             for item in row('a',{'data-tn-element' : 'jobTitle'}):\n",
    "#                 data[counter]['Title'] = item.text\n",
    "#             for item in row('span', {'class' : 'company'}):\n",
    "#                 data[counter]['Company'] = item.text\n",
    "#             for item in row('span', {'class': 'location'}):\n",
    "#                 data[counter]['Location'] = item.text\n",
    "#             for item in row('span', {'class': 'summary'}):\n",
    "#                 data[counter]['Summary'] = item.text\n",
    "#             for item in row('td', {'class': 'snip'}):\n",
    "#                 if item('nobr'): # Salary doesn't exist for all entries\n",
    "#                     for sal in item('nobr'):\n",
    "#                         data[counter]['Salary'] = sal.text\n",
    "#                 else:\n",
    "#                     data[counter]['Salary'] = None\n",
    "#             counter += 1\n",
    "#     print counter\n",
    "#     print data[counter]"
   ]
  },
  {
   "cell_type": "code",
   "execution_count": 8,
   "metadata": {
    "collapsed": false
   },
   "outputs": [],
   "source": [
    "# # Initial test code to pull title, company, location, summary, and salary from result\n",
    "# #### For all results\n",
    "\n",
    "data = {}\n",
    "counter = 0\n",
    "\n",
    "\n",
    "for row in soup('div', {'class' : 'result'}):\n",
    "    data[counter] = {}\n",
    "    if row('a', {'data-tn-element': 'jobTitle'}):\n",
    "        for item in row('a',{'data-tn-element' : 'jobTitle'}):\n",
    "            data[counter]['Title'] = item.text\n",
    "    else:\n",
    "        data[counter]['Title'] = None\n",
    "    for item in row('span', {'class' : 'company'}):\n",
    "        data[counter]['Company'] = item.text\n",
    "    for item in row('span', {'class': 'location'}):\n",
    "        data[counter]['Location'] = item.text\n",
    "    for item in row('span', {'class': 'summary'}):\n",
    "        data[counter]['Summary'] = item.text\n",
    "    for item in row('td', {'class': 'snip'}):\n",
    "        if item('nobr'): # Salary doesn't exist for all entries\n",
    "            for sal in item('nobr'):\n",
    "                data[counter]['Salary'] = sal.text\n",
    "        else:\n",
    "            data[counter]['Salary'] = None\n",
    "    counter += 1\n"
   ]
  },
  {
   "cell_type": "code",
   "execution_count": 9,
   "metadata": {
    "collapsed": false
   },
   "outputs": [
    {
     "data": {
      "text/plain": [
       "{0: {'Company': u'\\n\\n\\n        Echo Global Logistics\\n',\n",
       "  'Location': u'Chicago, IL 60654 (Loop area)',\n",
       "  'Salary': None,\n",
       "  'Summary': u'\\nReporting to the Principal Data Scientist, this role uses statistical and analytic techniques, including descriptive and predictive modeling, machine learning,...',\n",
       "  'Title': u'Associate Data Scientist'},\n",
       " 1: {'Company': u'\\n\\n\\n        HERE\\n',\n",
       "  'Location': u'Chicago, IL',\n",
       "  'Salary': None,\n",
       "  'Summary': u'\\nTrends in the data and presents them to other scientists and business managers. Computational statistics/science, data mining, machine learning, and...',\n",
       "  'Title': u'Production Data Scientist'},\n",
       " 2: {'Company': u'\\n\\n\\n        IRI\\n',\n",
       "  'Location': u'Chicago, IL',\n",
       "  'Salary': None,\n",
       "  'Summary': u'\\nOur R&D team is expanding and looking for the right person to work with other data scientists, product managers, and technology teams to develop new and...',\n",
       "  'Title': u'R&D Data Science Consultant'},\n",
       " 3: {'Company': u'\\n\\n\\n        DePaul University\\n',\n",
       "  'Location': u'Chicago, IL 60604 (Loop area)',\n",
       "  'Salary': None,\n",
       "  'Summary': u'\\nThe purpose of this position is to find a talented and motivated research engineer who can work on designing and implementing infrastructure that will help...',\n",
       "  'Title': u'Research Engineer'},\n",
       " 4: {'Company': u'\\n\\n    Kelton Global\\n',\n",
       "  'Location': u'Chicago, IL',\n",
       "  'Salary': None,\n",
       "  'Summary': u'\\nOne to two years of relevant quantitative experience within a market research capacity is highly preferred, but if you have relevant internship experience, we...',\n",
       "  'Title': u'Analyst, Quantitative Research'},\n",
       " 5: {'Company': u'\\n\\n\\n        Prosperoware\\n',\n",
       "  'Location': u'Chicago, IL 60601 (Loop area)',\n",
       "  'Salary': None,\n",
       "  'Summary': u'\\nExperience with data mining, machine learning, statistical modeling tools and underlying algorithms. Search for data sets matching data analytics requirements....',\n",
       "  'Title': u'Data Scientist'},\n",
       " 6: {'Company': u'\\n\\n\\n        Jobspring Partners\\n',\n",
       "  'Location': u'Chicago, IL',\n",
       "  'Salary': u'$100,000 - $120,000 a year',\n",
       "  'Summary': u'\\nThis role is ideal for someone who has a strong passion for analytics and has worked with multiple Machine Learning frameworks such as Spark and Scikit-learn....',\n",
       "  'Title': u'Machine Learning Engineer'},\n",
       " 7: {'Company': u'\\n\\n\\n        KPMG\\n',\n",
       "  'Location': u'Chicago, IL 60601 (Loop area)',\n",
       "  'Salary': None,\n",
       "  'Summary': u'\\nMachine learning, data visualization, statistical modeling, data mining, or information retrieval. Five years of professional experience working as a Data...',\n",
       "  'Title': u'Sr Associate - Data Scientist'},\n",
       " 8: {'Company': u'\\n\\n    Valence Health\\n',\n",
       "  'Location': u'Chicago, IL',\n",
       "  'Salary': None,\n",
       "  'Summary': u'\\nLeveraging 20 years of experience, Valence Health works with clients to design, build and manage customized value-based care models including clinically...',\n",
       "  'Title': u'Senior Data Analyst - Healthcare'},\n",
       " 9: {'Company': u'\\n\\n    Civis Analytics\\n',\n",
       "  'Location': u'Chicago, IL',\n",
       "  'Salary': None,\n",
       "  'Summary': u'\\nWith a specialization in unstructured data, this Senior Data Scientist role will apply techniques from fields such as machine learning, applied statistics,...',\n",
       "  'Title': u'Senior Data Scientist - Unstructured Data'}}"
      ]
     },
     "execution_count": 9,
     "metadata": {},
     "output_type": "execute_result"
    }
   ],
   "source": [
    "data"
   ]
  },
  {
   "cell_type": "code",
   "execution_count": 10,
   "metadata": {
    "collapsed": false
   },
   "outputs": [
    {
     "data": {
      "text/html": [
       "<div>\n",
       "<table border=\"1\" class=\"dataframe\">\n",
       "  <thead>\n",
       "    <tr style=\"text-align: right;\">\n",
       "      <th></th>\n",
       "      <th>Company</th>\n",
       "      <th>Location</th>\n",
       "      <th>Salary</th>\n",
       "      <th>Summary</th>\n",
       "      <th>Title</th>\n",
       "    </tr>\n",
       "  </thead>\n",
       "  <tbody>\n",
       "    <tr>\n",
       "      <th>0</th>\n",
       "      <td>\\n\\n\\n        Echo Global Logistics\\n</td>\n",
       "      <td>Chicago, IL 60654 (Loop area)</td>\n",
       "      <td>None</td>\n",
       "      <td>\\nReporting to the Principal Data Scientist, t...</td>\n",
       "      <td>Associate Data Scientist</td>\n",
       "    </tr>\n",
       "    <tr>\n",
       "      <th>1</th>\n",
       "      <td>\\n\\n\\n        HERE\\n</td>\n",
       "      <td>Chicago, IL</td>\n",
       "      <td>None</td>\n",
       "      <td>\\nTrends in the data and presents them to othe...</td>\n",
       "      <td>Production Data Scientist</td>\n",
       "    </tr>\n",
       "    <tr>\n",
       "      <th>2</th>\n",
       "      <td>\\n\\n\\n        IRI\\n</td>\n",
       "      <td>Chicago, IL</td>\n",
       "      <td>None</td>\n",
       "      <td>\\nOur R&amp;D team is expanding and looking for th...</td>\n",
       "      <td>R&amp;D Data Science Consultant</td>\n",
       "    </tr>\n",
       "    <tr>\n",
       "      <th>3</th>\n",
       "      <td>\\n\\n\\n        DePaul University\\n</td>\n",
       "      <td>Chicago, IL 60604 (Loop area)</td>\n",
       "      <td>None</td>\n",
       "      <td>\\nThe purpose of this position is to find a ta...</td>\n",
       "      <td>Research Engineer</td>\n",
       "    </tr>\n",
       "    <tr>\n",
       "      <th>4</th>\n",
       "      <td>\\n\\n    Kelton Global\\n</td>\n",
       "      <td>Chicago, IL</td>\n",
       "      <td>None</td>\n",
       "      <td>\\nOne to two years of relevant quantitative ex...</td>\n",
       "      <td>Analyst, Quantitative Research</td>\n",
       "    </tr>\n",
       "    <tr>\n",
       "      <th>5</th>\n",
       "      <td>\\n\\n\\n        Prosperoware\\n</td>\n",
       "      <td>Chicago, IL 60601 (Loop area)</td>\n",
       "      <td>None</td>\n",
       "      <td>\\nExperience with data mining, machine learnin...</td>\n",
       "      <td>Data Scientist</td>\n",
       "    </tr>\n",
       "    <tr>\n",
       "      <th>6</th>\n",
       "      <td>\\n\\n\\n        Jobspring Partners\\n</td>\n",
       "      <td>Chicago, IL</td>\n",
       "      <td>$100,000 - $120,000 a year</td>\n",
       "      <td>\\nThis role is ideal for someone who has a str...</td>\n",
       "      <td>Machine Learning Engineer</td>\n",
       "    </tr>\n",
       "    <tr>\n",
       "      <th>7</th>\n",
       "      <td>\\n\\n\\n        KPMG\\n</td>\n",
       "      <td>Chicago, IL 60601 (Loop area)</td>\n",
       "      <td>None</td>\n",
       "      <td>\\nMachine learning, data visualization, statis...</td>\n",
       "      <td>Sr Associate - Data Scientist</td>\n",
       "    </tr>\n",
       "    <tr>\n",
       "      <th>8</th>\n",
       "      <td>\\n\\n    Valence Health\\n</td>\n",
       "      <td>Chicago, IL</td>\n",
       "      <td>None</td>\n",
       "      <td>\\nLeveraging 20 years of experience, Valence H...</td>\n",
       "      <td>Senior Data Analyst - Healthcare</td>\n",
       "    </tr>\n",
       "    <tr>\n",
       "      <th>9</th>\n",
       "      <td>\\n\\n    Civis Analytics\\n</td>\n",
       "      <td>Chicago, IL</td>\n",
       "      <td>None</td>\n",
       "      <td>\\nWith a specialization in unstructured data, ...</td>\n",
       "      <td>Senior Data Scientist - Unstructured Data</td>\n",
       "    </tr>\n",
       "  </tbody>\n",
       "</table>\n",
       "</div>"
      ],
      "text/plain": [
       "                                 Company                       Location  \\\n",
       "0  \\n\\n\\n        Echo Global Logistics\\n  Chicago, IL 60654 (Loop area)   \n",
       "1                   \\n\\n\\n        HERE\\n                    Chicago, IL   \n",
       "2                    \\n\\n\\n        IRI\\n                    Chicago, IL   \n",
       "3      \\n\\n\\n        DePaul University\\n  Chicago, IL 60604 (Loop area)   \n",
       "4                \\n\\n    Kelton Global\\n                    Chicago, IL   \n",
       "5           \\n\\n\\n        Prosperoware\\n  Chicago, IL 60601 (Loop area)   \n",
       "6     \\n\\n\\n        Jobspring Partners\\n                    Chicago, IL   \n",
       "7                   \\n\\n\\n        KPMG\\n  Chicago, IL 60601 (Loop area)   \n",
       "8               \\n\\n    Valence Health\\n                    Chicago, IL   \n",
       "9              \\n\\n    Civis Analytics\\n                    Chicago, IL   \n",
       "\n",
       "                       Salary  \\\n",
       "0                        None   \n",
       "1                        None   \n",
       "2                        None   \n",
       "3                        None   \n",
       "4                        None   \n",
       "5                        None   \n",
       "6  $100,000 - $120,000 a year   \n",
       "7                        None   \n",
       "8                        None   \n",
       "9                        None   \n",
       "\n",
       "                                             Summary  \\\n",
       "0  \\nReporting to the Principal Data Scientist, t...   \n",
       "1  \\nTrends in the data and presents them to othe...   \n",
       "2  \\nOur R&D team is expanding and looking for th...   \n",
       "3  \\nThe purpose of this position is to find a ta...   \n",
       "4  \\nOne to two years of relevant quantitative ex...   \n",
       "5  \\nExperience with data mining, machine learnin...   \n",
       "6  \\nThis role is ideal for someone who has a str...   \n",
       "7  \\nMachine learning, data visualization, statis...   \n",
       "8  \\nLeveraging 20 years of experience, Valence H...   \n",
       "9  \\nWith a specialization in unstructured data, ...   \n",
       "\n",
       "                                       Title  \n",
       "0                   Associate Data Scientist  \n",
       "1                  Production Data Scientist  \n",
       "2                R&D Data Science Consultant  \n",
       "3                          Research Engineer  \n",
       "4             Analyst, Quantitative Research  \n",
       "5                             Data Scientist  \n",
       "6                  Machine Learning Engineer  \n",
       "7              Sr Associate - Data Scientist  \n",
       "8           Senior Data Analyst - Healthcare  \n",
       "9  Senior Data Scientist - Unstructured Data  "
      ]
     },
     "execution_count": 10,
     "metadata": {},
     "output_type": "execute_result"
    }
   ],
   "source": [
    "# Transform data into pd DataFrame\n",
    "df = pd.DataFrame(data).T\n",
    "df"
   ]
  },
  {
   "cell_type": "markdown",
   "metadata": {
    "focus": false,
    "id": "bb0b866a-26a7-45e9-8084-5a0f90eb4b3e"
   },
   "source": [
    "Let's look at one result more closely. A single `result` looks like\n",
    "\n",
    "```\n",
    "<div class=\" row result\" data-jk=\"2480d203f7e97210\" data-tn-component=\"organicJob\" id=\"p_2480d203f7e97210\" itemscope=\"\" itemtype=\"http://schema.org/JobPosting\">\n",
    "<h2 class=\"jobtitle\" id=\"jl_2480d203f7e97210\">\n",
    "<a class=\"turnstileLink\" data-tn-element=\"jobTitle\" onmousedown=\"return rclk(this,jobmap[0],1);\" rel=\"nofollow\" target=\"_blank\" title=\"AVP/Quantitative Analyst\">AVP/Quantitative Analyst</a>\n",
    "</h2>\n",
    "<span class=\"company\" itemprop=\"hiringOrganization\" itemtype=\"http://schema.org/Organization\">\n",
    "<span itemprop=\"name\">\n",
    "<a href=\"/cmp/Alliancebernstein?from=SERP&amp;campaignid=serp-linkcompanyname&amp;fromjk=2480d203f7e97210&amp;jcid=b374f2a780e04789\" target=\"_blank\">\n",
    "    AllianceBernstein</a></span>\n",
    "</span>\n",
    "<tr>\n",
    "<td class=\"snip\">\n",
    "<nobr>$117,500 - $127,500 a year</nobr>\n",
    "<div>\n",
    "<span class=\"summary\" itemprop=\"description\">\n",
    "C onduct quantitative and statistical research as well as portfolio management for various investment portfolios. Collaborate with Quantitative Analysts and</span>\n",
    "</div>\n",
    "</div>\n",
    "</td>\n",
    "</tr>\n",
    "</table>\n",
    "</div>\n",
    "```\n",
    "\n",
    "While this has some more verbose elements removed, we can see that there is some structure to the above:\n",
    "- The salary is available in a `nobr` element inside of a `td` element with `class='snip`.\n",
    "- The title of a job is in a link with class set to `jobtitle` and a `data-tn-element=\"jobTitle`.  \n",
    "- The location is set in a `span` with `class='location'`. \n",
    "- The company is set in a `span` with `class='company'`. "
   ]
  },
  {
   "cell_type": "markdown",
   "metadata": {
    "focus": false,
    "id": "f1eddb90-4ba8-483c-a229-77e93aa53119"
   },
   "source": [
    "### Write 4 functions to extract each item: location, company, job, and salary.\n",
    "\n",
    "example: \n",
    "```python\n",
    "def extract_location_from_result(result):\n",
    "    return result.find ...\n",
    "```\n",
    "\n",
    "\n",
    "- **Make sure these functions are robust and can handle cases where the data/field may not be available.**\n",
    "    - Remember to check if a field is empty or `None` for attempting to call methods on it\n",
    "    - Remember to use `try/except` if you anticipate errors\n",
    "- **Test** the functions on the results above and simple examples"
   ]
  },
  {
   "cell_type": "code",
   "execution_count": 11,
   "metadata": {
    "collapsed": false,
    "focus": false,
    "id": "a1af53c9-9090-494f-b82e-cadb60a54909"
   },
   "outputs": [],
   "source": [
    "## Helper functions for piece of information we want to extract\n",
    "\n",
    "def extract_title_from_result(result):\n",
    "    for item in result('a',{'data-tn-element' : 'jobTitle'}):\n",
    "        return (item.text).encode('utf-8')\n",
    "    \n",
    "def extract_company_from_result(result):\n",
    "    for item in result('span', {'class' : 'company'}):\n",
    "        return (item.text).encode('utf-8')\n",
    "\n",
    "def extract_location_from_result(result):\n",
    "    for item in result('span', {'class': 'location'}):\n",
    "        return (item.text).encode('utf-8')\n",
    "\n",
    "def extract_salary_from_result(result):\n",
    "    for item in result('td', {'class': 'snip'}):\n",
    "        if item('nobr'):\n",
    "            for sal in item('nobr'):\n",
    "                return (sal.text).encode('utf-8')\n",
    "        else:\n",
    "            return None\n",
    "\n",
    "def extract_summary_from_result(result):\n",
    "    for item in result('span', {'class': 'summary'}):\n",
    "        return (item.text).encode('utf-8')"
   ]
  },
  {
   "cell_type": "code",
   "execution_count": 12,
   "metadata": {
    "collapsed": false
   },
   "outputs": [],
   "source": [
    "# Master function that combines all the functions above and will grab the full results for a given page\n",
    "\n",
    "def get_page_results(URL, count, city):\n",
    "    soup = BeautifulSoup(urllib2.urlopen(URL).read())\n",
    "    \n",
    "    for row in soup('div', {'class' : 'result'}):\n",
    "        data[count] = {}\n",
    "\n",
    "        data[count]['Title'] = extract_title_from_result(row)\n",
    "        data[count]['Company'] = extract_company_from_result(row)\n",
    "        data[count]['Location'] = extract_location_from_result(row)\n",
    "        data[count]['Salary'] = extract_salary_from_result(row)\n",
    "        data[count]['Summary'] = extract_summary_from_result(row)\n",
    "        data[count]['Search City'] = city\n",
    "\n",
    "        count += 1\n",
    "    time.sleep(2.0)\n",
    "    return data, count"
   ]
  },
  {
   "cell_type": "code",
   "execution_count": 14,
   "metadata": {
    "collapsed": false
   },
   "outputs": [],
   "source": [
    "# Testing on one page\n",
    "\n",
    "data = {}\n",
    "counter = 0\n",
    "\n",
    "data, counter = get_page_results(URL, counter, 'Chicago')"
   ]
  },
  {
   "cell_type": "code",
   "execution_count": 15,
   "metadata": {
    "collapsed": false
   },
   "outputs": [
    {
     "data": {
      "text/plain": [
       "10"
      ]
     },
     "execution_count": 15,
     "metadata": {},
     "output_type": "execute_result"
    }
   ],
   "source": [
    "counter"
   ]
  },
  {
   "cell_type": "code",
   "execution_count": 16,
   "metadata": {
    "collapsed": false,
    "scrolled": true
   },
   "outputs": [
    {
     "data": {
      "text/html": [
       "<div>\n",
       "<table border=\"1\" class=\"dataframe\">\n",
       "  <thead>\n",
       "    <tr style=\"text-align: right;\">\n",
       "      <th></th>\n",
       "      <th>Company</th>\n",
       "      <th>Location</th>\n",
       "      <th>Salary</th>\n",
       "      <th>Search City</th>\n",
       "      <th>Summary</th>\n",
       "      <th>Title</th>\n",
       "    </tr>\n",
       "  </thead>\n",
       "  <tbody>\n",
       "    <tr>\n",
       "      <th>0</th>\n",
       "      <td>\\n\\n\\n        Echo Global Logistics\\n</td>\n",
       "      <td>Chicago, IL 60654 (Loop area)</td>\n",
       "      <td>None</td>\n",
       "      <td>Chicago</td>\n",
       "      <td>\\nReporting to the Principal Data Scientist, t...</td>\n",
       "      <td>Associate Data Scientist</td>\n",
       "    </tr>\n",
       "    <tr>\n",
       "      <th>1</th>\n",
       "      <td>\\n\\n\\n        HERE\\n</td>\n",
       "      <td>Chicago, IL</td>\n",
       "      <td>None</td>\n",
       "      <td>Chicago</td>\n",
       "      <td>\\nTrends in the data and presents them to othe...</td>\n",
       "      <td>Production Data Scientist</td>\n",
       "    </tr>\n",
       "    <tr>\n",
       "      <th>2</th>\n",
       "      <td>\\n\\n\\n        IRI\\n</td>\n",
       "      <td>Chicago, IL</td>\n",
       "      <td>None</td>\n",
       "      <td>Chicago</td>\n",
       "      <td>\\nOur R&amp;D team is expanding and looking for th...</td>\n",
       "      <td>R&amp;D Data Science Consultant</td>\n",
       "    </tr>\n",
       "    <tr>\n",
       "      <th>3</th>\n",
       "      <td>\\n\\n\\n        DePaul University\\n</td>\n",
       "      <td>Chicago, IL 60604 (Loop area)</td>\n",
       "      <td>None</td>\n",
       "      <td>Chicago</td>\n",
       "      <td>\\nThe purpose of this position is to find a ta...</td>\n",
       "      <td>Research Engineer</td>\n",
       "    </tr>\n",
       "    <tr>\n",
       "      <th>4</th>\n",
       "      <td>\\n\\n    Kelton Global\\n</td>\n",
       "      <td>Chicago, IL</td>\n",
       "      <td>None</td>\n",
       "      <td>Chicago</td>\n",
       "      <td>\\nOne to two years of relevant quantitative ex...</td>\n",
       "      <td>Analyst, Quantitative Research</td>\n",
       "    </tr>\n",
       "  </tbody>\n",
       "</table>\n",
       "</div>"
      ],
      "text/plain": [
       "                                 Company                       Location  \\\n",
       "0  \\n\\n\\n        Echo Global Logistics\\n  Chicago, IL 60654 (Loop area)   \n",
       "1                   \\n\\n\\n        HERE\\n                    Chicago, IL   \n",
       "2                    \\n\\n\\n        IRI\\n                    Chicago, IL   \n",
       "3      \\n\\n\\n        DePaul University\\n  Chicago, IL 60604 (Loop area)   \n",
       "4                \\n\\n    Kelton Global\\n                    Chicago, IL   \n",
       "\n",
       "  Salary Search City                                            Summary  \\\n",
       "0   None     Chicago  \\nReporting to the Principal Data Scientist, t...   \n",
       "1   None     Chicago  \\nTrends in the data and presents them to othe...   \n",
       "2   None     Chicago  \\nOur R&D team is expanding and looking for th...   \n",
       "3   None     Chicago  \\nThe purpose of this position is to find a ta...   \n",
       "4   None     Chicago  \\nOne to two years of relevant quantitative ex...   \n",
       "\n",
       "                            Title  \n",
       "0        Associate Data Scientist  \n",
       "1       Production Data Scientist  \n",
       "2     R&D Data Science Consultant  \n",
       "3               Research Engineer  \n",
       "4  Analyst, Quantitative Research  "
      ]
     },
     "execution_count": 16,
     "metadata": {},
     "output_type": "execute_result"
    }
   ],
   "source": [
    "df = pd.DataFrame(data).T\n",
    "df.head()"
   ]
  },
  {
   "cell_type": "markdown",
   "metadata": {
    "focus": false,
    "id": "34070e89-9521-4b45-90c8-57a6599aac68"
   },
   "source": [
    "Now, to scale up our scraping, we need to accumulate more results. We can do this by examining the URL above.\n",
    "\n",
    "- \"http://www.indeed.com/jobs?q=data+scientist+%2420%2C000&l=New+York&start=10\"\n",
    "\n",
    "There are two query parameters here we can alter to collect more results, the `l=New+York` and the `start=10`. The first controls the location of the results (so we can try a different city). The second controls where in the results to start and gives 10 results (thus, we can keep incrementing by 10 to go further in the list)."
   ]
  },
  {
   "cell_type": "markdown",
   "metadata": {
    "focus": false,
    "id": "e8beed7c-3e42-40c0-810f-5f67f8f885a0"
   },
   "source": [
    "#### Complete the following code to collect results from multiple cities and starting points. \n",
    "- Enter your city below to add it to the search\n",
    "- Remember to convert your salary to U.S. Dollars to match the other cities if the currency is different"
   ]
  },
  {
   "cell_type": "code",
   "execution_count": 17,
   "metadata": {
    "collapsed": true
   },
   "outputs": [],
   "source": [
    "# Testing code on multiple URL's, just two to start\n",
    "URL_list = ['http://www.indeed.com/jobs?q=data+scientist&l=Chicago%2C+IL&start=20&pp=', \n",
    "            'http://www.indeed.com/jobs?q=data+scientist&l=Chicago%2C+IL&start=30&pp=']"
   ]
  },
  {
   "cell_type": "code",
   "execution_count": 18,
   "metadata": {
    "collapsed": true
   },
   "outputs": [],
   "source": [
    "data = {}\n",
    "counter = 0\n",
    "\n",
    "for url in URL_list:\n",
    "    data, counter = get_page_results(url, counter, 'Chicago')"
   ]
  },
  {
   "cell_type": "code",
   "execution_count": 19,
   "metadata": {
    "collapsed": false,
    "scrolled": false
   },
   "outputs": [
    {
     "data": {
      "text/plain": [
       "{0: {'Company': '\\n\\n        Allstate Insurance',\n",
       "  'Location': 'Chicago, IL 60601',\n",
       "  'Salary': None,\n",
       "  'Search City': 'Chicago',\n",
       "  'Summary': 'We work collaboratively with both \\xe2\\x80\\x98product teams\\xe2\\x80\\x99 and data scientists in support of Allstate business goals. Partners closely with technical and non-technical...',\n",
       "  'Title': 'Android Application Developer - Connected Car'},\n",
       " 1: {'Company': '\\n\\n        BAXTER',\n",
       "  'Location': 'Deerfield, IL',\n",
       "  'Salary': None,\n",
       "  'Search City': 'Chicago',\n",
       "  'Summary': 'They play the role s of employee advocates, strategic business partners, change agents , and process experts, applying competencies in human capital planning,...',\n",
       "  'Title': '2016 National Black MBA Association Conference'},\n",
       " 2: {'Company': '\\n    Parallel Partners',\n",
       "  'Location': 'Chicago, IL 60606',\n",
       "  'Salary': None,\n",
       "  'Search City': 'Chicago',\n",
       "  'Summary': 'Chicago IL Jobs, Quantitative Research Analyst, Python, SQL, Linux, UNIX, R, MatLab, Financial, Chicago Recruiters, IT Jobs, Chicago Recruiting Summary:....',\n",
       "  'Title': 'Quantitative Research Analyst - MS101336'},\n",
       " 3: {'Company': '\\n\\n    Vizient, Inc.\\n',\n",
       "  'Location': 'Chicago, IL',\n",
       "  'Salary': None,\n",
       "  'Search City': 'Chicago',\n",
       "  'Summary': '\\nServes as the resident data expert and share best practices/approaches for statistics, machine learning techniques, data modeling, simulation and advanced...',\n",
       "  'Title': 'Data Scientist'},\n",
       " 4: {'Company': '\\n\\n\\n        National Collegiate Scouting Association\\n',\n",
       "  'Location': 'Chicago, IL 60642 (Portage Park area)',\n",
       "  'Salary': None,\n",
       "  'Search City': 'Chicago',\n",
       "  'Summary': '\\nAs a Data Scientist at NCSA Athletic Recruiting you will take ideas and turn them into actionable insights through data analysis....',\n",
       "  'Title': 'Data Scientist'},\n",
       " 5: {'Company': '\\n\\n    Iris Mobile\\n',\n",
       "  'Location': 'Chicago, IL',\n",
       "  'Salary': None,\n",
       "  'Search City': 'Chicago',\n",
       "  'Summary': '\\nDevelop machine learning models to better process our data. 3-5 years of experience working in a business intelligence or data analytics capacity....',\n",
       "  'Title': 'Data Scientist'},\n",
       " 6: {'Company': '\\n\\n\\n        Photon\\n',\n",
       "  'Location': 'Deerfield, IL',\n",
       "  'Salary': None,\n",
       "  'Search City': 'Chicago',\n",
       "  'Summary': '\\nExperience in Machine Learning Techniques, Statistical Analysis and Modelling, Big Data Analytics, Advanced Visualization, Data Science, Statistical Computation...',\n",
       "  'Title': 'Data Scientist'},\n",
       " 7: {'Company': '\\n\\n\\n        KPMG\\n',\n",
       "  'Location': 'Chicago, IL 60601 (Loop area)',\n",
       "  'Salary': None,\n",
       "  'Search City': 'Chicago',\n",
       "  'Summary': '\\nUtilize analytics to explore data, and identify key trends and insights from multi-faceted, and high-dimensional data, and work with data scientists to create...',\n",
       "  'Title': 'Data Visualization Software Engineer'},\n",
       " 8: {'Company': '\\n\\n\\n        CCC Information Services Inc.\\n',\n",
       "  'Location': 'Chicago, IL 60654 (Loop area)',\n",
       "  'Salary': None,\n",
       "  'Search City': 'Chicago',\n",
       "  'Summary': '\\nThe Vision Scientist, will contribute to a photo analytics project, with a goal of developing a fully automated solution for an auto collision damage appraisal....',\n",
       "  'Title': 'Computer Vision Data Scientist'},\n",
       " 9: {'Company': '\\n\\n\\n        GE Transportation\\n',\n",
       "  'Location': 'Chicago, IL',\n",
       "  'Salary': None,\n",
       "  'Search City': 'Chicago',\n",
       "  'Summary': '\\nThe Lead Data Scientist will demonstrate leadership in communicating business goals, programs, and processes for an area or business / market segment....',\n",
       "  'Title': 'Lead Data Scientist'},\n",
       " 10: {'Company': '\\n\\n    Civis Analytics\\n',\n",
       "  'Location': 'Chicago, IL',\n",
       "  'Salary': None,\n",
       "  'Search City': 'Chicago',\n",
       "  'Summary': '\\nWith a specialization in unstructured data, this Data Scientist role will apply techniques from fields such as machine learning, applied statistics, natural...',\n",
       "  'Title': 'Data Scientist - Unstructured Data'},\n",
       " 11: {'Company': '\\n\\n\\n        Kaplan\\n',\n",
       "  'Location': 'Chicago, IL',\n",
       "  'Salary': None,\n",
       "  'Search City': 'Chicago',\n",
       "  'Summary': '\\nMetis Senior Data Scientists provide incredible and inspiring Data Science instruction; We are looking for Senior Data Scientists to be part of the Metis Data...',\n",
       "  'Title': 'Senior Data Scientist'},\n",
       " 12: {'Company': '\\n\\n    e.biT\\n',\n",
       "  'Location': 'Chicago, IL',\n",
       "  'Salary': None,\n",
       "  'Search City': 'Chicago',\n",
       "  'Summary': '\\nComputational statistics/science/engineering, data mining, machine learning, and optimization. Act as an expert and evangelist in areas of data mining, machine...',\n",
       "  'Title': 'Principal Data Scientist - 16-00217'},\n",
       " 13: {'Company': '\\n\\n        Matlen Silver',\n",
       "  'Location': 'Chicago, IL 60606',\n",
       "  'Salary': None,\n",
       "  'Search City': 'Chicago',\n",
       "  'Summary': 'Experiences with SQL a plus;Good communication skills;Excellent work ethic ResponsibilitiesRisk Engine computes Risk, PL Explain, Ledges and complex scenarios...',\n",
       "  'Title': 'Quantitative Business Analyst'},\n",
       " 14: {'Company': '\\n\\n        Saudi Aramco',\n",
       "  'Location': 'United States',\n",
       "  'Salary': None,\n",
       "  'Search City': 'Chicago',\n",
       "  'Summary': 'Petroleum engineers and earth scientists in E&P work with cutting-edge technology to manage and produce these reserves, including 3D visualization, reservoir...',\n",
       "  'Title': 'Consultant Geologist - Petrophysicist'},\n",
       " 15: {'Company': '\\n\\n        Saudi Aramco',\n",
       "  'Location': 'United States',\n",
       "  'Salary': None,\n",
       "  'Search City': 'Chicago',\n",
       "  'Summary': 'Petroleum engineers and earth scientists in E&P work with cutting-edge technology to manage and produce these reserves, including 3D visualization, reservoir...',\n",
       "  'Title': 'Geophysicist: Seismic Interpreter'},\n",
       " 16: {'Company': '\\n\\n        Amazon Corporate LLC',\n",
       "  'Location': 'United States',\n",
       "  'Salary': None,\n",
       "  'Search City': 'Chicago',\n",
       "  'Summary': \"It's always ready, connected, and fast \\xe2\\x80\\x94 just ask for information, music, news, weather, and more. The Amazon Alexa team focuses on bringing user-delighting,...\",\n",
       "  'Title': 'Software Development Engineer - Cambridge, MA Machine Learni...'},\n",
       " 17: {'Company': '\\n\\n        PEAK6 Investments',\n",
       "  'Location': 'Chicago, IL',\n",
       "  'Salary': None,\n",
       "  'Search City': 'Chicago',\n",
       "  'Summary': 'Ability to use scripting skills (VBA, SQL, Python or R) to screen company data, looking for unique openings, correlations, and trends....',\n",
       "  'Title': 'Research Analyst'},\n",
       " 18: {'Company': '\\n\\n    Wolverine Trading\\n',\n",
       "  'Location': 'Chicago, IL 60604 (Loop area)',\n",
       "  'Salary': None,\n",
       "  'Search City': 'Chicago',\n",
       "  'Summary': '\\nMachine Learning Data Scientist. Masters or PhD in Statistics, Physics, Applied Mathematics Computer Science/Machine Learning, or other highly quantitative...',\n",
       "  'Title': 'Machine Learning Data Scientist'},\n",
       " 19: {'Company': '\\n\\n\\n        IBM\\n',\n",
       "  'Location': 'Chicago, IL',\n",
       "  'Salary': None,\n",
       "  'Search City': 'Chicago',\n",
       "  'Summary': '\\nThe person who joins us will be immersed in an enthusiastic culture of creating the next wave of advanced analytics software, pushing the boundaries of what...',\n",
       "  'Title': 'Software Engineer-Data and Algorithms'},\n",
       " 20: {'Company': '\\n\\n\\n        GE Transportation\\n',\n",
       "  'Location': 'Chicago, IL',\n",
       "  'Salary': None,\n",
       "  'Search City': 'Chicago',\n",
       "  'Summary': '\\nVideo / image analytics, and data fusion:. Have experience in video / image analytics, and data fusion thereof....',\n",
       "  'Title': 'Lead Data Scientist - Video/Images'},\n",
       " 21: {'Company': '\\n\\n\\n        The Nielsen Company\\n',\n",
       "  'Location': 'Chicago, IL 60647 (Logan Square area)',\n",
       "  'Salary': None,\n",
       "  'Search City': 'Chicago',\n",
       "  'Summary': '\\nWork with Data Scientists to automate and implement advanced analytical models. We need a talented developer to help us design and build the services that will...',\n",
       "  'Title': 'Big Data Engineer (Python)'},\n",
       " 22: {'Company': '\\n\\n\\n        Northwestern University\\n',\n",
       "  'Location': 'Chicago, IL',\n",
       "  'Salary': None,\n",
       "  'Search City': 'Chicago',\n",
       "  'Summary': '\\nCritical thinking, data mining, data modeling, decision making & problem solving. Completes data cleaning and organizes data files for analysis....',\n",
       "  'Title': 'Research Data Analyst'},\n",
       " 23: {'Company': '\\n\\n\\n        Fresenius Kabi\\n',\n",
       "  'Location': 'Melrose Park, IL',\n",
       "  'Salary': None,\n",
       "  'Search City': 'Chicago',\n",
       "  'Summary': '\\nPlans data collection, and analyzes and interprets numerical data from surveys, experiments, studies, and other sources and applies statistical methodology to...',\n",
       "  'Title': 'CONTINUOUS IMPROVEMENT STATISTICIAN'},\n",
       " 24: {'Company': '\\n\\n\\n        Dupage Medical Group\\n',\n",
       "  'Location': 'Downers Grove, IL',\n",
       "  'Salary': None,\n",
       "  'Search City': 'Chicago',\n",
       "  'Summary': '\\nMPAS was created in 2011 to provide an efficient way of integrating and delivering administrative and clinical services to customers like Northwestern Medicine,...',\n",
       "  'Title': 'Data Scientist-Analytics'},\n",
       " 25: {'Company': '\\n\\n\\n        Exponent\\n',\n",
       "  'Location': 'Chicago, IL 60661 (Near West Side area)',\n",
       "  'Salary': None,\n",
       "  'Search City': 'Chicago',\n",
       "  'Summary': '\\nOur multidisciplinary team of scientists, engineers, physicians, and regulatory consultants brings together more than 90 different disciplines to solve...',\n",
       "  'Title': 'Associate/Senior Associate'},\n",
       " 26: {'Company': '\\n\\n\\n        Northwestern University\\n',\n",
       "  'Location': 'Chicago, IL',\n",
       "  'Salary': None,\n",
       "  'Search City': 'Chicago',\n",
       "  'Summary': '\\nEnsures data integrity. This includes database administration, data consolidation, data analysis and management reporting....',\n",
       "  'Title': 'Statistical Analyst'},\n",
       " 27: {'Company': '\\n\\n\\n        Market Track\\n',\n",
       "  'Location': 'Chicago, IL 60290 (Loop area)',\n",
       "  'Salary': None,\n",
       "  'Search City': 'Chicago',\n",
       "  'Summary': '\\nMarket Track is a high growth data and analytics firm providing advertising, promotions, brand and pricing data and insights to the manufacturer and retail...',\n",
       "  'Title': 'Research Analyst'}}"
      ]
     },
     "execution_count": 19,
     "metadata": {},
     "output_type": "execute_result"
    }
   ],
   "source": [
    "data"
   ]
  },
  {
   "cell_type": "code",
   "execution_count": 20,
   "metadata": {
    "collapsed": false
   },
   "outputs": [
    {
     "data": {
      "text/plain": [
       "28"
      ]
     },
     "execution_count": 20,
     "metadata": {},
     "output_type": "execute_result"
    }
   ],
   "source": [
    "counter"
   ]
  },
  {
   "cell_type": "code",
   "execution_count": 21,
   "metadata": {
    "collapsed": false
   },
   "outputs": [
    {
     "data": {
      "text/html": [
       "<div>\n",
       "<table border=\"1\" class=\"dataframe\">\n",
       "  <thead>\n",
       "    <tr style=\"text-align: right;\">\n",
       "      <th></th>\n",
       "      <th>Company</th>\n",
       "      <th>Location</th>\n",
       "      <th>Salary</th>\n",
       "      <th>Search City</th>\n",
       "      <th>Summary</th>\n",
       "      <th>Title</th>\n",
       "    </tr>\n",
       "  </thead>\n",
       "  <tbody>\n",
       "    <tr>\n",
       "      <th>0</th>\n",
       "      <td>\\n\\n        Allstate Insurance</td>\n",
       "      <td>Chicago, IL 60601</td>\n",
       "      <td>None</td>\n",
       "      <td>Chicago</td>\n",
       "      <td>We work collaboratively with both ‘product tea...</td>\n",
       "      <td>Android Application Developer - Connected Car</td>\n",
       "    </tr>\n",
       "    <tr>\n",
       "      <th>1</th>\n",
       "      <td>\\n\\n        BAXTER</td>\n",
       "      <td>Deerfield, IL</td>\n",
       "      <td>None</td>\n",
       "      <td>Chicago</td>\n",
       "      <td>They play the role s of employee advocates, st...</td>\n",
       "      <td>2016 National Black MBA Association Conference</td>\n",
       "    </tr>\n",
       "    <tr>\n",
       "      <th>2</th>\n",
       "      <td>\\n    Parallel Partners</td>\n",
       "      <td>Chicago, IL 60606</td>\n",
       "      <td>None</td>\n",
       "      <td>Chicago</td>\n",
       "      <td>Chicago IL Jobs, Quantitative Research Analyst...</td>\n",
       "      <td>Quantitative Research Analyst - MS101336</td>\n",
       "    </tr>\n",
       "    <tr>\n",
       "      <th>3</th>\n",
       "      <td>\\n\\n    Vizient, Inc.\\n</td>\n",
       "      <td>Chicago, IL</td>\n",
       "      <td>None</td>\n",
       "      <td>Chicago</td>\n",
       "      <td>\\nServes as the resident data expert and share...</td>\n",
       "      <td>Data Scientist</td>\n",
       "    </tr>\n",
       "    <tr>\n",
       "      <th>4</th>\n",
       "      <td>\\n\\n\\n        National Collegiate Scouting Ass...</td>\n",
       "      <td>Chicago, IL 60642 (Portage Park area)</td>\n",
       "      <td>None</td>\n",
       "      <td>Chicago</td>\n",
       "      <td>\\nAs a Data Scientist at NCSA Athletic Recruit...</td>\n",
       "      <td>Data Scientist</td>\n",
       "    </tr>\n",
       "  </tbody>\n",
       "</table>\n",
       "</div>"
      ],
      "text/plain": [
       "                                             Company  \\\n",
       "0                     \\n\\n        Allstate Insurance   \n",
       "1                                 \\n\\n        BAXTER   \n",
       "2                            \\n    Parallel Partners   \n",
       "3                            \\n\\n    Vizient, Inc.\\n   \n",
       "4  \\n\\n\\n        National Collegiate Scouting Ass...   \n",
       "\n",
       "                                Location Salary Search City  \\\n",
       "0                      Chicago, IL 60601   None     Chicago   \n",
       "1                          Deerfield, IL   None     Chicago   \n",
       "2                      Chicago, IL 60606   None     Chicago   \n",
       "3                            Chicago, IL   None     Chicago   \n",
       "4  Chicago, IL 60642 (Portage Park area)   None     Chicago   \n",
       "\n",
       "                                             Summary  \\\n",
       "0  We work collaboratively with both ‘product tea...   \n",
       "1  They play the role s of employee advocates, st...   \n",
       "2  Chicago IL Jobs, Quantitative Research Analyst...   \n",
       "3  \\nServes as the resident data expert and share...   \n",
       "4  \\nAs a Data Scientist at NCSA Athletic Recruit...   \n",
       "\n",
       "                                            Title  \n",
       "0   Android Application Developer - Connected Car  \n",
       "1  2016 National Black MBA Association Conference  \n",
       "2        Quantitative Research Analyst - MS101336  \n",
       "3                                  Data Scientist  \n",
       "4                                  Data Scientist  "
      ]
     },
     "execution_count": 21,
     "metadata": {},
     "output_type": "execute_result"
    }
   ],
   "source": [
    "df = pd.DataFrame(data).T\n",
    "df.head()"
   ]
  },
  {
   "cell_type": "markdown",
   "metadata": {
    "focus": false,
    "id": "20339c09-5032-4e27-91be-286e9b46cd13"
   },
   "source": [
    "#### Use the functions you wrote above to parse out the 4 fields - location, title, company and salary. Create a dataframe from the results with those 4 columns."
   ]
  },
  {
   "cell_type": "code",
   "execution_count": 25,
   "metadata": {
    "collapsed": false,
    "focus": false,
    "id": "04b0f9af-540e-402f-8292-81748707c676"
   },
   "outputs": [
    {
     "name": "stdout",
     "output_type": "stream",
     "text": [
      "Searching for jobs in: Houston\n",
      "Searching for jobs in: Phoenix\n",
      "Searching for jobs in: Chicago\n",
      "Searching for jobs in: San+Francisco\n",
      "Searching for jobs in: New+York\n",
      "Searching for jobs in: Dallas\n",
      "Searching for jobs in: Philadelphia\n",
      "Searching for jobs in: Denver\n",
      "Searching for jobs in: Los+Angeles\n",
      "Searching for jobs in: Pittsburgh\n",
      "Searching for jobs in: Miami\n",
      "Searching for jobs in: Atlanta\n",
      "Searching for jobs in: Seattle\n",
      "Searching for jobs in: Austin\n",
      "Searching for jobs in: Portland\n"
     ]
    }
   ],
   "source": [
    "# Generate full list of URL's to search on and store in url_list\n",
    "# Also runs get_page_results on each page and stores result in data\n",
    "\n",
    "max_results_per_city = 100 # Set this to a high-value (5000) to generate more results. \n",
    "# Crawling more results, will also take much longer. First test your code on a small number of results and then expand.\n",
    "data = {}\n",
    "counter = 0\n",
    "url_list = []\n",
    "\n",
    "for city in set(['New+York', 'Chicago', 'San+Francisco', 'Austin', 'Seattle', \n",
    "    'Los+Angeles', 'Philadelphia', 'Atlanta', 'Dallas', 'Pittsburgh', \n",
    "    'Portland', 'Phoenix', 'Denver', 'Houston', 'Miami']):\n",
    "    print 'Searching for jobs in:', city\n",
    "    \n",
    "    for start in range(0, max_results_per_city, 10):\n",
    "        # Grab the results from the request (as above)\n",
    "        url_template = \"http://www.indeed.com/jobs?q=data+scientist&l=%s&start=%s&pp=\" % (city, start)\n",
    "        # Append to the full set of results\n",
    "        data, counter = get_page_results(url_template, counter, city)\n",
    "        \n",
    "        url_list.append(url_template)"
   ]
  },
  {
   "cell_type": "code",
   "execution_count": 26,
   "metadata": {
    "collapsed": false
   },
   "outputs": [
    {
     "name": "stdout",
     "output_type": "stream",
     "text": [
      "150\n",
      "http://www.indeed.com/jobs?q=data+scientist&l=Houston&start=0&pp=\n"
     ]
    }
   ],
   "source": [
    "print len(url_list)\n",
    "print url_list[0]"
   ]
  },
  {
   "cell_type": "code",
   "execution_count": 27,
   "metadata": {
    "collapsed": false,
    "focus": false,
    "id": "6e259594-1c52-436b-ab9e-527e071941c1"
   },
   "outputs": [],
   "source": [
    "# Added this into the loop above so I could include the city I searched on\n",
    "\n",
    "# Run the code on every URL in the list, store result in data dictionary\n",
    "# data = {}\n",
    "# counter = 0\n",
    "\n",
    "# for i in range(len(url_list)):\n",
    "#     data, counter = get_page_results(url_list[i], counter)\n",
    "#     if i % 10 == 0:\n",
    "#         print 'Finished index', i, 'of', len(url_list)"
   ]
  },
  {
   "cell_type": "code",
   "execution_count": 28,
   "metadata": {
    "collapsed": false
   },
   "outputs": [
    {
     "name": "stdout",
     "output_type": "stream",
     "text": [
      "(1769, 6)\n"
     ]
    },
    {
     "data": {
      "text/html": [
       "<div>\n",
       "<table border=\"1\" class=\"dataframe\">\n",
       "  <thead>\n",
       "    <tr style=\"text-align: right;\">\n",
       "      <th></th>\n",
       "      <th>Company</th>\n",
       "      <th>Location</th>\n",
       "      <th>Salary</th>\n",
       "      <th>Search City</th>\n",
       "      <th>Summary</th>\n",
       "      <th>Title</th>\n",
       "    </tr>\n",
       "  </thead>\n",
       "  <tbody>\n",
       "    <tr>\n",
       "      <th>0</th>\n",
       "      <td>\\n\\n        SYSCO</td>\n",
       "      <td>Houston, TX 77038</td>\n",
       "      <td>None</td>\n",
       "      <td>Houston</td>\n",
       "      <td>Build predictive analytics models with Python ...</td>\n",
       "      <td>Sr Data Scientist</td>\n",
       "    </tr>\n",
       "    <tr>\n",
       "      <th>1</th>\n",
       "      <td>\\n    alliantgroup</td>\n",
       "      <td>Houston, TX</td>\n",
       "      <td>None</td>\n",
       "      <td>Houston</td>\n",
       "      <td>Engineers, and scientists to identify and subs...</td>\n",
       "      <td>Project Associate</td>\n",
       "    </tr>\n",
       "    <tr>\n",
       "      <th>2</th>\n",
       "      <td>\\n    Arundo Analytics</td>\n",
       "      <td>Houston, TX</td>\n",
       "      <td>None</td>\n",
       "      <td>Houston</td>\n",
       "      <td>Senior Data Scientist with expertise in machin...</td>\n",
       "      <td>Machine Learning Expert</td>\n",
       "    </tr>\n",
       "    <tr>\n",
       "      <th>3</th>\n",
       "      <td>\\n\\n    Quantlab Financial\\n</td>\n",
       "      <td>Houston, TX</td>\n",
       "      <td>None</td>\n",
       "      <td>Houston</td>\n",
       "      <td>\\nTechnology and Scientific Research are centr...</td>\n",
       "      <td>Quantitative Research Scientist - Options Stra...</td>\n",
       "    </tr>\n",
       "    <tr>\n",
       "      <th>4</th>\n",
       "      <td>\\n\\n\\n        Exxon Mobil\\n</td>\n",
       "      <td>Houston, TX</td>\n",
       "      <td>None</td>\n",
       "      <td>Houston</td>\n",
       "      <td>\\nExperience in relevant areas of scientific e...</td>\n",
       "      <td>Data Scientist</td>\n",
       "    </tr>\n",
       "  </tbody>\n",
       "</table>\n",
       "</div>"
      ],
      "text/plain": [
       "                        Company           Location Salary Search City  \\\n",
       "0             \\n\\n        SYSCO  Houston, TX 77038   None     Houston   \n",
       "1            \\n    alliantgroup        Houston, TX   None     Houston   \n",
       "2        \\n    Arundo Analytics        Houston, TX   None     Houston   \n",
       "3  \\n\\n    Quantlab Financial\\n        Houston, TX   None     Houston   \n",
       "4   \\n\\n\\n        Exxon Mobil\\n        Houston, TX   None     Houston   \n",
       "\n",
       "                                             Summary  \\\n",
       "0  Build predictive analytics models with Python ...   \n",
       "1  Engineers, and scientists to identify and subs...   \n",
       "2  Senior Data Scientist with expertise in machin...   \n",
       "3  \\nTechnology and Scientific Research are centr...   \n",
       "4  \\nExperience in relevant areas of scientific e...   \n",
       "\n",
       "                                               Title  \n",
       "0                                  Sr Data Scientist  \n",
       "1                                  Project Associate  \n",
       "2                            Machine Learning Expert  \n",
       "3  Quantitative Research Scientist - Options Stra...  \n",
       "4                                     Data Scientist  "
      ]
     },
     "execution_count": 28,
     "metadata": {},
     "output_type": "execute_result"
    }
   ],
   "source": [
    "# Transform data dictionary into master pd DataFrame\n",
    "df = pd.DataFrame(data).T\n",
    "print df.shape\n",
    "df.head()"
   ]
  },
  {
   "cell_type": "code",
   "execution_count": 29,
   "metadata": {
    "collapsed": false
   },
   "outputs": [
    {
     "name": "stdout",
     "output_type": "stream",
     "text": [
      "(1739, 6)\n"
     ]
    }
   ],
   "source": [
    "# Removing duplicates, because often the same sponsored results will show up on multiple pages\n",
    "df.drop_duplicates(inplace=True)\n",
    "print df.shape"
   ]
  },
  {
   "cell_type": "code",
   "execution_count": 30,
   "metadata": {
    "collapsed": false,
    "scrolled": false
   },
   "outputs": [
    {
     "data": {
      "text/html": [
       "<div>\n",
       "<table border=\"1\" class=\"dataframe\">\n",
       "  <thead>\n",
       "    <tr style=\"text-align: right;\">\n",
       "      <th></th>\n",
       "      <th>Company</th>\n",
       "      <th>Location</th>\n",
       "      <th>Salary</th>\n",
       "      <th>Search City</th>\n",
       "      <th>Summary</th>\n",
       "      <th>Title</th>\n",
       "    </tr>\n",
       "  </thead>\n",
       "  <tbody>\n",
       "    <tr>\n",
       "      <th>0</th>\n",
       "      <td>SYSCO</td>\n",
       "      <td>Houston, TX 77038</td>\n",
       "      <td>None</td>\n",
       "      <td>Houston</td>\n",
       "      <td>Build predictive analytics models with Python ...</td>\n",
       "      <td>Sr Data Scientist</td>\n",
       "    </tr>\n",
       "    <tr>\n",
       "      <th>1</th>\n",
       "      <td>alliantgroup</td>\n",
       "      <td>Houston, TX</td>\n",
       "      <td>None</td>\n",
       "      <td>Houston</td>\n",
       "      <td>Engineers, and scientists to identify and subs...</td>\n",
       "      <td>Project Associate</td>\n",
       "    </tr>\n",
       "    <tr>\n",
       "      <th>2</th>\n",
       "      <td>Arundo Analytics</td>\n",
       "      <td>Houston, TX</td>\n",
       "      <td>None</td>\n",
       "      <td>Houston</td>\n",
       "      <td>Senior Data Scientist with expertise in machin...</td>\n",
       "      <td>Machine Learning Expert</td>\n",
       "    </tr>\n",
       "    <tr>\n",
       "      <th>3</th>\n",
       "      <td>Quantlab Financial</td>\n",
       "      <td>Houston, TX</td>\n",
       "      <td>None</td>\n",
       "      <td>Houston</td>\n",
       "      <td>Technology and Scientific Research are central...</td>\n",
       "      <td>Quantitative Research Scientist - Options Stra...</td>\n",
       "    </tr>\n",
       "    <tr>\n",
       "      <th>4</th>\n",
       "      <td>Exxon Mobil</td>\n",
       "      <td>Houston, TX</td>\n",
       "      <td>None</td>\n",
       "      <td>Houston</td>\n",
       "      <td>Experience in relevant areas of scientific exp...</td>\n",
       "      <td>Data Scientist</td>\n",
       "    </tr>\n",
       "    <tr>\n",
       "      <th>5</th>\n",
       "      <td>Pros.</td>\n",
       "      <td>Houston, TX</td>\n",
       "      <td>None</td>\n",
       "      <td>Houston</td>\n",
       "      <td>Machine Learning and Data Science. In this rol...</td>\n",
       "      <td>Scientist I</td>\n",
       "    </tr>\n",
       "    <tr>\n",
       "      <th>6</th>\n",
       "      <td>Reed Elsevier</td>\n",
       "      <td>Houston, TX</td>\n",
       "      <td>None</td>\n",
       "      <td>Houston</td>\n",
       "      <td>A global company based in Amsterdam, Elsevier ...</td>\n",
       "      <td>Psychometrician – Data Analyst</td>\n",
       "    </tr>\n",
       "    <tr>\n",
       "      <th>7</th>\n",
       "      <td>Shell</td>\n",
       "      <td>Houston, TX</td>\n",
       "      <td>None</td>\n",
       "      <td>Houston</td>\n",
       "      <td>Before applying, you are advised to read our d...</td>\n",
       "      <td>Quantitative Risk Analyst (Houston, TX)</td>\n",
       "    </tr>\n",
       "    <tr>\n",
       "      <th>8</th>\n",
       "      <td>Enaxis Consulting, LP</td>\n",
       "      <td>Houston, TX 77046 (Montrose area)</td>\n",
       "      <td>None</td>\n",
       "      <td>Houston</td>\n",
       "      <td>Work with data scientists, visualization speci...</td>\n",
       "      <td>Analytics Data Engineer</td>\n",
       "    </tr>\n",
       "    <tr>\n",
       "      <th>9</th>\n",
       "      <td>SYSCO</td>\n",
       "      <td>Houston, TX 77038</td>\n",
       "      <td>None</td>\n",
       "      <td>Houston</td>\n",
       "      <td>Build predictive analytics models with Python ...</td>\n",
       "      <td>Sr Data Scientist</td>\n",
       "    </tr>\n",
       "    <tr>\n",
       "      <th>10</th>\n",
       "      <td>National Oilwell Varco</td>\n",
       "      <td>Houston, TX</td>\n",
       "      <td>None</td>\n",
       "      <td>Houston</td>\n",
       "      <td>Data mining, Feature. Data analytics solutions...</td>\n",
       "      <td>Data Scientist</td>\n",
       "    </tr>\n",
       "    <tr>\n",
       "      <th>11</th>\n",
       "      <td>Noble Energy, Inc.</td>\n",
       "      <td>Houston, TX 77070</td>\n",
       "      <td>None</td>\n",
       "      <td>Houston</td>\n",
       "      <td>Continually enhance the advanced analytics pro...</td>\n",
       "      <td>Data Scientist</td>\n",
       "    </tr>\n",
       "    <tr>\n",
       "      <th>12</th>\n",
       "      <td>Houston Methodist</td>\n",
       "      <td>Houston, TX 77030 (Medical area)</td>\n",
       "      <td>None</td>\n",
       "      <td>Houston</td>\n",
       "      <td>Analyzes data and interprets data (EF). This i...</td>\n",
       "      <td>Research Scientist</td>\n",
       "    </tr>\n",
       "    <tr>\n",
       "      <th>13</th>\n",
       "      <td>Arundo Analytics</td>\n",
       "      <td>Houston, TX</td>\n",
       "      <td>None</td>\n",
       "      <td>Houston</td>\n",
       "      <td>Demonstrated experience in working with subjec...</td>\n",
       "      <td>Senior Analyst/ Data engineer</td>\n",
       "    </tr>\n",
       "    <tr>\n",
       "      <th>14</th>\n",
       "      <td>MD Anderson Cancer Center</td>\n",
       "      <td>Houston, TX</td>\n",
       "      <td>None</td>\n",
       "      <td>Houston</td>\n",
       "      <td>Collaboration with scientists in other functio...</td>\n",
       "      <td>Institute Senior Research Scientist, Medicinal...</td>\n",
       "    </tr>\n",
       "    <tr>\n",
       "      <th>15</th>\n",
       "      <td>Amazon Corporate LLC</td>\n",
       "      <td>United States</td>\n",
       "      <td>None</td>\n",
       "      <td>Houston</td>\n",
       "      <td>In North America alone, we process 50B request...</td>\n",
       "      <td>Software Development Engineer- Relocation Oppo...</td>\n",
       "    </tr>\n",
       "    <tr>\n",
       "      <th>16</th>\n",
       "      <td>MD Anderson Cancer Center</td>\n",
       "      <td>Houston, TX</td>\n",
       "      <td>None</td>\n",
       "      <td>Houston</td>\n",
       "      <td>As part of the MD Anderson Cancer Center Moon ...</td>\n",
       "      <td>Institute Research Scientist -Immuno-oncology</td>\n",
       "    </tr>\n",
       "    <tr>\n",
       "      <th>17</th>\n",
       "      <td>BOEING</td>\n",
       "      <td>Houston, TX</td>\n",
       "      <td>None</td>\n",
       "      <td>Houston</td>\n",
       "      <td>Skilled scientists and thinkers. Manage and mo...</td>\n",
       "      <td>Senior Supply Base Management Specialist</td>\n",
       "    </tr>\n",
       "    <tr>\n",
       "      <th>18</th>\n",
       "      <td>UT Health Science Center at Houston</td>\n",
       "      <td>Houston, TX</td>\n",
       "      <td>None</td>\n",
       "      <td>Houston</td>\n",
       "      <td>May assist in developing survey methodologies ...</td>\n",
       "      <td>Statistician</td>\n",
       "    </tr>\n",
       "    <tr>\n",
       "      <th>19</th>\n",
       "      <td>Cardtronics</td>\n",
       "      <td>Houston, TX</td>\n",
       "      <td>None</td>\n",
       "      <td>Houston</td>\n",
       "      <td>Manage on-going and ad-hoc statistical and fin...</td>\n",
       "      <td>Sr. Analyst – Data Analysis and Business Repor...</td>\n",
       "    </tr>\n",
       "  </tbody>\n",
       "</table>\n",
       "</div>"
      ],
      "text/plain": [
       "                                        Company  \\\n",
       "0                                         SYSCO   \n",
       "1                                  alliantgroup   \n",
       "2                              Arundo Analytics   \n",
       "3                            Quantlab Financial   \n",
       "4                                   Exxon Mobil   \n",
       "5                                         Pros.   \n",
       "6                                 Reed Elsevier   \n",
       "7                                         Shell   \n",
       "8                         Enaxis Consulting, LP   \n",
       "9                                         SYSCO   \n",
       "10                       National Oilwell Varco   \n",
       "11                           Noble Energy, Inc.   \n",
       "12                            Houston Methodist   \n",
       "13                             Arundo Analytics   \n",
       "14                    MD Anderson Cancer Center   \n",
       "15                         Amazon Corporate LLC   \n",
       "16                    MD Anderson Cancer Center   \n",
       "17                                       BOEING   \n",
       "18          UT Health Science Center at Houston   \n",
       "19                                  Cardtronics   \n",
       "\n",
       "                             Location Salary Search City  \\\n",
       "0                   Houston, TX 77038   None     Houston   \n",
       "1                         Houston, TX   None     Houston   \n",
       "2                         Houston, TX   None     Houston   \n",
       "3                         Houston, TX   None     Houston   \n",
       "4                         Houston, TX   None     Houston   \n",
       "5                         Houston, TX   None     Houston   \n",
       "6                         Houston, TX   None     Houston   \n",
       "7                         Houston, TX   None     Houston   \n",
       "8   Houston, TX 77046 (Montrose area)   None     Houston   \n",
       "9                   Houston, TX 77038   None     Houston   \n",
       "10                        Houston, TX   None     Houston   \n",
       "11                  Houston, TX 77070   None     Houston   \n",
       "12   Houston, TX 77030 (Medical area)   None     Houston   \n",
       "13                        Houston, TX   None     Houston   \n",
       "14                        Houston, TX   None     Houston   \n",
       "15                      United States   None     Houston   \n",
       "16                        Houston, TX   None     Houston   \n",
       "17                        Houston, TX   None     Houston   \n",
       "18                        Houston, TX   None     Houston   \n",
       "19                        Houston, TX   None     Houston   \n",
       "\n",
       "                                              Summary  \\\n",
       "0   Build predictive analytics models with Python ...   \n",
       "1   Engineers, and scientists to identify and subs...   \n",
       "2   Senior Data Scientist with expertise in machin...   \n",
       "3   Technology and Scientific Research are central...   \n",
       "4   Experience in relevant areas of scientific exp...   \n",
       "5   Machine Learning and Data Science. In this rol...   \n",
       "6   A global company based in Amsterdam, Elsevier ...   \n",
       "7   Before applying, you are advised to read our d...   \n",
       "8   Work with data scientists, visualization speci...   \n",
       "9   Build predictive analytics models with Python ...   \n",
       "10  Data mining, Feature. Data analytics solutions...   \n",
       "11  Continually enhance the advanced analytics pro...   \n",
       "12  Analyzes data and interprets data (EF). This i...   \n",
       "13  Demonstrated experience in working with subjec...   \n",
       "14  Collaboration with scientists in other functio...   \n",
       "15  In North America alone, we process 50B request...   \n",
       "16  As part of the MD Anderson Cancer Center Moon ...   \n",
       "17  Skilled scientists and thinkers. Manage and mo...   \n",
       "18  May assist in developing survey methodologies ...   \n",
       "19  Manage on-going and ad-hoc statistical and fin...   \n",
       "\n",
       "                                                Title  \n",
       "0                                   Sr Data Scientist  \n",
       "1                                   Project Associate  \n",
       "2                             Machine Learning Expert  \n",
       "3   Quantitative Research Scientist - Options Stra...  \n",
       "4                                      Data Scientist  \n",
       "5                                         Scientist I  \n",
       "6                      Psychometrician – Data Analyst  \n",
       "7             Quantitative Risk Analyst (Houston, TX)  \n",
       "8                             Analytics Data Engineer  \n",
       "9                                   Sr Data Scientist  \n",
       "10                                     Data Scientist  \n",
       "11                                     Data Scientist  \n",
       "12                                 Research Scientist  \n",
       "13                      Senior Analyst/ Data engineer  \n",
       "14  Institute Senior Research Scientist, Medicinal...  \n",
       "15  Software Development Engineer- Relocation Oppo...  \n",
       "16      Institute Research Scientist -Immuno-oncology  \n",
       "17           Senior Supply Base Management Specialist  \n",
       "18                                       Statistician  \n",
       "19  Sr. Analyst – Data Analysis and Business Repor...  "
      ]
     },
     "execution_count": 30,
     "metadata": {},
     "output_type": "execute_result"
    }
   ],
   "source": [
    "# Cleaning ugly text\n",
    "for col in df:\n",
    "    df[col] = df[col].str.replace('\\n','')\n",
    "#     df[col] = df[col].replace('\\u2013','')\n",
    "    \n",
    "df.head(20)"
   ]
  },
  {
   "cell_type": "code",
   "execution_count": 31,
   "metadata": {
    "collapsed": false
   },
   "outputs": [
    {
     "data": {
      "text/plain": [
       "Company        object\n",
       "Location       object\n",
       "Salary         object\n",
       "Search City    object\n",
       "Summary        object\n",
       "Title          object\n",
       "dtype: object"
      ]
     },
     "execution_count": 31,
     "metadata": {},
     "output_type": "execute_result"
    }
   ],
   "source": [
    "df.dtypes"
   ]
  },
  {
   "cell_type": "code",
   "execution_count": 32,
   "metadata": {
    "collapsed": false
   },
   "outputs": [],
   "source": [
    "# Exporting to temporary csv so I don't have to regenerate data\n",
    "df.to_csv('dirty_data.csv')"
   ]
  },
  {
   "cell_type": "code",
   "execution_count": 2,
   "metadata": {
    "collapsed": false
   },
   "outputs": [],
   "source": [
    "# Importing from csv, so I don't have to run the webscraping code above every time I open the notebook again\n",
    "df = pd.read_csv('dirty_data.csv')"
   ]
  },
  {
   "cell_type": "code",
   "execution_count": 3,
   "metadata": {
    "collapsed": false,
    "scrolled": true
   },
   "outputs": [
    {
     "name": "stdout",
     "output_type": "stream",
     "text": [
      "(1739, 7)\n"
     ]
    },
    {
     "data": {
      "text/html": [
       "<div>\n",
       "<table border=\"1\" class=\"dataframe\">\n",
       "  <thead>\n",
       "    <tr style=\"text-align: right;\">\n",
       "      <th></th>\n",
       "      <th>Unnamed: 0</th>\n",
       "      <th>Company</th>\n",
       "      <th>Location</th>\n",
       "      <th>Salary</th>\n",
       "      <th>Search City</th>\n",
       "      <th>Summary</th>\n",
       "      <th>Title</th>\n",
       "    </tr>\n",
       "  </thead>\n",
       "  <tbody>\n",
       "    <tr>\n",
       "      <th>0</th>\n",
       "      <td>0</td>\n",
       "      <td>SYSCO</td>\n",
       "      <td>Houston, TX 77038</td>\n",
       "      <td>NaN</td>\n",
       "      <td>Houston</td>\n",
       "      <td>Build predictive analytics models with Python ...</td>\n",
       "      <td>Sr Data Scientist</td>\n",
       "    </tr>\n",
       "    <tr>\n",
       "      <th>1</th>\n",
       "      <td>1</td>\n",
       "      <td>alliantgroup</td>\n",
       "      <td>Houston, TX</td>\n",
       "      <td>NaN</td>\n",
       "      <td>Houston</td>\n",
       "      <td>Engineers, and scientists to identify and subs...</td>\n",
       "      <td>Project Associate</td>\n",
       "    </tr>\n",
       "    <tr>\n",
       "      <th>2</th>\n",
       "      <td>2</td>\n",
       "      <td>Arundo Analytics</td>\n",
       "      <td>Houston, TX</td>\n",
       "      <td>NaN</td>\n",
       "      <td>Houston</td>\n",
       "      <td>Senior Data Scientist with expertise in machin...</td>\n",
       "      <td>Machine Learning Expert</td>\n",
       "    </tr>\n",
       "    <tr>\n",
       "      <th>3</th>\n",
       "      <td>3</td>\n",
       "      <td>Quantlab Financial</td>\n",
       "      <td>Houston, TX</td>\n",
       "      <td>NaN</td>\n",
       "      <td>Houston</td>\n",
       "      <td>Technology and Scientific Research are central...</td>\n",
       "      <td>Quantitative Research Scientist - Options Stra...</td>\n",
       "    </tr>\n",
       "    <tr>\n",
       "      <th>4</th>\n",
       "      <td>4</td>\n",
       "      <td>Exxon Mobil</td>\n",
       "      <td>Houston, TX</td>\n",
       "      <td>NaN</td>\n",
       "      <td>Houston</td>\n",
       "      <td>Experience in relevant areas of scientific exp...</td>\n",
       "      <td>Data Scientist</td>\n",
       "    </tr>\n",
       "  </tbody>\n",
       "</table>\n",
       "</div>"
      ],
      "text/plain": [
       "   Unnamed: 0                 Company           Location Salary Search City  \\\n",
       "0           0                   SYSCO  Houston, TX 77038    NaN     Houston   \n",
       "1           1            alliantgroup        Houston, TX    NaN     Houston   \n",
       "2           2        Arundo Analytics        Houston, TX    NaN     Houston   \n",
       "3           3      Quantlab Financial        Houston, TX    NaN     Houston   \n",
       "4           4             Exxon Mobil        Houston, TX    NaN     Houston   \n",
       "\n",
       "                                             Summary  \\\n",
       "0  Build predictive analytics models with Python ...   \n",
       "1  Engineers, and scientists to identify and subs...   \n",
       "2  Senior Data Scientist with expertise in machin...   \n",
       "3  Technology and Scientific Research are central...   \n",
       "4  Experience in relevant areas of scientific exp...   \n",
       "\n",
       "                                               Title  \n",
       "0                                  Sr Data Scientist  \n",
       "1                                  Project Associate  \n",
       "2                            Machine Learning Expert  \n",
       "3  Quantitative Research Scientist - Options Stra...  \n",
       "4                                     Data Scientist  "
      ]
     },
     "execution_count": 3,
     "metadata": {},
     "output_type": "execute_result"
    }
   ],
   "source": [
    "print df.shape\n",
    "df.head()"
   ]
  },
  {
   "cell_type": "code",
   "execution_count": 4,
   "metadata": {
    "collapsed": false
   },
   "outputs": [
    {
     "data": {
      "text/html": [
       "<div>\n",
       "<table border=\"1\" class=\"dataframe\">\n",
       "  <thead>\n",
       "    <tr style=\"text-align: right;\">\n",
       "      <th></th>\n",
       "      <th>Company</th>\n",
       "      <th>Location</th>\n",
       "      <th>Salary</th>\n",
       "      <th>Search City</th>\n",
       "      <th>Summary</th>\n",
       "      <th>Title</th>\n",
       "    </tr>\n",
       "  </thead>\n",
       "  <tbody>\n",
       "    <tr>\n",
       "      <th>0</th>\n",
       "      <td>SYSCO</td>\n",
       "      <td>Houston, TX 77038</td>\n",
       "      <td>NaN</td>\n",
       "      <td>Houston</td>\n",
       "      <td>Build predictive analytics models with Python ...</td>\n",
       "      <td>Sr Data Scientist</td>\n",
       "    </tr>\n",
       "    <tr>\n",
       "      <th>1</th>\n",
       "      <td>alliantgroup</td>\n",
       "      <td>Houston, TX</td>\n",
       "      <td>NaN</td>\n",
       "      <td>Houston</td>\n",
       "      <td>Engineers, and scientists to identify and subs...</td>\n",
       "      <td>Project Associate</td>\n",
       "    </tr>\n",
       "    <tr>\n",
       "      <th>2</th>\n",
       "      <td>Arundo Analytics</td>\n",
       "      <td>Houston, TX</td>\n",
       "      <td>NaN</td>\n",
       "      <td>Houston</td>\n",
       "      <td>Senior Data Scientist with expertise in machin...</td>\n",
       "      <td>Machine Learning Expert</td>\n",
       "    </tr>\n",
       "    <tr>\n",
       "      <th>3</th>\n",
       "      <td>Quantlab Financial</td>\n",
       "      <td>Houston, TX</td>\n",
       "      <td>NaN</td>\n",
       "      <td>Houston</td>\n",
       "      <td>Technology and Scientific Research are central...</td>\n",
       "      <td>Quantitative Research Scientist - Options Stra...</td>\n",
       "    </tr>\n",
       "    <tr>\n",
       "      <th>4</th>\n",
       "      <td>Exxon Mobil</td>\n",
       "      <td>Houston, TX</td>\n",
       "      <td>NaN</td>\n",
       "      <td>Houston</td>\n",
       "      <td>Experience in relevant areas of scientific exp...</td>\n",
       "      <td>Data Scientist</td>\n",
       "    </tr>\n",
       "  </tbody>\n",
       "</table>\n",
       "</div>"
      ],
      "text/plain": [
       "                  Company           Location Salary Search City  \\\n",
       "0                   SYSCO  Houston, TX 77038    NaN     Houston   \n",
       "1            alliantgroup        Houston, TX    NaN     Houston   \n",
       "2        Arundo Analytics        Houston, TX    NaN     Houston   \n",
       "3      Quantlab Financial        Houston, TX    NaN     Houston   \n",
       "4             Exxon Mobil        Houston, TX    NaN     Houston   \n",
       "\n",
       "                                             Summary  \\\n",
       "0  Build predictive analytics models with Python ...   \n",
       "1  Engineers, and scientists to identify and subs...   \n",
       "2  Senior Data Scientist with expertise in machin...   \n",
       "3  Technology and Scientific Research are central...   \n",
       "4  Experience in relevant areas of scientific exp...   \n",
       "\n",
       "                                               Title  \n",
       "0                                  Sr Data Scientist  \n",
       "1                                  Project Associate  \n",
       "2                            Machine Learning Expert  \n",
       "3  Quantitative Research Scientist - Options Stra...  \n",
       "4                                     Data Scientist  "
      ]
     },
     "execution_count": 4,
     "metadata": {},
     "output_type": "execute_result"
    }
   ],
   "source": [
    "df.drop('Unnamed: 0', axis=1, inplace= True)\n",
    "df.head()"
   ]
  },
  {
   "cell_type": "markdown",
   "metadata": {
    "focus": false,
    "id": "ff98ce64-78a7-441f-a675-63464e32c834"
   },
   "source": [
    "Lastly, we need to clean up salary data. \n",
    "\n",
    "1. Only a small number of the scraped results have salary information - only these will be used for modeling.\n",
    "1. Some of the salaries are not yearly but hourly or weekly, these will not be useful to us for now\n",
    "1. Some of the entries may be duplicated\n",
    "1. The salaries are given as text and usually with ranges.\n",
    "\n",
    "#### Find the entries with annual salary entries, by filtering the entries without salaries or salaries that are not yearly (filter those that refer to hour or week). Also, remove duplicate entries"
   ]
  },
  {
   "cell_type": "code",
   "execution_count": 5,
   "metadata": {
    "collapsed": false,
    "focus": false,
    "id": "58533e57-f86b-494a-b841-e7b59c6229c6"
   },
   "outputs": [
    {
     "data": {
      "text/plain": [
       "True     1606\n",
       "False     133\n",
       "Name: Salary, dtype: int64"
      ]
     },
     "execution_count": 5,
     "metadata": {},
     "output_type": "execute_result"
    }
   ],
   "source": [
    "df['Salary'].isnull().value_counts()"
   ]
  },
  {
   "cell_type": "code",
   "execution_count": 6,
   "metadata": {
    "collapsed": false
   },
   "outputs": [
    {
     "name": "stdout",
     "output_type": "stream",
     "text": [
      "(133, 7)\n"
     ]
    },
    {
     "data": {
      "text/html": [
       "<div>\n",
       "<table border=\"1\" class=\"dataframe\">\n",
       "  <thead>\n",
       "    <tr style=\"text-align: right;\">\n",
       "      <th></th>\n",
       "      <th>index</th>\n",
       "      <th>Company</th>\n",
       "      <th>Location</th>\n",
       "      <th>Salary</th>\n",
       "      <th>Search City</th>\n",
       "      <th>Summary</th>\n",
       "      <th>Title</th>\n",
       "    </tr>\n",
       "  </thead>\n",
       "  <tbody>\n",
       "    <tr>\n",
       "      <th>0</th>\n",
       "      <td>22</td>\n",
       "      <td>SearchAccountingJobs</td>\n",
       "      <td>Houston, TX</td>\n",
       "      <td>$150,000 - $205,000 a year</td>\n",
       "      <td>Houston</td>\n",
       "      <td>Lead the review and care of relevant model and...</td>\n",
       "      <td>Quantitative Risk Analyst</td>\n",
       "    </tr>\n",
       "    <tr>\n",
       "      <th>1</th>\n",
       "      <td>24</td>\n",
       "      <td>MD Anderson Cancer Center</td>\n",
       "      <td>Houston, TX</td>\n",
       "      <td>$45,500 - $82,000 a year</td>\n",
       "      <td>Houston</td>\n",
       "      <td>The University of Texas MD Anderson Cancer Cen...</td>\n",
       "      <td>Research Admin Analyst</td>\n",
       "    </tr>\n",
       "    <tr>\n",
       "      <th>2</th>\n",
       "      <td>33</td>\n",
       "      <td>Clearpoint</td>\n",
       "      <td>Houston, TX</td>\n",
       "      <td>$64.50 a day</td>\n",
       "      <td>Houston</td>\n",
       "      <td>Support our Search Science projects using Text...</td>\n",
       "      <td>SEM Data Scientist | Search Engine Marketing A...</td>\n",
       "    </tr>\n",
       "    <tr>\n",
       "      <th>3</th>\n",
       "      <td>36</td>\n",
       "      <td>MD Anderson Cancer Center</td>\n",
       "      <td>Houston, TX</td>\n",
       "      <td>$66,800 - $100,200 a year</td>\n",
       "      <td>Houston</td>\n",
       "      <td>Certified Medical Technologist (MT) or Medical...</td>\n",
       "      <td>Supv, Cell Therapy Lab</td>\n",
       "    </tr>\n",
       "    <tr>\n",
       "      <th>4</th>\n",
       "      <td>42</td>\n",
       "      <td>MD Anderson Cancer Center</td>\n",
       "      <td>Houston, TX</td>\n",
       "      <td>$46,500 - $83,000 a year</td>\n",
       "      <td>Houston</td>\n",
       "      <td>Analyze data to ensure integrity and efficienc...</td>\n",
       "      <td>Institute Assoc Scientist II - Program Biology...</td>\n",
       "    </tr>\n",
       "  </tbody>\n",
       "</table>\n",
       "</div>"
      ],
      "text/plain": [
       "   index                            Company     Location  \\\n",
       "0     22               SearchAccountingJobs  Houston, TX   \n",
       "1     24          MD Anderson Cancer Center  Houston, TX   \n",
       "2     33                         Clearpoint  Houston, TX   \n",
       "3     36          MD Anderson Cancer Center  Houston, TX   \n",
       "4     42          MD Anderson Cancer Center  Houston, TX   \n",
       "\n",
       "                       Salary Search City  \\\n",
       "0  $150,000 - $205,000 a year     Houston   \n",
       "1    $45,500 - $82,000 a year     Houston   \n",
       "2                $64.50 a day     Houston   \n",
       "3   $66,800 - $100,200 a year     Houston   \n",
       "4    $46,500 - $83,000 a year     Houston   \n",
       "\n",
       "                                             Summary  \\\n",
       "0  Lead the review and care of relevant model and...   \n",
       "1  The University of Texas MD Anderson Cancer Cen...   \n",
       "2  Support our Search Science projects using Text...   \n",
       "3  Certified Medical Technologist (MT) or Medical...   \n",
       "4  Analyze data to ensure integrity and efficienc...   \n",
       "\n",
       "                                               Title  \n",
       "0                          Quantitative Risk Analyst  \n",
       "1                             Research Admin Analyst  \n",
       "2  SEM Data Scientist | Search Engine Marketing A...  \n",
       "3                             Supv, Cell Therapy Lab  \n",
       "4  Institute Assoc Scientist II - Program Biology...  "
      ]
     },
     "execution_count": 6,
     "metadata": {},
     "output_type": "execute_result"
    }
   ],
   "source": [
    "# Create separate dataframe for only entries with a salary\n",
    "has_salary = df[(df['Salary'].isnull() == False)]\n",
    "has_salary.reset_index(inplace=True)\n",
    "# has_salary.drop('index', axis=1, inplace=True)\n",
    "print has_salary.shape\n",
    "has_salary.head()"
   ]
  },
  {
   "cell_type": "code",
   "execution_count": 7,
   "metadata": {
    "collapsed": false
   },
   "outputs": [
    {
     "name": "stdout",
     "output_type": "stream",
     "text": [
      "0    $150,000 - $205,000 a year\n",
      "1      $45,500 - $82,000 a year\n",
      "2                  $64.50 a day\n",
      "3     $66,800 - $100,200 a year\n",
      "4      $46,500 - $83,000 a year\n",
      "Name: Salary, dtype: object\n"
     ]
    }
   ],
   "source": [
    "print has_salary['Salary'][0:5]"
   ]
  },
  {
   "cell_type": "code",
   "execution_count": 8,
   "metadata": {
    "collapsed": false
   },
   "outputs": [
    {
     "name": "stderr",
     "output_type": "stream",
     "text": [
      "/home/nick/anaconda2/lib/python2.7/site-packages/ipykernel/__main__.py:2: SettingWithCopyWarning: \n",
      "A value is trying to be set on a copy of a slice from a DataFrame.\n",
      "Try using .loc[row_indexer,col_indexer] = value instead\n",
      "\n",
      "See the caveats in the documentation: http://pandas.pydata.org/pandas-docs/stable/indexing.html#indexing-view-versus-copy\n",
      "  from ipykernel import kernelapp as app\n",
      "/home/nick/anaconda2/lib/python2.7/site-packages/ipykernel/__main__.py:3: SettingWithCopyWarning: \n",
      "A value is trying to be set on a copy of a slice from a DataFrame.\n",
      "Try using .loc[row_indexer,col_indexer] = value instead\n",
      "\n",
      "See the caveats in the documentation: http://pandas.pydata.org/pandas-docs/stable/indexing.html#indexing-view-versus-copy\n",
      "  app.launch_new_instance()\n",
      "/home/nick/anaconda2/lib/python2.7/site-packages/ipykernel/__main__.py:4: SettingWithCopyWarning: \n",
      "A value is trying to be set on a copy of a slice from a DataFrame.\n",
      "Try using .loc[row_indexer,col_indexer] = value instead\n",
      "\n",
      "See the caveats in the documentation: http://pandas.pydata.org/pandas-docs/stable/indexing.html#indexing-view-versus-copy\n"
     ]
    },
    {
     "data": {
      "text/plain": [
       "0    150000  205000 a year\n",
       "1      45500  82000 a year\n",
       "2              64.50 a day\n",
       "3     66800  100200 a year\n",
       "4      46500  83000 a year\n",
       "Name: Salary, dtype: object"
      ]
     },
     "execution_count": 8,
     "metadata": {},
     "output_type": "execute_result"
    }
   ],
   "source": [
    "# Cleaning salary column\n",
    "has_salary['Salary'] = has_salary['Salary'].str.replace('$','')\n",
    "has_salary['Salary'] = has_salary['Salary'].str.replace(',','')\n",
    "has_salary['Salary'] = has_salary['Salary'].str.replace('-','')\n",
    "has_salary['Salary'][0:5]"
   ]
  },
  {
   "cell_type": "code",
   "execution_count": 9,
   "metadata": {
    "collapsed": false
   },
   "outputs": [],
   "source": [
    "# Creating new dataframe to calculate average yearly salary\n",
    "splitter = lambda x: pd.Series([i for i in reversed(x.split(' '))])\n",
    "split_sals = has_salary['Salary'].apply(splitter)"
   ]
  },
  {
   "cell_type": "code",
   "execution_count": 10,
   "metadata": {
    "collapsed": false,
    "scrolled": false
   },
   "outputs": [
    {
     "data": {
      "text/html": [
       "<div>\n",
       "<table border=\"1\" class=\"dataframe\">\n",
       "  <thead>\n",
       "    <tr style=\"text-align: right;\">\n",
       "      <th></th>\n",
       "      <th>0</th>\n",
       "      <th>1</th>\n",
       "      <th>2</th>\n",
       "      <th>3</th>\n",
       "      <th>4</th>\n",
       "    </tr>\n",
       "  </thead>\n",
       "  <tbody>\n",
       "    <tr>\n",
       "      <th>0</th>\n",
       "      <td>year</td>\n",
       "      <td>a</td>\n",
       "      <td>205000</td>\n",
       "      <td></td>\n",
       "      <td>150000</td>\n",
       "    </tr>\n",
       "    <tr>\n",
       "      <th>1</th>\n",
       "      <td>year</td>\n",
       "      <td>a</td>\n",
       "      <td>82000</td>\n",
       "      <td></td>\n",
       "      <td>45500</td>\n",
       "    </tr>\n",
       "    <tr>\n",
       "      <th>2</th>\n",
       "      <td>day</td>\n",
       "      <td>a</td>\n",
       "      <td>64.50</td>\n",
       "      <td>NaN</td>\n",
       "      <td>NaN</td>\n",
       "    </tr>\n",
       "    <tr>\n",
       "      <th>3</th>\n",
       "      <td>year</td>\n",
       "      <td>a</td>\n",
       "      <td>100200</td>\n",
       "      <td></td>\n",
       "      <td>66800</td>\n",
       "    </tr>\n",
       "    <tr>\n",
       "      <th>4</th>\n",
       "      <td>year</td>\n",
       "      <td>a</td>\n",
       "      <td>83000</td>\n",
       "      <td></td>\n",
       "      <td>46500</td>\n",
       "    </tr>\n",
       "    <tr>\n",
       "      <th>5</th>\n",
       "      <td>year</td>\n",
       "      <td>a</td>\n",
       "      <td>54590</td>\n",
       "      <td>NaN</td>\n",
       "      <td>NaN</td>\n",
       "    </tr>\n",
       "    <tr>\n",
       "      <th>6</th>\n",
       "      <td>year</td>\n",
       "      <td>a</td>\n",
       "      <td>91000</td>\n",
       "      <td></td>\n",
       "      <td>70000</td>\n",
       "    </tr>\n",
       "    <tr>\n",
       "      <th>7</th>\n",
       "      <td>year</td>\n",
       "      <td>a</td>\n",
       "      <td>102000</td>\n",
       "      <td></td>\n",
       "      <td>83000</td>\n",
       "    </tr>\n",
       "    <tr>\n",
       "      <th>8</th>\n",
       "      <td>year</td>\n",
       "      <td>a</td>\n",
       "      <td>65000</td>\n",
       "      <td>NaN</td>\n",
       "      <td>NaN</td>\n",
       "    </tr>\n",
       "    <tr>\n",
       "      <th>9</th>\n",
       "      <td>year</td>\n",
       "      <td>a</td>\n",
       "      <td>72000</td>\n",
       "      <td>NaN</td>\n",
       "      <td>NaN</td>\n",
       "    </tr>\n",
       "    <tr>\n",
       "      <th>10</th>\n",
       "      <td>year</td>\n",
       "      <td>a</td>\n",
       "      <td>250000</td>\n",
       "      <td>NaN</td>\n",
       "      <td>NaN</td>\n",
       "    </tr>\n",
       "    <tr>\n",
       "      <th>11</th>\n",
       "      <td>year</td>\n",
       "      <td>a</td>\n",
       "      <td>72120</td>\n",
       "      <td>NaN</td>\n",
       "      <td>NaN</td>\n",
       "    </tr>\n",
       "    <tr>\n",
       "      <th>12</th>\n",
       "      <td>month</td>\n",
       "      <td>a</td>\n",
       "      <td>5433</td>\n",
       "      <td></td>\n",
       "      <td>3616</td>\n",
       "    </tr>\n",
       "    <tr>\n",
       "      <th>13</th>\n",
       "      <td>year</td>\n",
       "      <td>a</td>\n",
       "      <td>150000</td>\n",
       "      <td>NaN</td>\n",
       "      <td>NaN</td>\n",
       "    </tr>\n",
       "    <tr>\n",
       "      <th>14</th>\n",
       "      <td>year</td>\n",
       "      <td>a</td>\n",
       "      <td>60512</td>\n",
       "      <td></td>\n",
       "      <td>50958</td>\n",
       "    </tr>\n",
       "    <tr>\n",
       "      <th>15</th>\n",
       "      <td>year</td>\n",
       "      <td>a</td>\n",
       "      <td>56677</td>\n",
       "      <td>NaN</td>\n",
       "      <td>NaN</td>\n",
       "    </tr>\n",
       "    <tr>\n",
       "      <th>16</th>\n",
       "      <td>year</td>\n",
       "      <td>a</td>\n",
       "      <td>205000</td>\n",
       "      <td></td>\n",
       "      <td>150000</td>\n",
       "    </tr>\n",
       "    <tr>\n",
       "      <th>17</th>\n",
       "      <td>year</td>\n",
       "      <td>a</td>\n",
       "      <td>72000</td>\n",
       "      <td></td>\n",
       "      <td>65000</td>\n",
       "    </tr>\n",
       "    <tr>\n",
       "      <th>18</th>\n",
       "      <td>year</td>\n",
       "      <td>a</td>\n",
       "      <td>150000</td>\n",
       "      <td>NaN</td>\n",
       "      <td>NaN</td>\n",
       "    </tr>\n",
       "    <tr>\n",
       "      <th>19</th>\n",
       "      <td>year</td>\n",
       "      <td>a</td>\n",
       "      <td>60000</td>\n",
       "      <td></td>\n",
       "      <td>47476</td>\n",
       "    </tr>\n",
       "  </tbody>\n",
       "</table>\n",
       "</div>"
      ],
      "text/plain": [
       "        0  1       2    3       4\n",
       "0    year  a  205000       150000\n",
       "1    year  a   82000        45500\n",
       "2     day  a   64.50  NaN     NaN\n",
       "3    year  a  100200        66800\n",
       "4    year  a   83000        46500\n",
       "5    year  a   54590  NaN     NaN\n",
       "6    year  a   91000        70000\n",
       "7    year  a  102000        83000\n",
       "8    year  a   65000  NaN     NaN\n",
       "9    year  a   72000  NaN     NaN\n",
       "10   year  a  250000  NaN     NaN\n",
       "11   year  a   72120  NaN     NaN\n",
       "12  month  a    5433         3616\n",
       "13   year  a  150000  NaN     NaN\n",
       "14   year  a   60512        50958\n",
       "15   year  a   56677  NaN     NaN\n",
       "16   year  a  205000       150000\n",
       "17   year  a   72000        65000\n",
       "18   year  a  150000  NaN     NaN\n",
       "19   year  a   60000        47476"
      ]
     },
     "execution_count": 10,
     "metadata": {},
     "output_type": "execute_result"
    }
   ],
   "source": [
    "split_sals.head(20)"
   ]
  },
  {
   "cell_type": "code",
   "execution_count": 11,
   "metadata": {
    "collapsed": false
   },
   "outputs": [],
   "source": [
    "split_sals.drop([1, 3], axis=1, inplace=True)"
   ]
  },
  {
   "cell_type": "markdown",
   "metadata": {
    "focus": false,
    "id": "7d4bc860-b214-4f75-9cd0-b234830b1ec2"
   },
   "source": [
    "#### Write a function that takes a salary string and converts it to a number, averaging a salary range if necessary"
   ]
  },
  {
   "cell_type": "code",
   "execution_count": 12,
   "metadata": {
    "collapsed": false
   },
   "outputs": [
    {
     "name": "stdout",
     "output_type": "stream",
     "text": [
      "(133, 3)\n"
     ]
    },
    {
     "data": {
      "text/html": [
       "<div>\n",
       "<table border=\"1\" class=\"dataframe\">\n",
       "  <thead>\n",
       "    <tr style=\"text-align: right;\">\n",
       "      <th></th>\n",
       "      <th>Frequency</th>\n",
       "      <th>max</th>\n",
       "      <th>min</th>\n",
       "    </tr>\n",
       "  </thead>\n",
       "  <tbody>\n",
       "    <tr>\n",
       "      <th>0</th>\n",
       "      <td>year</td>\n",
       "      <td>205000</td>\n",
       "      <td>150000</td>\n",
       "    </tr>\n",
       "    <tr>\n",
       "      <th>1</th>\n",
       "      <td>year</td>\n",
       "      <td>82000</td>\n",
       "      <td>45500</td>\n",
       "    </tr>\n",
       "    <tr>\n",
       "      <th>2</th>\n",
       "      <td>day</td>\n",
       "      <td>64.50</td>\n",
       "      <td>NaN</td>\n",
       "    </tr>\n",
       "    <tr>\n",
       "      <th>3</th>\n",
       "      <td>year</td>\n",
       "      <td>100200</td>\n",
       "      <td>66800</td>\n",
       "    </tr>\n",
       "    <tr>\n",
       "      <th>4</th>\n",
       "      <td>year</td>\n",
       "      <td>83000</td>\n",
       "      <td>46500</td>\n",
       "    </tr>\n",
       "  </tbody>\n",
       "</table>\n",
       "</div>"
      ],
      "text/plain": [
       "  Frequency     max     min\n",
       "0      year  205000  150000\n",
       "1      year   82000   45500\n",
       "2       day   64.50     NaN\n",
       "3      year  100200   66800\n",
       "4      year   83000   46500"
      ]
     },
     "execution_count": 12,
     "metadata": {},
     "output_type": "execute_result"
    }
   ],
   "source": [
    "print split_sals.shape\n",
    "split_sals.columns = ['Frequency', 'max', 'min']\n",
    "split_sals.head()"
   ]
  },
  {
   "cell_type": "code",
   "execution_count": 13,
   "metadata": {
    "collapsed": false,
    "scrolled": false
   },
   "outputs": [],
   "source": [
    "split_sals['max'] = split_sals['max'].astype(float)\n",
    "split_sals['min'] = split_sals['min'].astype(float)"
   ]
  },
  {
   "cell_type": "code",
   "execution_count": 14,
   "metadata": {
    "collapsed": false
   },
   "outputs": [
    {
     "data": {
      "text/plain": [
       "Frequency     object\n",
       "max          float64\n",
       "min          float64\n",
       "dtype: object"
      ]
     },
     "execution_count": 14,
     "metadata": {},
     "output_type": "execute_result"
    }
   ],
   "source": [
    "split_sals.dtypes"
   ]
  },
  {
   "cell_type": "code",
   "execution_count": 15,
   "metadata": {
    "collapsed": false
   },
   "outputs": [
    {
     "data": {
      "text/plain": [
       "False    85\n",
       "True     48\n",
       "Name: min, dtype: int64"
      ]
     },
     "execution_count": 15,
     "metadata": {},
     "output_type": "execute_result"
    }
   ],
   "source": [
    "split_sals['min'].isnull().value_counts()"
   ]
  },
  {
   "cell_type": "code",
   "execution_count": 16,
   "metadata": {
    "collapsed": false
   },
   "outputs": [
    {
     "name": "stderr",
     "output_type": "stream",
     "text": [
      "/home/nick/anaconda2/lib/python2.7/site-packages/ipykernel/__main__.py:13: SettingWithCopyWarning: \n",
      "A value is trying to be set on a copy of a slice from a DataFrame\n",
      "\n",
      "See the caveats in the documentation: http://pandas.pydata.org/pandas-docs/stable/indexing.html#indexing-view-versus-copy\n",
      "/home/nick/anaconda2/lib/python2.7/site-packages/ipykernel/__main__.py:11: SettingWithCopyWarning: \n",
      "A value is trying to be set on a copy of a slice from a DataFrame\n",
      "\n",
      "See the caveats in the documentation: http://pandas.pydata.org/pandas-docs/stable/indexing.html#indexing-view-versus-copy\n"
     ]
    }
   ],
   "source": [
    "# This is probably horribly inefficient, but it works\n",
    "# Averaging the salaries for entries where a range is given, or just taking the one entry if no range\n",
    "import math\n",
    "\n",
    "split_sals['Average Salary'] = 0.0\n",
    "\n",
    "for row in range(len(split_sals['max'])):\n",
    "#     print split_sals['min'][row]\n",
    "    if math.isnan(split_sals['min'][row]):\n",
    "#         print row\n",
    "        split_sals['Average Salary'][row] = float(split_sals['max'][row])\n",
    "    else:\n",
    "        split_sals['Average Salary'][row] = float(np.mean([split_sals['max'][row], split_sals['min'][row]]))"
   ]
  },
  {
   "cell_type": "code",
   "execution_count": 17,
   "metadata": {
    "collapsed": false
   },
   "outputs": [
    {
     "name": "stdout",
     "output_type": "stream",
     "text": [
      "Frequency          object\n",
      "max               float64\n",
      "min               float64\n",
      "Average Salary    float64\n",
      "dtype: object\n"
     ]
    },
    {
     "data": {
      "text/html": [
       "<div>\n",
       "<table border=\"1\" class=\"dataframe\">\n",
       "  <thead>\n",
       "    <tr style=\"text-align: right;\">\n",
       "      <th></th>\n",
       "      <th>Frequency</th>\n",
       "      <th>max</th>\n",
       "      <th>min</th>\n",
       "      <th>Average Salary</th>\n",
       "    </tr>\n",
       "  </thead>\n",
       "  <tbody>\n",
       "    <tr>\n",
       "      <th>0</th>\n",
       "      <td>year</td>\n",
       "      <td>205000.0</td>\n",
       "      <td>150000.0</td>\n",
       "      <td>177500.0</td>\n",
       "    </tr>\n",
       "    <tr>\n",
       "      <th>1</th>\n",
       "      <td>year</td>\n",
       "      <td>82000.0</td>\n",
       "      <td>45500.0</td>\n",
       "      <td>63750.0</td>\n",
       "    </tr>\n",
       "    <tr>\n",
       "      <th>2</th>\n",
       "      <td>day</td>\n",
       "      <td>64.5</td>\n",
       "      <td>NaN</td>\n",
       "      <td>64.5</td>\n",
       "    </tr>\n",
       "    <tr>\n",
       "      <th>3</th>\n",
       "      <td>year</td>\n",
       "      <td>100200.0</td>\n",
       "      <td>66800.0</td>\n",
       "      <td>83500.0</td>\n",
       "    </tr>\n",
       "    <tr>\n",
       "      <th>4</th>\n",
       "      <td>year</td>\n",
       "      <td>83000.0</td>\n",
       "      <td>46500.0</td>\n",
       "      <td>64750.0</td>\n",
       "    </tr>\n",
       "  </tbody>\n",
       "</table>\n",
       "</div>"
      ],
      "text/plain": [
       "  Frequency       max       min  Average Salary\n",
       "0      year  205000.0  150000.0        177500.0\n",
       "1      year   82000.0   45500.0         63750.0\n",
       "2       day      64.5       NaN            64.5\n",
       "3      year  100200.0   66800.0         83500.0\n",
       "4      year   83000.0   46500.0         64750.0"
      ]
     },
     "execution_count": 17,
     "metadata": {},
     "output_type": "execute_result"
    }
   ],
   "source": [
    "print split_sals.dtypes\n",
    "split_sals.head()"
   ]
  },
  {
   "cell_type": "code",
   "execution_count": 18,
   "metadata": {
    "collapsed": false
   },
   "outputs": [
    {
     "name": "stdout",
     "output_type": "stream",
     "text": [
      "False\n",
      "False\n"
     ]
    }
   ],
   "source": [
    "print split_sals['Average Salary'].isnull().any()\n",
    "print split_sals['Frequency'].isnull().any()"
   ]
  },
  {
   "cell_type": "code",
   "execution_count": 19,
   "metadata": {
    "collapsed": false,
    "scrolled": true
   },
   "outputs": [
    {
     "data": {
      "text/plain": [
       "year     98\n",
       "month    23\n",
       "hour      9\n",
       "day       2\n",
       "week      1\n",
       "Name: Frequency, dtype: int64"
      ]
     },
     "execution_count": 19,
     "metadata": {},
     "output_type": "execute_result"
    }
   ],
   "source": [
    "split_sals['Frequency'].value_counts()"
   ]
  },
  {
   "cell_type": "code",
   "execution_count": 20,
   "metadata": {
    "collapsed": false
   },
   "outputs": [
    {
     "name": "stderr",
     "output_type": "stream",
     "text": [
      "/home/nick/anaconda2/lib/python2.7/site-packages/ipykernel/__main__.py:6: SettingWithCopyWarning: \n",
      "A value is trying to be set on a copy of a slice from a DataFrame\n",
      "\n",
      "See the caveats in the documentation: http://pandas.pydata.org/pandas-docs/stable/indexing.html#indexing-view-versus-copy\n",
      "/home/nick/anaconda2/lib/python2.7/site-packages/ipykernel/__main__.py:12: SettingWithCopyWarning: \n",
      "A value is trying to be set on a copy of a slice from a DataFrame\n",
      "\n",
      "See the caveats in the documentation: http://pandas.pydata.org/pandas-docs/stable/indexing.html#indexing-view-versus-copy\n",
      "/home/nick/anaconda2/lib/python2.7/site-packages/ipykernel/__main__.py:8: SettingWithCopyWarning: \n",
      "A value is trying to be set on a copy of a slice from a DataFrame\n",
      "\n",
      "See the caveats in the documentation: http://pandas.pydata.org/pandas-docs/stable/indexing.html#indexing-view-versus-copy\n",
      "/home/nick/anaconda2/lib/python2.7/site-packages/ipykernel/__main__.py:14: SettingWithCopyWarning: \n",
      "A value is trying to be set on a copy of a slice from a DataFrame\n",
      "\n",
      "See the caveats in the documentation: http://pandas.pydata.org/pandas-docs/stable/indexing.html#indexing-view-versus-copy\n",
      "/home/nick/anaconda2/lib/python2.7/site-packages/ipykernel/__main__.py:10: SettingWithCopyWarning: \n",
      "A value is trying to be set on a copy of a slice from a DataFrame\n",
      "\n",
      "See the caveats in the documentation: http://pandas.pydata.org/pandas-docs/stable/indexing.html#indexing-view-versus-copy\n"
     ]
    }
   ],
   "source": [
    "# Convert all the monthly, weekly, etc. salaries to yearly\n",
    "split_sals['Yearly Salary'] = 0.0\n",
    "\n",
    "for row in range(len(split_sals)):\n",
    "    if split_sals['Frequency'][row] == 'year':\n",
    "        split_sals['Yearly Salary'][row] = split_sals['Average Salary'][row]\n",
    "    elif split_sals['Frequency'][row] == 'month':\n",
    "        split_sals['Yearly Salary'][row] = (split_sals['Average Salary'][row] * 12.0) # 12 months in a year\n",
    "    elif split_sals['Frequency'][row] == 'week':\n",
    "        split_sals['Yearly Salary'][row] = (split_sals['Average Salary'][row] * 52.0) # 52 weeks in a year\n",
    "    elif split_sals['Frequency'][row] == 'day':\n",
    "        split_sals['Yearly Salary'][row] = (split_sals['Average Salary'][row] * 260.0) # 260 weekdays in a year\n",
    "    elif split_sals['Frequency'][row] == 'hour':\n",
    "        split_sals['Yearly Salary'][row] = (split_sals['Average Salary'][row] * 2080.0) # 2080 hours in a work year at 8 hours a day"
   ]
  },
  {
   "cell_type": "code",
   "execution_count": 21,
   "metadata": {
    "collapsed": false
   },
   "outputs": [
    {
     "data": {
      "text/html": [
       "<div>\n",
       "<table border=\"1\" class=\"dataframe\">\n",
       "  <thead>\n",
       "    <tr style=\"text-align: right;\">\n",
       "      <th></th>\n",
       "      <th>Frequency</th>\n",
       "      <th>max</th>\n",
       "      <th>min</th>\n",
       "      <th>Average Salary</th>\n",
       "      <th>Yearly Salary</th>\n",
       "    </tr>\n",
       "  </thead>\n",
       "  <tbody>\n",
       "    <tr>\n",
       "      <th>0</th>\n",
       "      <td>year</td>\n",
       "      <td>205000.0</td>\n",
       "      <td>150000.0</td>\n",
       "      <td>177500.0</td>\n",
       "      <td>177500.0</td>\n",
       "    </tr>\n",
       "    <tr>\n",
       "      <th>1</th>\n",
       "      <td>year</td>\n",
       "      <td>82000.0</td>\n",
       "      <td>45500.0</td>\n",
       "      <td>63750.0</td>\n",
       "      <td>63750.0</td>\n",
       "    </tr>\n",
       "    <tr>\n",
       "      <th>2</th>\n",
       "      <td>day</td>\n",
       "      <td>64.5</td>\n",
       "      <td>NaN</td>\n",
       "      <td>64.5</td>\n",
       "      <td>16770.0</td>\n",
       "    </tr>\n",
       "    <tr>\n",
       "      <th>3</th>\n",
       "      <td>year</td>\n",
       "      <td>100200.0</td>\n",
       "      <td>66800.0</td>\n",
       "      <td>83500.0</td>\n",
       "      <td>83500.0</td>\n",
       "    </tr>\n",
       "    <tr>\n",
       "      <th>4</th>\n",
       "      <td>year</td>\n",
       "      <td>83000.0</td>\n",
       "      <td>46500.0</td>\n",
       "      <td>64750.0</td>\n",
       "      <td>64750.0</td>\n",
       "    </tr>\n",
       "  </tbody>\n",
       "</table>\n",
       "</div>"
      ],
      "text/plain": [
       "  Frequency       max       min  Average Salary  Yearly Salary\n",
       "0      year  205000.0  150000.0        177500.0       177500.0\n",
       "1      year   82000.0   45500.0         63750.0        63750.0\n",
       "2       day      64.5       NaN            64.5        16770.0\n",
       "3      year  100200.0   66800.0         83500.0        83500.0\n",
       "4      year   83000.0   46500.0         64750.0        64750.0"
      ]
     },
     "execution_count": 21,
     "metadata": {},
     "output_type": "execute_result"
    }
   ],
   "source": [
    "split_sals.head()"
   ]
  },
  {
   "cell_type": "code",
   "execution_count": 22,
   "metadata": {
    "collapsed": false
   },
   "outputs": [
    {
     "name": "stderr",
     "output_type": "stream",
     "text": [
      "/home/nick/anaconda2/lib/python2.7/site-packages/ipykernel/__main__.py:1: SettingWithCopyWarning: \n",
      "A value is trying to be set on a copy of a slice from a DataFrame.\n",
      "Try using .loc[row_indexer,col_indexer] = value instead\n",
      "\n",
      "See the caveats in the documentation: http://pandas.pydata.org/pandas-docs/stable/indexing.html#indexing-view-versus-copy\n",
      "  if __name__ == '__main__':\n"
     ]
    }
   ],
   "source": [
    "has_salary['Yearly Salary'] = split_sals['Yearly Salary']"
   ]
  },
  {
   "cell_type": "code",
   "execution_count": 23,
   "metadata": {
    "collapsed": false
   },
   "outputs": [
    {
     "data": {
      "text/html": [
       "<div>\n",
       "<table border=\"1\" class=\"dataframe\">\n",
       "  <thead>\n",
       "    <tr style=\"text-align: right;\">\n",
       "      <th></th>\n",
       "      <th>index</th>\n",
       "      <th>Company</th>\n",
       "      <th>Location</th>\n",
       "      <th>Salary</th>\n",
       "      <th>Search City</th>\n",
       "      <th>Summary</th>\n",
       "      <th>Title</th>\n",
       "      <th>Yearly Salary</th>\n",
       "    </tr>\n",
       "  </thead>\n",
       "  <tbody>\n",
       "    <tr>\n",
       "      <th>0</th>\n",
       "      <td>22</td>\n",
       "      <td>SearchAccountingJobs</td>\n",
       "      <td>Houston, TX</td>\n",
       "      <td>150000  205000 a year</td>\n",
       "      <td>Houston</td>\n",
       "      <td>Lead the review and care of relevant model and...</td>\n",
       "      <td>Quantitative Risk Analyst</td>\n",
       "      <td>177500.0</td>\n",
       "    </tr>\n",
       "    <tr>\n",
       "      <th>1</th>\n",
       "      <td>24</td>\n",
       "      <td>MD Anderson Cancer Center</td>\n",
       "      <td>Houston, TX</td>\n",
       "      <td>45500  82000 a year</td>\n",
       "      <td>Houston</td>\n",
       "      <td>The University of Texas MD Anderson Cancer Cen...</td>\n",
       "      <td>Research Admin Analyst</td>\n",
       "      <td>63750.0</td>\n",
       "    </tr>\n",
       "    <tr>\n",
       "      <th>2</th>\n",
       "      <td>33</td>\n",
       "      <td>Clearpoint</td>\n",
       "      <td>Houston, TX</td>\n",
       "      <td>64.50 a day</td>\n",
       "      <td>Houston</td>\n",
       "      <td>Support our Search Science projects using Text...</td>\n",
       "      <td>SEM Data Scientist | Search Engine Marketing A...</td>\n",
       "      <td>16770.0</td>\n",
       "    </tr>\n",
       "    <tr>\n",
       "      <th>3</th>\n",
       "      <td>36</td>\n",
       "      <td>MD Anderson Cancer Center</td>\n",
       "      <td>Houston, TX</td>\n",
       "      <td>66800  100200 a year</td>\n",
       "      <td>Houston</td>\n",
       "      <td>Certified Medical Technologist (MT) or Medical...</td>\n",
       "      <td>Supv, Cell Therapy Lab</td>\n",
       "      <td>83500.0</td>\n",
       "    </tr>\n",
       "    <tr>\n",
       "      <th>4</th>\n",
       "      <td>42</td>\n",
       "      <td>MD Anderson Cancer Center</td>\n",
       "      <td>Houston, TX</td>\n",
       "      <td>46500  83000 a year</td>\n",
       "      <td>Houston</td>\n",
       "      <td>Analyze data to ensure integrity and efficienc...</td>\n",
       "      <td>Institute Assoc Scientist II - Program Biology...</td>\n",
       "      <td>64750.0</td>\n",
       "    </tr>\n",
       "    <tr>\n",
       "      <th>5</th>\n",
       "      <td>46</td>\n",
       "      <td>Baylor College of Medicine</td>\n",
       "      <td>Houston, TX</td>\n",
       "      <td>54590 a year</td>\n",
       "      <td>Houston</td>\n",
       "      <td>Five years of clinical research or laboratory ...</td>\n",
       "      <td>Senior Research Quality Assurance Analyst</td>\n",
       "      <td>54590.0</td>\n",
       "    </tr>\n",
       "    <tr>\n",
       "      <th>6</th>\n",
       "      <td>53</td>\n",
       "      <td>Baylor College of Medicine</td>\n",
       "      <td>Houston, TX</td>\n",
       "      <td>70000  91000 a year</td>\n",
       "      <td>Houston</td>\n",
       "      <td>3 years’ experience in scientific programming ...</td>\n",
       "      <td>Sr. Bioinformatics Programmer</td>\n",
       "      <td>80500.0</td>\n",
       "    </tr>\n",
       "    <tr>\n",
       "      <th>7</th>\n",
       "      <td>54</td>\n",
       "      <td>Baylor College of Medicine</td>\n",
       "      <td>Houston, TX</td>\n",
       "      <td>83000  102000 a year</td>\n",
       "      <td>Houston</td>\n",
       "      <td>PM, LIMS, QC, IT, Clinical feature requests. I...</td>\n",
       "      <td>Lead Bioinformatics Programmer</td>\n",
       "      <td>92500.0</td>\n",
       "    </tr>\n",
       "    <tr>\n",
       "      <th>8</th>\n",
       "      <td>56</td>\n",
       "      <td>Baylor College of Medicine</td>\n",
       "      <td>Houston, TX</td>\n",
       "      <td>65000 a year</td>\n",
       "      <td>Houston</td>\n",
       "      <td>Using data from Principal Investigators and st...</td>\n",
       "      <td>Research Financial Analyst II</td>\n",
       "      <td>65000.0</td>\n",
       "    </tr>\n",
       "    <tr>\n",
       "      <th>9</th>\n",
       "      <td>60</td>\n",
       "      <td>Baylor College of Medicine</td>\n",
       "      <td>Houston, TX</td>\n",
       "      <td>72000 a year</td>\n",
       "      <td>Houston</td>\n",
       "      <td>Five years experience in biomedical research c...</td>\n",
       "      <td>Senior Research Policy Analyst</td>\n",
       "      <td>72000.0</td>\n",
       "    </tr>\n",
       "    <tr>\n",
       "      <th>10</th>\n",
       "      <td>66</td>\n",
       "      <td>Rekruiters</td>\n",
       "      <td>Houston, TX 77006 (Montrose area)</td>\n",
       "      <td>250000 a year</td>\n",
       "      <td>Houston</td>\n",
       "      <td>Working with our research scientists to delive...</td>\n",
       "      <td>C++ Software Engineer</td>\n",
       "      <td>250000.0</td>\n",
       "    </tr>\n",
       "    <tr>\n",
       "      <th>11</th>\n",
       "      <td>81</td>\n",
       "      <td>Baylor College of Medicine</td>\n",
       "      <td>Houston, TX</td>\n",
       "      <td>72120 a year</td>\n",
       "      <td>Houston</td>\n",
       "      <td>The candidate will be required to interact wit...</td>\n",
       "      <td>Bioinformatics Programmer II</td>\n",
       "      <td>72120.0</td>\n",
       "    </tr>\n",
       "    <tr>\n",
       "      <th>12</th>\n",
       "      <td>99</td>\n",
       "      <td>Texas Department of Public Safety</td>\n",
       "      <td>Houston, TX</td>\n",
       "      <td>3616  5433 a month</td>\n",
       "      <td>Houston</td>\n",
       "      <td>Salary is contingent upon qualifications and i...</td>\n",
       "      <td>Forensic Scientist I-III(DNA Analysis), LES-Ho...</td>\n",
       "      <td>54294.0</td>\n",
       "    </tr>\n",
       "    <tr>\n",
       "      <th>13</th>\n",
       "      <td>116</td>\n",
       "      <td>Career Evolutions</td>\n",
       "      <td>Phoenix, AZ</td>\n",
       "      <td>150000 a year</td>\n",
       "      <td>Phoenix</td>\n",
       "      <td>Act as the technical point of contact towards ...</td>\n",
       "      <td>Data Services Engineer</td>\n",
       "      <td>150000.0</td>\n",
       "    </tr>\n",
       "    <tr>\n",
       "      <th>14</th>\n",
       "      <td>121</td>\n",
       "      <td>Maricopa County Community College Dist...</td>\n",
       "      <td>Phoenix, AZ</td>\n",
       "      <td>50958  60512 a year</td>\n",
       "      <td>Phoenix</td>\n",
       "      <td>All current MCCCD employees must be logged int...</td>\n",
       "      <td>Institutional Research Analyst (Specially Fund...</td>\n",
       "      <td>55735.0</td>\n",
       "    </tr>\n",
       "    <tr>\n",
       "      <th>15</th>\n",
       "      <td>127</td>\n",
       "      <td>Arizona Supreme Court</td>\n",
       "      <td>Phoenix, AZ</td>\n",
       "      <td>56677 a year</td>\n",
       "      <td>Phoenix</td>\n",
       "      <td>Data Statistical Specialist VI. Under the gene...</td>\n",
       "      <td>Data Statistical Specialist (Job 2105)</td>\n",
       "      <td>56677.0</td>\n",
       "    </tr>\n",
       "    <tr>\n",
       "      <th>16</th>\n",
       "      <td>129</td>\n",
       "      <td>SearchBankingJobs</td>\n",
       "      <td>Phoenix, AZ</td>\n",
       "      <td>150000  205000 a year</td>\n",
       "      <td>Phoenix</td>\n",
       "      <td>Lead the review and care of relevant model and...</td>\n",
       "      <td>Quantitative Analyst Manager</td>\n",
       "      <td>177500.0</td>\n",
       "    </tr>\n",
       "    <tr>\n",
       "      <th>17</th>\n",
       "      <td>130</td>\n",
       "      <td>Arizona Health Care Cost Containment S...</td>\n",
       "      <td>Phoenix, AZ</td>\n",
       "      <td>65000  72000 a year</td>\n",
       "      <td>Phoenix</td>\n",
       "      <td>Work with and manage staff in the evaluation o...</td>\n",
       "      <td>DATA ANALYSIS AND RESEARCH MANAGER</td>\n",
       "      <td>68500.0</td>\n",
       "    </tr>\n",
       "    <tr>\n",
       "      <th>18</th>\n",
       "      <td>133</td>\n",
       "      <td>Career Evolutions</td>\n",
       "      <td>Phoenix, AZ</td>\n",
       "      <td>150000 a year</td>\n",
       "      <td>Phoenix</td>\n",
       "      <td>As member of the CIO Office, you will ensure t...</td>\n",
       "      <td>Data Architect</td>\n",
       "      <td>150000.0</td>\n",
       "    </tr>\n",
       "    <tr>\n",
       "      <th>19</th>\n",
       "      <td>140</td>\n",
       "      <td>Arizona State University</td>\n",
       "      <td>Tempe, AZ</td>\n",
       "      <td>47476  60000 a year</td>\n",
       "      <td>Phoenix</td>\n",
       "      <td>Maintains awareness of current trends in data ...</td>\n",
       "      <td>Data Analysis Specialist</td>\n",
       "      <td>53738.0</td>\n",
       "    </tr>\n",
       "  </tbody>\n",
       "</table>\n",
       "</div>"
      ],
      "text/plain": [
       "    index                                            Company  \\\n",
       "0      22                               SearchAccountingJobs   \n",
       "1      24                          MD Anderson Cancer Center   \n",
       "2      33                                         Clearpoint   \n",
       "3      36                          MD Anderson Cancer Center   \n",
       "4      42                          MD Anderson Cancer Center   \n",
       "5      46                         Baylor College of Medicine   \n",
       "6      53                         Baylor College of Medicine   \n",
       "7      54                         Baylor College of Medicine   \n",
       "8      56                         Baylor College of Medicine   \n",
       "9      60                         Baylor College of Medicine   \n",
       "10     66                                         Rekruiters   \n",
       "11     81                         Baylor College of Medicine   \n",
       "12     99                  Texas Department of Public Safety   \n",
       "13    116                                  Career Evolutions   \n",
       "14    121          Maricopa County Community College Dist...   \n",
       "15    127                              Arizona Supreme Court   \n",
       "16    129                                  SearchBankingJobs   \n",
       "17    130          Arizona Health Care Cost Containment S...   \n",
       "18    133                                  Career Evolutions   \n",
       "19    140                           Arizona State University   \n",
       "\n",
       "                             Location                 Salary Search City  \\\n",
       "0                         Houston, TX  150000  205000 a year     Houston   \n",
       "1                         Houston, TX    45500  82000 a year     Houston   \n",
       "2                         Houston, TX            64.50 a day     Houston   \n",
       "3                         Houston, TX   66800  100200 a year     Houston   \n",
       "4                         Houston, TX    46500  83000 a year     Houston   \n",
       "5                         Houston, TX           54590 a year     Houston   \n",
       "6                         Houston, TX    70000  91000 a year     Houston   \n",
       "7                         Houston, TX   83000  102000 a year     Houston   \n",
       "8                         Houston, TX           65000 a year     Houston   \n",
       "9                         Houston, TX           72000 a year     Houston   \n",
       "10  Houston, TX 77006 (Montrose area)          250000 a year     Houston   \n",
       "11                        Houston, TX           72120 a year     Houston   \n",
       "12                        Houston, TX     3616  5433 a month     Houston   \n",
       "13                        Phoenix, AZ          150000 a year     Phoenix   \n",
       "14                        Phoenix, AZ    50958  60512 a year     Phoenix   \n",
       "15                        Phoenix, AZ           56677 a year     Phoenix   \n",
       "16                        Phoenix, AZ  150000  205000 a year     Phoenix   \n",
       "17                        Phoenix, AZ    65000  72000 a year     Phoenix   \n",
       "18                        Phoenix, AZ          150000 a year     Phoenix   \n",
       "19                          Tempe, AZ    47476  60000 a year     Phoenix   \n",
       "\n",
       "                                              Summary  \\\n",
       "0   Lead the review and care of relevant model and...   \n",
       "1   The University of Texas MD Anderson Cancer Cen...   \n",
       "2   Support our Search Science projects using Text...   \n",
       "3   Certified Medical Technologist (MT) or Medical...   \n",
       "4   Analyze data to ensure integrity and efficienc...   \n",
       "5   Five years of clinical research or laboratory ...   \n",
       "6   3 years’ experience in scientific programming ...   \n",
       "7   PM, LIMS, QC, IT, Clinical feature requests. I...   \n",
       "8   Using data from Principal Investigators and st...   \n",
       "9   Five years experience in biomedical research c...   \n",
       "10  Working with our research scientists to delive...   \n",
       "11  The candidate will be required to interact wit...   \n",
       "12  Salary is contingent upon qualifications and i...   \n",
       "13  Act as the technical point of contact towards ...   \n",
       "14  All current MCCCD employees must be logged int...   \n",
       "15  Data Statistical Specialist VI. Under the gene...   \n",
       "16  Lead the review and care of relevant model and...   \n",
       "17  Work with and manage staff in the evaluation o...   \n",
       "18  As member of the CIO Office, you will ensure t...   \n",
       "19  Maintains awareness of current trends in data ...   \n",
       "\n",
       "                                                Title  Yearly Salary  \n",
       "0                           Quantitative Risk Analyst       177500.0  \n",
       "1                              Research Admin Analyst        63750.0  \n",
       "2   SEM Data Scientist | Search Engine Marketing A...        16770.0  \n",
       "3                              Supv, Cell Therapy Lab        83500.0  \n",
       "4   Institute Assoc Scientist II - Program Biology...        64750.0  \n",
       "5           Senior Research Quality Assurance Analyst        54590.0  \n",
       "6                       Sr. Bioinformatics Programmer        80500.0  \n",
       "7                      Lead Bioinformatics Programmer        92500.0  \n",
       "8                       Research Financial Analyst II        65000.0  \n",
       "9                      Senior Research Policy Analyst        72000.0  \n",
       "10                              C++ Software Engineer       250000.0  \n",
       "11                       Bioinformatics Programmer II        72120.0  \n",
       "12  Forensic Scientist I-III(DNA Analysis), LES-Ho...        54294.0  \n",
       "13                             Data Services Engineer       150000.0  \n",
       "14  Institutional Research Analyst (Specially Fund...        55735.0  \n",
       "15             Data Statistical Specialist (Job 2105)        56677.0  \n",
       "16                       Quantitative Analyst Manager       177500.0  \n",
       "17                 DATA ANALYSIS AND RESEARCH MANAGER        68500.0  \n",
       "18                                     Data Architect       150000.0  \n",
       "19                           Data Analysis Specialist        53738.0  "
      ]
     },
     "execution_count": 23,
     "metadata": {},
     "output_type": "execute_result"
    }
   ],
   "source": [
    "has_salary.head(20)"
   ]
  },
  {
   "cell_type": "code",
   "execution_count": 24,
   "metadata": {
    "collapsed": false,
    "focus": false,
    "id": "a0f701e0-80bd-40ba-9101-4535860c0968"
   },
   "outputs": [
    {
     "name": "stderr",
     "output_type": "stream",
     "text": [
      "/home/nick/anaconda2/lib/python2.7/site-packages/ipykernel/__main__.py:7: SettingWithCopyWarning: \n",
      "A value is trying to be set on a copy of a slice from a DataFrame\n",
      "\n",
      "See the caveats in the documentation: http://pandas.pydata.org/pandas-docs/stable/indexing.html#indexing-view-versus-copy\n"
     ]
    }
   ],
   "source": [
    "# I did this instead of merging because I coudln't get the merge to work\n",
    "df['Yearly Salary'] = np.nan\n",
    "\n",
    "for row in range(len(df)):\n",
    "    for i in range(len(has_salary)):\n",
    "        if has_salary['index'][i] == row:\n",
    "            df['Yearly Salary'][row] = has_salary['Yearly Salary'][i]"
   ]
  },
  {
   "cell_type": "code",
   "execution_count": 25,
   "metadata": {
    "collapsed": false
   },
   "outputs": [
    {
     "data": {
      "text/html": [
       "<div>\n",
       "<table border=\"1\" class=\"dataframe\">\n",
       "  <thead>\n",
       "    <tr style=\"text-align: right;\">\n",
       "      <th></th>\n",
       "      <th>Company</th>\n",
       "      <th>Location</th>\n",
       "      <th>Salary</th>\n",
       "      <th>Search City</th>\n",
       "      <th>Summary</th>\n",
       "      <th>Title</th>\n",
       "      <th>Yearly Salary</th>\n",
       "    </tr>\n",
       "  </thead>\n",
       "  <tbody>\n",
       "    <tr>\n",
       "      <th>0</th>\n",
       "      <td>SYSCO</td>\n",
       "      <td>Houston, TX 77038</td>\n",
       "      <td>NaN</td>\n",
       "      <td>Houston</td>\n",
       "      <td>Build predictive analytics models with Python ...</td>\n",
       "      <td>Sr Data Scientist</td>\n",
       "      <td>NaN</td>\n",
       "    </tr>\n",
       "    <tr>\n",
       "      <th>1</th>\n",
       "      <td>alliantgroup</td>\n",
       "      <td>Houston, TX</td>\n",
       "      <td>NaN</td>\n",
       "      <td>Houston</td>\n",
       "      <td>Engineers, and scientists to identify and subs...</td>\n",
       "      <td>Project Associate</td>\n",
       "      <td>NaN</td>\n",
       "    </tr>\n",
       "    <tr>\n",
       "      <th>2</th>\n",
       "      <td>Arundo Analytics</td>\n",
       "      <td>Houston, TX</td>\n",
       "      <td>NaN</td>\n",
       "      <td>Houston</td>\n",
       "      <td>Senior Data Scientist with expertise in machin...</td>\n",
       "      <td>Machine Learning Expert</td>\n",
       "      <td>NaN</td>\n",
       "    </tr>\n",
       "    <tr>\n",
       "      <th>3</th>\n",
       "      <td>Quantlab Financial</td>\n",
       "      <td>Houston, TX</td>\n",
       "      <td>NaN</td>\n",
       "      <td>Houston</td>\n",
       "      <td>Technology and Scientific Research are central...</td>\n",
       "      <td>Quantitative Research Scientist - Options Stra...</td>\n",
       "      <td>NaN</td>\n",
       "    </tr>\n",
       "    <tr>\n",
       "      <th>4</th>\n",
       "      <td>Exxon Mobil</td>\n",
       "      <td>Houston, TX</td>\n",
       "      <td>NaN</td>\n",
       "      <td>Houston</td>\n",
       "      <td>Experience in relevant areas of scientific exp...</td>\n",
       "      <td>Data Scientist</td>\n",
       "      <td>NaN</td>\n",
       "    </tr>\n",
       "    <tr>\n",
       "      <th>5</th>\n",
       "      <td>Pros.</td>\n",
       "      <td>Houston, TX</td>\n",
       "      <td>NaN</td>\n",
       "      <td>Houston</td>\n",
       "      <td>Machine Learning and Data Science. In this rol...</td>\n",
       "      <td>Scientist I</td>\n",
       "      <td>NaN</td>\n",
       "    </tr>\n",
       "    <tr>\n",
       "      <th>6</th>\n",
       "      <td>Reed Elsevier</td>\n",
       "      <td>Houston, TX</td>\n",
       "      <td>NaN</td>\n",
       "      <td>Houston</td>\n",
       "      <td>A global company based in Amsterdam, Elsevier ...</td>\n",
       "      <td>Psychometrician – Data Analyst</td>\n",
       "      <td>NaN</td>\n",
       "    </tr>\n",
       "    <tr>\n",
       "      <th>7</th>\n",
       "      <td>Shell</td>\n",
       "      <td>Houston, TX</td>\n",
       "      <td>NaN</td>\n",
       "      <td>Houston</td>\n",
       "      <td>Before applying, you are advised to read our d...</td>\n",
       "      <td>Quantitative Risk Analyst (Houston, TX)</td>\n",
       "      <td>NaN</td>\n",
       "    </tr>\n",
       "    <tr>\n",
       "      <th>8</th>\n",
       "      <td>Enaxis Consulting, LP</td>\n",
       "      <td>Houston, TX 77046 (Montrose area)</td>\n",
       "      <td>NaN</td>\n",
       "      <td>Houston</td>\n",
       "      <td>Work with data scientists, visualization speci...</td>\n",
       "      <td>Analytics Data Engineer</td>\n",
       "      <td>NaN</td>\n",
       "    </tr>\n",
       "    <tr>\n",
       "      <th>9</th>\n",
       "      <td>SYSCO</td>\n",
       "      <td>Houston, TX 77038</td>\n",
       "      <td>NaN</td>\n",
       "      <td>Houston</td>\n",
       "      <td>Build predictive analytics models with Python ...</td>\n",
       "      <td>Sr Data Scientist</td>\n",
       "      <td>NaN</td>\n",
       "    </tr>\n",
       "    <tr>\n",
       "      <th>10</th>\n",
       "      <td>National Oilwell Varco</td>\n",
       "      <td>Houston, TX</td>\n",
       "      <td>NaN</td>\n",
       "      <td>Houston</td>\n",
       "      <td>Data mining, Feature. Data analytics solutions...</td>\n",
       "      <td>Data Scientist</td>\n",
       "      <td>NaN</td>\n",
       "    </tr>\n",
       "    <tr>\n",
       "      <th>11</th>\n",
       "      <td>Noble Energy, Inc.</td>\n",
       "      <td>Houston, TX 77070</td>\n",
       "      <td>NaN</td>\n",
       "      <td>Houston</td>\n",
       "      <td>Continually enhance the advanced analytics pro...</td>\n",
       "      <td>Data Scientist</td>\n",
       "      <td>NaN</td>\n",
       "    </tr>\n",
       "    <tr>\n",
       "      <th>12</th>\n",
       "      <td>Houston Methodist</td>\n",
       "      <td>Houston, TX 77030 (Medical area)</td>\n",
       "      <td>NaN</td>\n",
       "      <td>Houston</td>\n",
       "      <td>Analyzes data and interprets data (EF). This i...</td>\n",
       "      <td>Research Scientist</td>\n",
       "      <td>NaN</td>\n",
       "    </tr>\n",
       "    <tr>\n",
       "      <th>13</th>\n",
       "      <td>Arundo Analytics</td>\n",
       "      <td>Houston, TX</td>\n",
       "      <td>NaN</td>\n",
       "      <td>Houston</td>\n",
       "      <td>Demonstrated experience in working with subjec...</td>\n",
       "      <td>Senior Analyst/ Data engineer</td>\n",
       "      <td>NaN</td>\n",
       "    </tr>\n",
       "    <tr>\n",
       "      <th>14</th>\n",
       "      <td>MD Anderson Cancer Center</td>\n",
       "      <td>Houston, TX</td>\n",
       "      <td>NaN</td>\n",
       "      <td>Houston</td>\n",
       "      <td>Collaboration with scientists in other functio...</td>\n",
       "      <td>Institute Senior Research Scientist, Medicinal...</td>\n",
       "      <td>NaN</td>\n",
       "    </tr>\n",
       "    <tr>\n",
       "      <th>15</th>\n",
       "      <td>Amazon Corporate LLC</td>\n",
       "      <td>United States</td>\n",
       "      <td>NaN</td>\n",
       "      <td>Houston</td>\n",
       "      <td>In North America alone, we process 50B request...</td>\n",
       "      <td>Software Development Engineer- Relocation Oppo...</td>\n",
       "      <td>NaN</td>\n",
       "    </tr>\n",
       "    <tr>\n",
       "      <th>16</th>\n",
       "      <td>MD Anderson Cancer Center</td>\n",
       "      <td>Houston, TX</td>\n",
       "      <td>NaN</td>\n",
       "      <td>Houston</td>\n",
       "      <td>As part of the MD Anderson Cancer Center Moon ...</td>\n",
       "      <td>Institute Research Scientist -Immuno-oncology</td>\n",
       "      <td>NaN</td>\n",
       "    </tr>\n",
       "    <tr>\n",
       "      <th>17</th>\n",
       "      <td>BOEING</td>\n",
       "      <td>Houston, TX</td>\n",
       "      <td>NaN</td>\n",
       "      <td>Houston</td>\n",
       "      <td>Skilled scientists and thinkers. Manage and mo...</td>\n",
       "      <td>Senior Supply Base Management Specialist</td>\n",
       "      <td>NaN</td>\n",
       "    </tr>\n",
       "    <tr>\n",
       "      <th>18</th>\n",
       "      <td>UT Health Science Center at Houston</td>\n",
       "      <td>Houston, TX</td>\n",
       "      <td>NaN</td>\n",
       "      <td>Houston</td>\n",
       "      <td>May assist in developing survey methodologies ...</td>\n",
       "      <td>Statistician</td>\n",
       "      <td>NaN</td>\n",
       "    </tr>\n",
       "    <tr>\n",
       "      <th>19</th>\n",
       "      <td>Cardtronics</td>\n",
       "      <td>Houston, TX</td>\n",
       "      <td>NaN</td>\n",
       "      <td>Houston</td>\n",
       "      <td>Manage on-going and ad-hoc statistical and fin...</td>\n",
       "      <td>Sr. Analyst – Data Analysis and Business Repor...</td>\n",
       "      <td>NaN</td>\n",
       "    </tr>\n",
       "  </tbody>\n",
       "</table>\n",
       "</div>"
      ],
      "text/plain": [
       "                                        Company  \\\n",
       "0                                         SYSCO   \n",
       "1                                  alliantgroup   \n",
       "2                              Arundo Analytics   \n",
       "3                            Quantlab Financial   \n",
       "4                                   Exxon Mobil   \n",
       "5                                         Pros.   \n",
       "6                                 Reed Elsevier   \n",
       "7                                         Shell   \n",
       "8                         Enaxis Consulting, LP   \n",
       "9                                         SYSCO   \n",
       "10                       National Oilwell Varco   \n",
       "11                           Noble Energy, Inc.   \n",
       "12                            Houston Methodist   \n",
       "13                             Arundo Analytics   \n",
       "14                    MD Anderson Cancer Center   \n",
       "15                         Amazon Corporate LLC   \n",
       "16                    MD Anderson Cancer Center   \n",
       "17                                       BOEING   \n",
       "18          UT Health Science Center at Houston   \n",
       "19                                  Cardtronics   \n",
       "\n",
       "                             Location Salary Search City  \\\n",
       "0                   Houston, TX 77038    NaN     Houston   \n",
       "1                         Houston, TX    NaN     Houston   \n",
       "2                         Houston, TX    NaN     Houston   \n",
       "3                         Houston, TX    NaN     Houston   \n",
       "4                         Houston, TX    NaN     Houston   \n",
       "5                         Houston, TX    NaN     Houston   \n",
       "6                         Houston, TX    NaN     Houston   \n",
       "7                         Houston, TX    NaN     Houston   \n",
       "8   Houston, TX 77046 (Montrose area)    NaN     Houston   \n",
       "9                   Houston, TX 77038    NaN     Houston   \n",
       "10                        Houston, TX    NaN     Houston   \n",
       "11                  Houston, TX 77070    NaN     Houston   \n",
       "12   Houston, TX 77030 (Medical area)    NaN     Houston   \n",
       "13                        Houston, TX    NaN     Houston   \n",
       "14                        Houston, TX    NaN     Houston   \n",
       "15                      United States    NaN     Houston   \n",
       "16                        Houston, TX    NaN     Houston   \n",
       "17                        Houston, TX    NaN     Houston   \n",
       "18                        Houston, TX    NaN     Houston   \n",
       "19                        Houston, TX    NaN     Houston   \n",
       "\n",
       "                                              Summary  \\\n",
       "0   Build predictive analytics models with Python ...   \n",
       "1   Engineers, and scientists to identify and subs...   \n",
       "2   Senior Data Scientist with expertise in machin...   \n",
       "3   Technology and Scientific Research are central...   \n",
       "4   Experience in relevant areas of scientific exp...   \n",
       "5   Machine Learning and Data Science. In this rol...   \n",
       "6   A global company based in Amsterdam, Elsevier ...   \n",
       "7   Before applying, you are advised to read our d...   \n",
       "8   Work with data scientists, visualization speci...   \n",
       "9   Build predictive analytics models with Python ...   \n",
       "10  Data mining, Feature. Data analytics solutions...   \n",
       "11  Continually enhance the advanced analytics pro...   \n",
       "12  Analyzes data and interprets data (EF). This i...   \n",
       "13  Demonstrated experience in working with subjec...   \n",
       "14  Collaboration with scientists in other functio...   \n",
       "15  In North America alone, we process 50B request...   \n",
       "16  As part of the MD Anderson Cancer Center Moon ...   \n",
       "17  Skilled scientists and thinkers. Manage and mo...   \n",
       "18  May assist in developing survey methodologies ...   \n",
       "19  Manage on-going and ad-hoc statistical and fin...   \n",
       "\n",
       "                                                Title  Yearly Salary  \n",
       "0                                   Sr Data Scientist            NaN  \n",
       "1                                   Project Associate            NaN  \n",
       "2                             Machine Learning Expert            NaN  \n",
       "3   Quantitative Research Scientist - Options Stra...            NaN  \n",
       "4                                      Data Scientist            NaN  \n",
       "5                                         Scientist I            NaN  \n",
       "6                      Psychometrician – Data Analyst            NaN  \n",
       "7             Quantitative Risk Analyst (Houston, TX)            NaN  \n",
       "8                             Analytics Data Engineer            NaN  \n",
       "9                                   Sr Data Scientist            NaN  \n",
       "10                                     Data Scientist            NaN  \n",
       "11                                     Data Scientist            NaN  \n",
       "12                                 Research Scientist            NaN  \n",
       "13                      Senior Analyst/ Data engineer            NaN  \n",
       "14  Institute Senior Research Scientist, Medicinal...            NaN  \n",
       "15  Software Development Engineer- Relocation Oppo...            NaN  \n",
       "16      Institute Research Scientist -Immuno-oncology            NaN  \n",
       "17           Senior Supply Base Management Specialist            NaN  \n",
       "18                                       Statistician            NaN  \n",
       "19  Sr. Analyst – Data Analysis and Business Repor...            NaN  "
      ]
     },
     "execution_count": 25,
     "metadata": {},
     "output_type": "execute_result"
    }
   ],
   "source": [
    "df.head(20)"
   ]
  },
  {
   "cell_type": "code",
   "execution_count": 26,
   "metadata": {
    "collapsed": false
   },
   "outputs": [],
   "source": [
    "# df.merge(has_salary[['index', 'Yearly Salary']], how='left', left_index=True, right_index=True)"
   ]
  },
  {
   "cell_type": "code",
   "execution_count": 27,
   "metadata": {
    "collapsed": false
   },
   "outputs": [
    {
     "data": {
      "text/plain": [
       "True     1606\n",
       "False     133\n",
       "Name: Yearly Salary, dtype: int64"
      ]
     },
     "execution_count": 27,
     "metadata": {},
     "output_type": "execute_result"
    }
   ],
   "source": [
    "df['Yearly Salary'].isnull().value_counts()"
   ]
  },
  {
   "cell_type": "markdown",
   "metadata": {
    "collapsed": false,
    "focus": false,
    "id": "43e71edd-210e-42b1-9336-70a931f048af"
   },
   "source": [
    "### Save your results as a CSV"
   ]
  },
  {
   "cell_type": "code",
   "execution_count": 28,
   "metadata": {
    "collapsed": true,
    "focus": false,
    "id": "783fd153-28ac-47ab-bfca-27e7c1de95b4"
   },
   "outputs": [],
   "source": [
    "## YOUR CODE HERE\n",
    "df.to_csv('clean_data.csv')\n",
    "has_salary.to_csv('has_salary.csv')"
   ]
  },
  {
   "cell_type": "code",
   "execution_count": 29,
   "metadata": {
    "collapsed": false
   },
   "outputs": [],
   "source": [
    "df = pd.read_csv('clean_data.csv')\n",
    "has_salary = pd.read_csv('has_salary.csv')"
   ]
  },
  {
   "cell_type": "markdown",
   "metadata": {
    "focus": false,
    "id": "04563b69-f7b6-466f-9d65-fc62c9ddee6a"
   },
   "source": [
    "## Predicting salaries using Logistic Regression"
   ]
  },
  {
   "cell_type": "markdown",
   "metadata": {
    "focus": false,
    "id": "243e949e-2742-40af-872e-fec475fd306c"
   },
   "source": [
    "#### Load in the the data of scraped salaries"
   ]
  },
  {
   "cell_type": "code",
   "execution_count": 30,
   "metadata": {
    "collapsed": false,
    "focus": false,
    "id": "588f9845-6143-4bcc-bfd1-85d45b79303d"
   },
   "outputs": [
    {
     "data": {
      "text/plain": [
       "count       133.000000\n",
       "mean      79196.125564\n",
       "std       41070.272694\n",
       "min       12000.000000\n",
       "25%       55000.000000\n",
       "50%       68587.500000\n",
       "75%       95000.000000\n",
       "max      250000.000000\n",
       "Name: Yearly Salary, dtype: float64"
      ]
     },
     "execution_count": 30,
     "metadata": {},
     "output_type": "execute_result"
    }
   ],
   "source": [
    "## YOUR CODE HERE\n",
    "has_salary['Yearly Salary'].describe()"
   ]
  },
  {
   "cell_type": "code",
   "execution_count": 31,
   "metadata": {
    "collapsed": false
   },
   "outputs": [
    {
     "data": {
      "text/plain": [
       "68587.5"
      ]
     },
     "execution_count": 31,
     "metadata": {},
     "output_type": "execute_result"
    }
   ],
   "source": [
    "has_salary['Yearly Salary'].median()"
   ]
  },
  {
   "cell_type": "markdown",
   "metadata": {
    "focus": false,
    "id": "c7631f51-07f2-4c79-a093-3e9bc7849a48"
   },
   "source": [
    "#### We want to predict a binary variable - whether the salary was low or high. Compute the median salary and create a new binary variable that is true when the salary is high (above the median)\n",
    "\n",
    "We could also perform Linear Regression (or any regression) to predict the salary value here. Instead, we are going to convert this into a _binary_ classification problem, by predicting two classes, HIGH vs LOW salary.\n",
    "\n",
    "While performing regression may be better, performing classification may help remove some of the noise of the extreme salaries. We don't have to choice the `median` as the splitting point - we could also split on the 75th percentile or any other reasonable breaking point.\n",
    "\n",
    "In fact, the ideal scenario may be to predict many levels of salaries, "
   ]
  },
  {
   "cell_type": "code",
   "execution_count": 32,
   "metadata": {
    "collapsed": false,
    "focus": false,
    "id": "c20d2498-151c-44c3-a453-3a333c79a0ac"
   },
   "outputs": [
    {
     "name": "stderr",
     "output_type": "stream",
     "text": [
      "/home/nick/anaconda2/lib/python2.7/site-packages/ipykernel/__main__.py:7: SettingWithCopyWarning: \n",
      "A value is trying to be set on a copy of a slice from a DataFrame\n",
      "\n",
      "See the caveats in the documentation: http://pandas.pydata.org/pandas-docs/stable/indexing.html#indexing-view-versus-copy\n"
     ]
    },
    {
     "data": {
      "text/plain": [
       "1    67\n",
       "0    66\n",
       "Name: is_high_salary, dtype: int64"
      ]
     },
     "execution_count": 32,
     "metadata": {},
     "output_type": "execute_result"
    }
   ],
   "source": [
    "## Set is_high_salary to 1 if salary is higher than the median\n",
    "\n",
    "has_salary['is_high_salary'] = 0\n",
    "\n",
    "for row in range(len(has_salary)):\n",
    "    if has_salary['Yearly Salary'][row] >= (has_salary['Yearly Salary'].median()):\n",
    "        has_salary['is_high_salary'][row] = 1\n",
    "        \n",
    "has_salary['is_high_salary'].value_counts()"
   ]
  },
  {
   "cell_type": "code",
   "execution_count": 33,
   "metadata": {
    "collapsed": false
   },
   "outputs": [
    {
     "data": {
      "text/html": [
       "<div>\n",
       "<table border=\"1\" class=\"dataframe\">\n",
       "  <thead>\n",
       "    <tr style=\"text-align: right;\">\n",
       "      <th></th>\n",
       "      <th>Unnamed: 0</th>\n",
       "      <th>index</th>\n",
       "      <th>Company</th>\n",
       "      <th>Location</th>\n",
       "      <th>Salary</th>\n",
       "      <th>Search City</th>\n",
       "      <th>Summary</th>\n",
       "      <th>Title</th>\n",
       "      <th>Yearly Salary</th>\n",
       "      <th>is_high_salary</th>\n",
       "    </tr>\n",
       "  </thead>\n",
       "  <tbody>\n",
       "    <tr>\n",
       "      <th>0</th>\n",
       "      <td>0</td>\n",
       "      <td>22</td>\n",
       "      <td>SearchAccountingJobs</td>\n",
       "      <td>Houston, TX</td>\n",
       "      <td>150000  205000 a year</td>\n",
       "      <td>Houston</td>\n",
       "      <td>Lead the review and care of relevant model and...</td>\n",
       "      <td>Quantitative Risk Analyst</td>\n",
       "      <td>177500.0</td>\n",
       "      <td>1</td>\n",
       "    </tr>\n",
       "    <tr>\n",
       "      <th>1</th>\n",
       "      <td>1</td>\n",
       "      <td>24</td>\n",
       "      <td>MD Anderson Cancer Center</td>\n",
       "      <td>Houston, TX</td>\n",
       "      <td>45500  82000 a year</td>\n",
       "      <td>Houston</td>\n",
       "      <td>The University of Texas MD Anderson Cancer Cen...</td>\n",
       "      <td>Research Admin Analyst</td>\n",
       "      <td>63750.0</td>\n",
       "      <td>0</td>\n",
       "    </tr>\n",
       "    <tr>\n",
       "      <th>2</th>\n",
       "      <td>2</td>\n",
       "      <td>33</td>\n",
       "      <td>Clearpoint</td>\n",
       "      <td>Houston, TX</td>\n",
       "      <td>64.50 a day</td>\n",
       "      <td>Houston</td>\n",
       "      <td>Support our Search Science projects using Text...</td>\n",
       "      <td>SEM Data Scientist | Search Engine Marketing A...</td>\n",
       "      <td>16770.0</td>\n",
       "      <td>0</td>\n",
       "    </tr>\n",
       "    <tr>\n",
       "      <th>3</th>\n",
       "      <td>3</td>\n",
       "      <td>36</td>\n",
       "      <td>MD Anderson Cancer Center</td>\n",
       "      <td>Houston, TX</td>\n",
       "      <td>66800  100200 a year</td>\n",
       "      <td>Houston</td>\n",
       "      <td>Certified Medical Technologist (MT) or Medical...</td>\n",
       "      <td>Supv, Cell Therapy Lab</td>\n",
       "      <td>83500.0</td>\n",
       "      <td>1</td>\n",
       "    </tr>\n",
       "    <tr>\n",
       "      <th>4</th>\n",
       "      <td>4</td>\n",
       "      <td>42</td>\n",
       "      <td>MD Anderson Cancer Center</td>\n",
       "      <td>Houston, TX</td>\n",
       "      <td>46500  83000 a year</td>\n",
       "      <td>Houston</td>\n",
       "      <td>Analyze data to ensure integrity and efficienc...</td>\n",
       "      <td>Institute Assoc Scientist II - Program Biology...</td>\n",
       "      <td>64750.0</td>\n",
       "      <td>0</td>\n",
       "    </tr>\n",
       "    <tr>\n",
       "      <th>5</th>\n",
       "      <td>5</td>\n",
       "      <td>46</td>\n",
       "      <td>Baylor College of Medicine</td>\n",
       "      <td>Houston, TX</td>\n",
       "      <td>54590 a year</td>\n",
       "      <td>Houston</td>\n",
       "      <td>Five years of clinical research or laboratory ...</td>\n",
       "      <td>Senior Research Quality Assurance Analyst</td>\n",
       "      <td>54590.0</td>\n",
       "      <td>0</td>\n",
       "    </tr>\n",
       "    <tr>\n",
       "      <th>6</th>\n",
       "      <td>6</td>\n",
       "      <td>53</td>\n",
       "      <td>Baylor College of Medicine</td>\n",
       "      <td>Houston, TX</td>\n",
       "      <td>70000  91000 a year</td>\n",
       "      <td>Houston</td>\n",
       "      <td>3 years’ experience in scientific programming ...</td>\n",
       "      <td>Sr. Bioinformatics Programmer</td>\n",
       "      <td>80500.0</td>\n",
       "      <td>1</td>\n",
       "    </tr>\n",
       "    <tr>\n",
       "      <th>7</th>\n",
       "      <td>7</td>\n",
       "      <td>54</td>\n",
       "      <td>Baylor College of Medicine</td>\n",
       "      <td>Houston, TX</td>\n",
       "      <td>83000  102000 a year</td>\n",
       "      <td>Houston</td>\n",
       "      <td>PM, LIMS, QC, IT, Clinical feature requests. I...</td>\n",
       "      <td>Lead Bioinformatics Programmer</td>\n",
       "      <td>92500.0</td>\n",
       "      <td>1</td>\n",
       "    </tr>\n",
       "    <tr>\n",
       "      <th>8</th>\n",
       "      <td>8</td>\n",
       "      <td>56</td>\n",
       "      <td>Baylor College of Medicine</td>\n",
       "      <td>Houston, TX</td>\n",
       "      <td>65000 a year</td>\n",
       "      <td>Houston</td>\n",
       "      <td>Using data from Principal Investigators and st...</td>\n",
       "      <td>Research Financial Analyst II</td>\n",
       "      <td>65000.0</td>\n",
       "      <td>0</td>\n",
       "    </tr>\n",
       "    <tr>\n",
       "      <th>9</th>\n",
       "      <td>9</td>\n",
       "      <td>60</td>\n",
       "      <td>Baylor College of Medicine</td>\n",
       "      <td>Houston, TX</td>\n",
       "      <td>72000 a year</td>\n",
       "      <td>Houston</td>\n",
       "      <td>Five years experience in biomedical research c...</td>\n",
       "      <td>Senior Research Policy Analyst</td>\n",
       "      <td>72000.0</td>\n",
       "      <td>1</td>\n",
       "    </tr>\n",
       "  </tbody>\n",
       "</table>\n",
       "</div>"
      ],
      "text/plain": [
       "   Unnamed: 0  index                             Company     Location  \\\n",
       "0           0     22                SearchAccountingJobs  Houston, TX   \n",
       "1           1     24           MD Anderson Cancer Center  Houston, TX   \n",
       "2           2     33                          Clearpoint  Houston, TX   \n",
       "3           3     36           MD Anderson Cancer Center  Houston, TX   \n",
       "4           4     42           MD Anderson Cancer Center  Houston, TX   \n",
       "5           5     46          Baylor College of Medicine  Houston, TX   \n",
       "6           6     53          Baylor College of Medicine  Houston, TX   \n",
       "7           7     54          Baylor College of Medicine  Houston, TX   \n",
       "8           8     56          Baylor College of Medicine  Houston, TX   \n",
       "9           9     60          Baylor College of Medicine  Houston, TX   \n",
       "\n",
       "                  Salary Search City  \\\n",
       "0  150000  205000 a year     Houston   \n",
       "1    45500  82000 a year     Houston   \n",
       "2            64.50 a day     Houston   \n",
       "3   66800  100200 a year     Houston   \n",
       "4    46500  83000 a year     Houston   \n",
       "5           54590 a year     Houston   \n",
       "6    70000  91000 a year     Houston   \n",
       "7   83000  102000 a year     Houston   \n",
       "8           65000 a year     Houston   \n",
       "9           72000 a year     Houston   \n",
       "\n",
       "                                             Summary  \\\n",
       "0  Lead the review and care of relevant model and...   \n",
       "1  The University of Texas MD Anderson Cancer Cen...   \n",
       "2  Support our Search Science projects using Text...   \n",
       "3  Certified Medical Technologist (MT) or Medical...   \n",
       "4  Analyze data to ensure integrity and efficienc...   \n",
       "5  Five years of clinical research or laboratory ...   \n",
       "6  3 years’ experience in scientific programming ...   \n",
       "7  PM, LIMS, QC, IT, Clinical feature requests. I...   \n",
       "8  Using data from Principal Investigators and st...   \n",
       "9  Five years experience in biomedical research c...   \n",
       "\n",
       "                                               Title  Yearly Salary  \\\n",
       "0                          Quantitative Risk Analyst       177500.0   \n",
       "1                             Research Admin Analyst        63750.0   \n",
       "2  SEM Data Scientist | Search Engine Marketing A...        16770.0   \n",
       "3                             Supv, Cell Therapy Lab        83500.0   \n",
       "4  Institute Assoc Scientist II - Program Biology...        64750.0   \n",
       "5          Senior Research Quality Assurance Analyst        54590.0   \n",
       "6                      Sr. Bioinformatics Programmer        80500.0   \n",
       "7                     Lead Bioinformatics Programmer        92500.0   \n",
       "8                      Research Financial Analyst II        65000.0   \n",
       "9                     Senior Research Policy Analyst        72000.0   \n",
       "\n",
       "   is_high_salary  \n",
       "0               1  \n",
       "1               0  \n",
       "2               0  \n",
       "3               1  \n",
       "4               0  \n",
       "5               0  \n",
       "6               1  \n",
       "7               1  \n",
       "8               0  \n",
       "9               1  "
      ]
     },
     "execution_count": 33,
     "metadata": {},
     "output_type": "execute_result"
    }
   ],
   "source": [
    "has_salary.head(10)"
   ]
  },
  {
   "cell_type": "markdown",
   "metadata": {
    "focus": false,
    "id": "a7afb2c0-d41e-4779-8216-91cd8dd4473f"
   },
   "source": [
    "#### Thought experiment: What is the baseline accuracy for this model?"
   ]
  },
  {
   "cell_type": "markdown",
   "metadata": {
    "collapsed": true,
    "focus": false,
    "id": "87a17d3d-b7f4-4747-9f75-f9af1d18a174"
   },
   "source": [
    "The baseline accuracy we should be aiming for is 50%, since that would at least be better than randomly assigning either 1 or 0 to is_high_salary."
   ]
  },
  {
   "cell_type": "markdown",
   "metadata": {
    "focus": false,
    "id": "4fb29de2-5b98-474c-a4ad-5170b72b9aea"
   },
   "source": [
    "#### Create a Logistic Regression model to predict High/Low salary using statsmodel. Start by ONLY using the location as a feature. Display the coefficients and write a short summary of what they mean."
   ]
  },
  {
   "cell_type": "code",
   "execution_count": 34,
   "metadata": {
    "collapsed": false,
    "focus": false,
    "id": "ddbc6159-6854-4ca7-857f-bfecdaf6d9c2"
   },
   "outputs": [],
   "source": [
    "## YOUR CODE HERE\n",
    "city_dummies = pd.get_dummies(has_salary['Search City'])\n",
    "city_dummies['is_high_salary'] = has_salary['is_high_salary']"
   ]
  },
  {
   "cell_type": "code",
   "execution_count": 35,
   "metadata": {
    "collapsed": false
   },
   "outputs": [
    {
     "data": {
      "text/html": [
       "<div>\n",
       "<table border=\"1\" class=\"dataframe\">\n",
       "  <thead>\n",
       "    <tr style=\"text-align: right;\">\n",
       "      <th></th>\n",
       "      <th>Atlanta</th>\n",
       "      <th>Austin</th>\n",
       "      <th>Chicago</th>\n",
       "      <th>Dallas</th>\n",
       "      <th>Denver</th>\n",
       "      <th>Houston</th>\n",
       "      <th>Los+Angeles</th>\n",
       "      <th>Miami</th>\n",
       "      <th>New+York</th>\n",
       "      <th>Philadelphia</th>\n",
       "      <th>Phoenix</th>\n",
       "      <th>Pittsburgh</th>\n",
       "      <th>Portland</th>\n",
       "      <th>San+Francisco</th>\n",
       "      <th>Seattle</th>\n",
       "      <th>is_high_salary</th>\n",
       "    </tr>\n",
       "  </thead>\n",
       "  <tbody>\n",
       "    <tr>\n",
       "      <th>0</th>\n",
       "      <td>0.0</td>\n",
       "      <td>0.0</td>\n",
       "      <td>0.0</td>\n",
       "      <td>0.0</td>\n",
       "      <td>0.0</td>\n",
       "      <td>1.0</td>\n",
       "      <td>0.0</td>\n",
       "      <td>0.0</td>\n",
       "      <td>0.0</td>\n",
       "      <td>0.0</td>\n",
       "      <td>0.0</td>\n",
       "      <td>0.0</td>\n",
       "      <td>0.0</td>\n",
       "      <td>0.0</td>\n",
       "      <td>0.0</td>\n",
       "      <td>1</td>\n",
       "    </tr>\n",
       "    <tr>\n",
       "      <th>1</th>\n",
       "      <td>0.0</td>\n",
       "      <td>0.0</td>\n",
       "      <td>0.0</td>\n",
       "      <td>0.0</td>\n",
       "      <td>0.0</td>\n",
       "      <td>1.0</td>\n",
       "      <td>0.0</td>\n",
       "      <td>0.0</td>\n",
       "      <td>0.0</td>\n",
       "      <td>0.0</td>\n",
       "      <td>0.0</td>\n",
       "      <td>0.0</td>\n",
       "      <td>0.0</td>\n",
       "      <td>0.0</td>\n",
       "      <td>0.0</td>\n",
       "      <td>0</td>\n",
       "    </tr>\n",
       "    <tr>\n",
       "      <th>2</th>\n",
       "      <td>0.0</td>\n",
       "      <td>0.0</td>\n",
       "      <td>0.0</td>\n",
       "      <td>0.0</td>\n",
       "      <td>0.0</td>\n",
       "      <td>1.0</td>\n",
       "      <td>0.0</td>\n",
       "      <td>0.0</td>\n",
       "      <td>0.0</td>\n",
       "      <td>0.0</td>\n",
       "      <td>0.0</td>\n",
       "      <td>0.0</td>\n",
       "      <td>0.0</td>\n",
       "      <td>0.0</td>\n",
       "      <td>0.0</td>\n",
       "      <td>0</td>\n",
       "    </tr>\n",
       "    <tr>\n",
       "      <th>3</th>\n",
       "      <td>0.0</td>\n",
       "      <td>0.0</td>\n",
       "      <td>0.0</td>\n",
       "      <td>0.0</td>\n",
       "      <td>0.0</td>\n",
       "      <td>1.0</td>\n",
       "      <td>0.0</td>\n",
       "      <td>0.0</td>\n",
       "      <td>0.0</td>\n",
       "      <td>0.0</td>\n",
       "      <td>0.0</td>\n",
       "      <td>0.0</td>\n",
       "      <td>0.0</td>\n",
       "      <td>0.0</td>\n",
       "      <td>0.0</td>\n",
       "      <td>1</td>\n",
       "    </tr>\n",
       "    <tr>\n",
       "      <th>4</th>\n",
       "      <td>0.0</td>\n",
       "      <td>0.0</td>\n",
       "      <td>0.0</td>\n",
       "      <td>0.0</td>\n",
       "      <td>0.0</td>\n",
       "      <td>1.0</td>\n",
       "      <td>0.0</td>\n",
       "      <td>0.0</td>\n",
       "      <td>0.0</td>\n",
       "      <td>0.0</td>\n",
       "      <td>0.0</td>\n",
       "      <td>0.0</td>\n",
       "      <td>0.0</td>\n",
       "      <td>0.0</td>\n",
       "      <td>0.0</td>\n",
       "      <td>0</td>\n",
       "    </tr>\n",
       "    <tr>\n",
       "      <th>5</th>\n",
       "      <td>0.0</td>\n",
       "      <td>0.0</td>\n",
       "      <td>0.0</td>\n",
       "      <td>0.0</td>\n",
       "      <td>0.0</td>\n",
       "      <td>1.0</td>\n",
       "      <td>0.0</td>\n",
       "      <td>0.0</td>\n",
       "      <td>0.0</td>\n",
       "      <td>0.0</td>\n",
       "      <td>0.0</td>\n",
       "      <td>0.0</td>\n",
       "      <td>0.0</td>\n",
       "      <td>0.0</td>\n",
       "      <td>0.0</td>\n",
       "      <td>0</td>\n",
       "    </tr>\n",
       "    <tr>\n",
       "      <th>6</th>\n",
       "      <td>0.0</td>\n",
       "      <td>0.0</td>\n",
       "      <td>0.0</td>\n",
       "      <td>0.0</td>\n",
       "      <td>0.0</td>\n",
       "      <td>1.0</td>\n",
       "      <td>0.0</td>\n",
       "      <td>0.0</td>\n",
       "      <td>0.0</td>\n",
       "      <td>0.0</td>\n",
       "      <td>0.0</td>\n",
       "      <td>0.0</td>\n",
       "      <td>0.0</td>\n",
       "      <td>0.0</td>\n",
       "      <td>0.0</td>\n",
       "      <td>1</td>\n",
       "    </tr>\n",
       "    <tr>\n",
       "      <th>7</th>\n",
       "      <td>0.0</td>\n",
       "      <td>0.0</td>\n",
       "      <td>0.0</td>\n",
       "      <td>0.0</td>\n",
       "      <td>0.0</td>\n",
       "      <td>1.0</td>\n",
       "      <td>0.0</td>\n",
       "      <td>0.0</td>\n",
       "      <td>0.0</td>\n",
       "      <td>0.0</td>\n",
       "      <td>0.0</td>\n",
       "      <td>0.0</td>\n",
       "      <td>0.0</td>\n",
       "      <td>0.0</td>\n",
       "      <td>0.0</td>\n",
       "      <td>1</td>\n",
       "    </tr>\n",
       "    <tr>\n",
       "      <th>8</th>\n",
       "      <td>0.0</td>\n",
       "      <td>0.0</td>\n",
       "      <td>0.0</td>\n",
       "      <td>0.0</td>\n",
       "      <td>0.0</td>\n",
       "      <td>1.0</td>\n",
       "      <td>0.0</td>\n",
       "      <td>0.0</td>\n",
       "      <td>0.0</td>\n",
       "      <td>0.0</td>\n",
       "      <td>0.0</td>\n",
       "      <td>0.0</td>\n",
       "      <td>0.0</td>\n",
       "      <td>0.0</td>\n",
       "      <td>0.0</td>\n",
       "      <td>0</td>\n",
       "    </tr>\n",
       "    <tr>\n",
       "      <th>9</th>\n",
       "      <td>0.0</td>\n",
       "      <td>0.0</td>\n",
       "      <td>0.0</td>\n",
       "      <td>0.0</td>\n",
       "      <td>0.0</td>\n",
       "      <td>1.0</td>\n",
       "      <td>0.0</td>\n",
       "      <td>0.0</td>\n",
       "      <td>0.0</td>\n",
       "      <td>0.0</td>\n",
       "      <td>0.0</td>\n",
       "      <td>0.0</td>\n",
       "      <td>0.0</td>\n",
       "      <td>0.0</td>\n",
       "      <td>0.0</td>\n",
       "      <td>1</td>\n",
       "    </tr>\n",
       "  </tbody>\n",
       "</table>\n",
       "</div>"
      ],
      "text/plain": [
       "   Atlanta  Austin  Chicago  Dallas  Denver  Houston  Los+Angeles  Miami  \\\n",
       "0      0.0     0.0      0.0     0.0     0.0      1.0          0.0    0.0   \n",
       "1      0.0     0.0      0.0     0.0     0.0      1.0          0.0    0.0   \n",
       "2      0.0     0.0      0.0     0.0     0.0      1.0          0.0    0.0   \n",
       "3      0.0     0.0      0.0     0.0     0.0      1.0          0.0    0.0   \n",
       "4      0.0     0.0      0.0     0.0     0.0      1.0          0.0    0.0   \n",
       "5      0.0     0.0      0.0     0.0     0.0      1.0          0.0    0.0   \n",
       "6      0.0     0.0      0.0     0.0     0.0      1.0          0.0    0.0   \n",
       "7      0.0     0.0      0.0     0.0     0.0      1.0          0.0    0.0   \n",
       "8      0.0     0.0      0.0     0.0     0.0      1.0          0.0    0.0   \n",
       "9      0.0     0.0      0.0     0.0     0.0      1.0          0.0    0.0   \n",
       "\n",
       "   New+York  Philadelphia  Phoenix  Pittsburgh  Portland  San+Francisco  \\\n",
       "0       0.0           0.0      0.0         0.0       0.0            0.0   \n",
       "1       0.0           0.0      0.0         0.0       0.0            0.0   \n",
       "2       0.0           0.0      0.0         0.0       0.0            0.0   \n",
       "3       0.0           0.0      0.0         0.0       0.0            0.0   \n",
       "4       0.0           0.0      0.0         0.0       0.0            0.0   \n",
       "5       0.0           0.0      0.0         0.0       0.0            0.0   \n",
       "6       0.0           0.0      0.0         0.0       0.0            0.0   \n",
       "7       0.0           0.0      0.0         0.0       0.0            0.0   \n",
       "8       0.0           0.0      0.0         0.0       0.0            0.0   \n",
       "9       0.0           0.0      0.0         0.0       0.0            0.0   \n",
       "\n",
       "   Seattle  is_high_salary  \n",
       "0      0.0               1  \n",
       "1      0.0               0  \n",
       "2      0.0               0  \n",
       "3      0.0               1  \n",
       "4      0.0               0  \n",
       "5      0.0               0  \n",
       "6      0.0               1  \n",
       "7      0.0               1  \n",
       "8      0.0               0  \n",
       "9      0.0               1  "
      ]
     },
     "execution_count": 35,
     "metadata": {},
     "output_type": "execute_result"
    }
   ],
   "source": [
    "city_dummies.head(10)"
   ]
  },
  {
   "cell_type": "code",
   "execution_count": 36,
   "metadata": {
    "collapsed": false
   },
   "outputs": [],
   "source": [
    "from statsmodels.discrete.discrete_model import Logit\n",
    "X = city_dummies.drop(['is_high_salary'], axis=1)\n",
    "y = city_dummies['is_high_salary']"
   ]
  },
  {
   "cell_type": "code",
   "execution_count": 37,
   "metadata": {
    "collapsed": false
   },
   "outputs": [
    {
     "name": "stdout",
     "output_type": "stream",
     "text": [
      "Warning: Maximum number of iterations has been exceeded.\n",
      "         Current function value: 0.536593\n",
      "         Iterations: 35\n"
     ]
    },
    {
     "name": "stderr",
     "output_type": "stream",
     "text": [
      "/home/nick/anaconda2/lib/python2.7/site-packages/statsmodels/base/model.py:466: ConvergenceWarning: Maximum Likelihood optimization failed to converge. Check mle_retvals\n",
      "  \"Check mle_retvals\", ConvergenceWarning)\n"
     ]
    }
   ],
   "source": [
    "logit = Logit(y, X)\n",
    "model_sm = logit.fit()"
   ]
  },
  {
   "cell_type": "code",
   "execution_count": 38,
   "metadata": {
    "collapsed": false
   },
   "outputs": [
    {
     "data": {
      "text/html": [
       "<table class=\"simpletable\">\n",
       "<caption>Logit Regression Results</caption>\n",
       "<tr>\n",
       "  <th>Dep. Variable:</th>  <td>is_high_salary</td>  <th>  No. Observations:  </th>  <td>   133</td>  \n",
       "</tr>\n",
       "<tr>\n",
       "  <th>Model:</th>               <td>Logit</td>      <th>  Df Residuals:      </th>  <td>   118</td>  \n",
       "</tr>\n",
       "<tr>\n",
       "  <th>Method:</th>               <td>MLE</td>       <th>  Df Model:          </th>  <td>    14</td>  \n",
       "</tr>\n",
       "<tr>\n",
       "  <th>Date:</th>          <td>Tue, 25 Oct 2016</td> <th>  Pseudo R-squ.:     </th>  <td>0.2258</td>  \n",
       "</tr>\n",
       "<tr>\n",
       "  <th>Time:</th>              <td>10:16:44</td>     <th>  Log-Likelihood:    </th> <td> -71.367</td> \n",
       "</tr>\n",
       "<tr>\n",
       "  <th>converged:</th>           <td>False</td>      <th>  LL-Null:           </th> <td> -92.185</td> \n",
       "</tr>\n",
       "<tr>\n",
       "  <th> </th>                      <td> </td>        <th>  LLR p-value:       </th> <td>0.0001412</td>\n",
       "</tr>\n",
       "</table>\n",
       "<table class=\"simpletable\">\n",
       "<tr>\n",
       "        <td></td>           <th>coef</th>     <th>std err</th>      <th>z</th>      <th>P>|z|</th> <th>[95.0% Conf. Int.]</th> \n",
       "</tr>\n",
       "<tr>\n",
       "  <th>Atlanta</th>       <td>   23.5176</td> <td> 4.83e+04</td> <td>    0.000</td> <td> 1.000</td> <td>-9.47e+04  9.47e+04</td>\n",
       "</tr>\n",
       "<tr>\n",
       "  <th>Austin</th>        <td>    0.3185</td> <td>    0.465</td> <td>    0.685</td> <td> 0.493</td> <td>   -0.592     1.229</td>\n",
       "</tr>\n",
       "<tr>\n",
       "  <th>Chicago</th>       <td>   32.7657</td> <td> 5.78e+06</td> <td> 5.67e-06</td> <td> 1.000</td> <td>-1.13e+07  1.13e+07</td>\n",
       "</tr>\n",
       "<tr>\n",
       "  <th>Dallas</th>        <td>    1.2528</td> <td>    0.802</td> <td>    1.562</td> <td> 0.118</td> <td>   -0.319     2.824</td>\n",
       "</tr>\n",
       "<tr>\n",
       "  <th>Denver</th>        <td>   -0.1823</td> <td>    0.606</td> <td>   -0.301</td> <td> 0.763</td> <td>   -1.369     1.004</td>\n",
       "</tr>\n",
       "<tr>\n",
       "  <th>Houston</th>       <td>    0.1542</td> <td>    0.556</td> <td>    0.277</td> <td> 0.782</td> <td>   -0.936     1.245</td>\n",
       "</tr>\n",
       "<tr>\n",
       "  <th>Los+Angeles</th>   <td>   -0.6931</td> <td>    0.866</td> <td>   -0.800</td> <td> 0.423</td> <td>   -2.391     1.004</td>\n",
       "</tr>\n",
       "<tr>\n",
       "  <th>Miami</th>         <td>   -0.7885</td> <td>    0.539</td> <td>   -1.462</td> <td> 0.144</td> <td>   -1.846     0.269</td>\n",
       "</tr>\n",
       "<tr>\n",
       "  <th>New+York</th>      <td>   23.6942</td> <td> 9.88e+04</td> <td>    0.000</td> <td> 1.000</td> <td>-1.94e+05  1.94e+05</td>\n",
       "</tr>\n",
       "<tr>\n",
       "  <th>Philadelphia</th>  <td>    1.7918</td> <td>    1.080</td> <td>    1.659</td> <td> 0.097</td> <td>   -0.325     3.909</td>\n",
       "</tr>\n",
       "<tr>\n",
       "  <th>Phoenix</th>       <td>   -1.3218</td> <td>    0.563</td> <td>   -2.349</td> <td> 0.019</td> <td>   -2.425    -0.219</td>\n",
       "</tr>\n",
       "<tr>\n",
       "  <th>Pittsburgh</th>    <td>   -1.6094</td> <td>    1.095</td> <td>   -1.469</td> <td> 0.142</td> <td>   -3.756     0.538</td>\n",
       "</tr>\n",
       "<tr>\n",
       "  <th>Portland</th>      <td>   -0.9163</td> <td>    0.837</td> <td>   -1.095</td> <td> 0.273</td> <td>   -2.556     0.724</td>\n",
       "</tr>\n",
       "<tr>\n",
       "  <th>San+Francisco</th> <td>   -0.6931</td> <td>    1.225</td> <td>   -0.566</td> <td> 0.571</td> <td>   -3.094     1.707</td>\n",
       "</tr>\n",
       "<tr>\n",
       "  <th>Seattle</th>       <td>    0.6931</td> <td>    1.225</td> <td>    0.566</td> <td> 0.571</td> <td>   -1.707     3.094</td>\n",
       "</tr>\n",
       "</table>"
      ],
      "text/plain": [
       "<class 'statsmodels.iolib.summary.Summary'>\n",
       "\"\"\"\n",
       "                           Logit Regression Results                           \n",
       "==============================================================================\n",
       "Dep. Variable:         is_high_salary   No. Observations:                  133\n",
       "Model:                          Logit   Df Residuals:                      118\n",
       "Method:                           MLE   Df Model:                           14\n",
       "Date:                Tue, 25 Oct 2016   Pseudo R-squ.:                  0.2258\n",
       "Time:                        10:16:44   Log-Likelihood:                -71.367\n",
       "converged:                      False   LL-Null:                       -92.185\n",
       "                                        LLR p-value:                 0.0001412\n",
       "=================================================================================\n",
       "                    coef    std err          z      P>|z|      [95.0% Conf. Int.]\n",
       "---------------------------------------------------------------------------------\n",
       "Atlanta          23.5176   4.83e+04      0.000      1.000     -9.47e+04  9.47e+04\n",
       "Austin            0.3185      0.465      0.685      0.493        -0.592     1.229\n",
       "Chicago          32.7657   5.78e+06   5.67e-06      1.000     -1.13e+07  1.13e+07\n",
       "Dallas            1.2528      0.802      1.562      0.118        -0.319     2.824\n",
       "Denver           -0.1823      0.606     -0.301      0.763        -1.369     1.004\n",
       "Houston           0.1542      0.556      0.277      0.782        -0.936     1.245\n",
       "Los+Angeles      -0.6931      0.866     -0.800      0.423        -2.391     1.004\n",
       "Miami            -0.7885      0.539     -1.462      0.144        -1.846     0.269\n",
       "New+York         23.6942   9.88e+04      0.000      1.000     -1.94e+05  1.94e+05\n",
       "Philadelphia      1.7918      1.080      1.659      0.097        -0.325     3.909\n",
       "Phoenix          -1.3218      0.563     -2.349      0.019        -2.425    -0.219\n",
       "Pittsburgh       -1.6094      1.095     -1.469      0.142        -3.756     0.538\n",
       "Portland         -0.9163      0.837     -1.095      0.273        -2.556     0.724\n",
       "San+Francisco    -0.6931      1.225     -0.566      0.571        -3.094     1.707\n",
       "Seattle           0.6931      1.225      0.566      0.571        -1.707     3.094\n",
       "=================================================================================\n",
       "\"\"\""
      ]
     },
     "execution_count": 38,
     "metadata": {},
     "output_type": "execute_result"
    }
   ],
   "source": [
    "model_sm.summary()"
   ]
  },
  {
   "cell_type": "markdown",
   "metadata": {},
   "source": [
    "The coefficients in a logistic regression model represent how much each variable effects the model."
   ]
  },
  {
   "cell_type": "markdown",
   "metadata": {
    "focus": false,
    "id": "0ef04f32-419c-4bf2-baf7-48201f03df89"
   },
   "source": [
    "#### Create a few new variables in your dataframe to represent interesting features of a job title.\n",
    "- For example, create a feature that represents whether 'Senior' is in the title \n",
    "- or whether 'Manager' is in the title. \n",
    "- Then build a new Logistic Regression model with these features. Do they add any value? \n"
   ]
  },
  {
   "cell_type": "code",
   "execution_count": 39,
   "metadata": {
    "collapsed": false,
    "focus": false,
    "id": "068dc1cf-7fd7-4f27-a1f1-7f0a5a221d29"
   },
   "outputs": [
    {
     "name": "stdout",
     "output_type": "stream",
     "text": [
      "False    117\n",
      "True      16\n",
      "Name: senior, dtype: int64\n",
      "False    129\n",
      "True       4\n",
      "Name: manager, dtype: int64\n",
      "False    86\n",
      "True     47\n",
      "Name: scientist, dtype: int64\n",
      "False    99\n",
      "True     34\n",
      "Name: analyst, dtype: int64\n"
     ]
    }
   ],
   "source": [
    "# Create a few variables based on words in the title\n",
    "has_salary['senior'] = has_salary['Title'].str.lower().str.contains('senior')\n",
    "print has_salary['senior'].value_counts()\n",
    "has_salary['manager'] = has_salary['Title'].str.lower().str.contains('manager')\n",
    "print has_salary['manager'].value_counts()\n",
    "has_salary['scientist'] = has_salary['Title'].str.lower().str.contains('scientist')\n",
    "print has_salary['scientist'].value_counts()\n",
    "has_salary['analyst'] = has_salary['Title'].str.lower().str.contains('analyst')\n",
    "print has_salary['analyst'].value_counts()"
   ]
  },
  {
   "cell_type": "code",
   "execution_count": 40,
   "metadata": {
    "collapsed": true
   },
   "outputs": [],
   "source": [
    "# Add these variables to the dummies for location\n",
    "city_dummies['senior'] = has_salary['senior']\n",
    "city_dummies['manager'] = has_salary['manager']\n",
    "city_dummies['scientist'] = has_salary['scientist']\n",
    "city_dummies['analyst'] = has_salary['analyst']"
   ]
  },
  {
   "cell_type": "markdown",
   "metadata": {
    "focus": false,
    "id": "9c9274ef-c9f5-4d56-b286-ecc8709eff9f"
   },
   "source": [
    "#### Rebuild this model with scikit-learn.\n",
    "- You can either create the dummy features manually or use the `dmatrix` function from `patsy`\n",
    "- Remember to scale the feature variables as well!\n"
   ]
  },
  {
   "cell_type": "code",
   "execution_count": 41,
   "metadata": {
    "collapsed": false,
    "focus": false,
    "id": "b76f65cd-cd3a-4e91-af55-12880be7b057"
   },
   "outputs": [
    {
     "name": "stdout",
     "output_type": "stream",
     "text": [
      "0.766917293233\n"
     ]
    }
   ],
   "source": [
    "# Build a model using sklearn's LogisticRegression()\n",
    "from sklearn.linear_model import LogisticRegression\n",
    "\n",
    "X = city_dummies.drop(['is_high_salary'], axis=1) # Include all location and word dummy variables, drop is_high_salary\n",
    "y = city_dummies['is_high_salary']\n",
    "\n",
    "logit = LogisticRegression()\n",
    "model = logit.fit(X, y)\n",
    "predictions = model.predict(X)\n",
    "\n",
    "print model.score(X, y)"
   ]
  },
  {
   "cell_type": "code",
   "execution_count": 42,
   "metadata": {
    "collapsed": false
   },
   "outputs": [
    {
     "data": {
      "text/html": [
       "<div>\n",
       "<table border=\"1\" class=\"dataframe\">\n",
       "  <thead>\n",
       "    <tr style=\"text-align: right;\">\n",
       "      <th></th>\n",
       "      <th>Atlanta</th>\n",
       "      <th>Austin</th>\n",
       "      <th>Chicago</th>\n",
       "      <th>Dallas</th>\n",
       "      <th>Denver</th>\n",
       "      <th>Houston</th>\n",
       "      <th>Los+Angeles</th>\n",
       "      <th>Miami</th>\n",
       "      <th>New+York</th>\n",
       "      <th>Philadelphia</th>\n",
       "      <th>Phoenix</th>\n",
       "      <th>Pittsburgh</th>\n",
       "      <th>Portland</th>\n",
       "      <th>San+Francisco</th>\n",
       "      <th>Seattle</th>\n",
       "      <th>is_high_salary</th>\n",
       "      <th>senior</th>\n",
       "      <th>manager</th>\n",
       "      <th>scientist</th>\n",
       "      <th>analyst</th>\n",
       "    </tr>\n",
       "  </thead>\n",
       "  <tbody>\n",
       "    <tr>\n",
       "      <th>Atlanta</th>\n",
       "      <td>1.000000</td>\n",
       "      <td>-0.096225</td>\n",
       "      <td>-0.046585</td>\n",
       "      <td>-0.063500</td>\n",
       "      <td>-0.070775</td>\n",
       "      <td>-0.077579</td>\n",
       "      <td>-0.051232</td>\n",
       "      <td>-0.087163</td>\n",
       "      <td>-0.029123</td>\n",
       "      <td>-0.055556</td>\n",
       "      <td>-0.096225</td>\n",
       "      <td>-0.051232</td>\n",
       "      <td>-0.055556</td>\n",
       "      <td>-0.035806</td>\n",
       "      <td>-0.035806</td>\n",
       "      <td>0.233937</td>\n",
       "      <td>0.016343</td>\n",
       "      <td>-0.041505</td>\n",
       "      <td>0.177954</td>\n",
       "      <td>-0.060939</td>\n",
       "    </tr>\n",
       "    <tr>\n",
       "      <th>Austin</th>\n",
       "      <td>-0.096225</td>\n",
       "      <td>1.000000</td>\n",
       "      <td>-0.080687</td>\n",
       "      <td>-0.109985</td>\n",
       "      <td>-0.122586</td>\n",
       "      <td>-0.134371</td>\n",
       "      <td>-0.088736</td>\n",
       "      <td>-0.150970</td>\n",
       "      <td>-0.050443</td>\n",
       "      <td>-0.096225</td>\n",
       "      <td>-0.166667</td>\n",
       "      <td>-0.088736</td>\n",
       "      <td>-0.096225</td>\n",
       "      <td>-0.062017</td>\n",
       "      <td>-0.062017</td>\n",
       "      <td>0.061392</td>\n",
       "      <td>0.113228</td>\n",
       "      <td>-0.071889</td>\n",
       "      <td>0.237590</td>\n",
       "      <td>-0.042220</td>\n",
       "    </tr>\n",
       "    <tr>\n",
       "      <th>Chicago</th>\n",
       "      <td>-0.046585</td>\n",
       "      <td>-0.080687</td>\n",
       "      <td>1.000000</td>\n",
       "      <td>-0.053246</td>\n",
       "      <td>-0.059347</td>\n",
       "      <td>-0.065052</td>\n",
       "      <td>-0.042959</td>\n",
       "      <td>-0.073088</td>\n",
       "      <td>-0.024421</td>\n",
       "      <td>-0.046585</td>\n",
       "      <td>-0.080687</td>\n",
       "      <td>-0.042959</td>\n",
       "      <td>-0.046585</td>\n",
       "      <td>-0.030024</td>\n",
       "      <td>-0.030024</td>\n",
       "      <td>0.196162</td>\n",
       "      <td>-0.073088</td>\n",
       "      <td>-0.034803</td>\n",
       "      <td>0.101966</td>\n",
       "      <td>-0.025209</td>\n",
       "    </tr>\n",
       "    <tr>\n",
       "      <th>Dallas</th>\n",
       "      <td>-0.063500</td>\n",
       "      <td>-0.109985</td>\n",
       "      <td>-0.053246</td>\n",
       "      <td>1.000000</td>\n",
       "      <td>-0.080896</td>\n",
       "      <td>-0.088673</td>\n",
       "      <td>-0.058558</td>\n",
       "      <td>-0.099627</td>\n",
       "      <td>-0.033288</td>\n",
       "      <td>-0.063500</td>\n",
       "      <td>-0.109985</td>\n",
       "      <td>-0.058558</td>\n",
       "      <td>-0.063500</td>\n",
       "      <td>-0.040926</td>\n",
       "      <td>-0.040926</td>\n",
       "      <td>0.147650</td>\n",
       "      <td>-0.099627</td>\n",
       "      <td>-0.047440</td>\n",
       "      <td>0.051321</td>\n",
       "      <td>-0.020638</td>\n",
       "    </tr>\n",
       "    <tr>\n",
       "      <th>Denver</th>\n",
       "      <td>-0.070775</td>\n",
       "      <td>-0.122586</td>\n",
       "      <td>-0.059347</td>\n",
       "      <td>-0.080896</td>\n",
       "      <td>1.000000</td>\n",
       "      <td>-0.098832</td>\n",
       "      <td>-0.065266</td>\n",
       "      <td>-0.111041</td>\n",
       "      <td>-0.037102</td>\n",
       "      <td>-0.070775</td>\n",
       "      <td>-0.122586</td>\n",
       "      <td>-0.065266</td>\n",
       "      <td>-0.070775</td>\n",
       "      <td>-0.045615</td>\n",
       "      <td>-0.045615</td>\n",
       "      <td>-0.029556</td>\n",
       "      <td>0.056782</td>\n",
       "      <td>-0.052875</td>\n",
       "      <td>-0.107770</td>\n",
       "      <td>0.074340</td>\n",
       "    </tr>\n",
       "    <tr>\n",
       "      <th>Houston</th>\n",
       "      <td>-0.077579</td>\n",
       "      <td>-0.134371</td>\n",
       "      <td>-0.065052</td>\n",
       "      <td>-0.088673</td>\n",
       "      <td>-0.098832</td>\n",
       "      <td>1.000000</td>\n",
       "      <td>-0.071541</td>\n",
       "      <td>-0.121716</td>\n",
       "      <td>-0.040669</td>\n",
       "      <td>-0.077579</td>\n",
       "      <td>-0.134371</td>\n",
       "      <td>-0.071541</td>\n",
       "      <td>-0.077579</td>\n",
       "      <td>-0.050000</td>\n",
       "      <td>-0.050000</td>\n",
       "      <td>0.022844</td>\n",
       "      <td>0.033940</td>\n",
       "      <td>-0.057958</td>\n",
       "      <td>-0.084426</td>\n",
       "      <td>0.155357</td>\n",
       "    </tr>\n",
       "    <tr>\n",
       "      <th>Los+Angeles</th>\n",
       "      <td>-0.051232</td>\n",
       "      <td>-0.088736</td>\n",
       "      <td>-0.042959</td>\n",
       "      <td>-0.058558</td>\n",
       "      <td>-0.065266</td>\n",
       "      <td>-0.071541</td>\n",
       "      <td>1.000000</td>\n",
       "      <td>-0.080379</td>\n",
       "      <td>-0.026857</td>\n",
       "      <td>-0.051232</td>\n",
       "      <td>-0.088736</td>\n",
       "      <td>-0.047244</td>\n",
       "      <td>-0.051232</td>\n",
       "      <td>-0.033019</td>\n",
       "      <td>-0.033019</td>\n",
       "      <td>-0.074089</td>\n",
       "      <td>0.142337</td>\n",
       "      <td>-0.038274</td>\n",
       "      <td>-0.009117</td>\n",
       "      <td>0.038713</td>\n",
       "    </tr>\n",
       "    <tr>\n",
       "      <th>Miami</th>\n",
       "      <td>-0.087163</td>\n",
       "      <td>-0.150970</td>\n",
       "      <td>-0.073088</td>\n",
       "      <td>-0.099627</td>\n",
       "      <td>-0.111041</td>\n",
       "      <td>-0.121716</td>\n",
       "      <td>-0.080379</td>\n",
       "      <td>1.000000</td>\n",
       "      <td>-0.045693</td>\n",
       "      <td>-0.087163</td>\n",
       "      <td>-0.150970</td>\n",
       "      <td>-0.080379</td>\n",
       "      <td>-0.087163</td>\n",
       "      <td>-0.056177</td>\n",
       "      <td>-0.056177</td>\n",
       "      <td>-0.141459</td>\n",
       "      <td>-0.136752</td>\n",
       "      <td>-0.065118</td>\n",
       "      <td>-0.128329</td>\n",
       "      <td>0.101187</td>\n",
       "    </tr>\n",
       "    <tr>\n",
       "      <th>New+York</th>\n",
       "      <td>-0.029123</td>\n",
       "      <td>-0.050443</td>\n",
       "      <td>-0.024421</td>\n",
       "      <td>-0.033288</td>\n",
       "      <td>-0.037102</td>\n",
       "      <td>-0.040669</td>\n",
       "      <td>-0.026857</td>\n",
       "      <td>-0.045693</td>\n",
       "      <td>1.000000</td>\n",
       "      <td>-0.029123</td>\n",
       "      <td>-0.050443</td>\n",
       "      <td>-0.026857</td>\n",
       "      <td>-0.029123</td>\n",
       "      <td>-0.018770</td>\n",
       "      <td>-0.018770</td>\n",
       "      <td>0.122635</td>\n",
       "      <td>-0.045693</td>\n",
       "      <td>-0.021758</td>\n",
       "      <td>0.167140</td>\n",
       "      <td>-0.072410</td>\n",
       "    </tr>\n",
       "    <tr>\n",
       "      <th>Philadelphia</th>\n",
       "      <td>-0.055556</td>\n",
       "      <td>-0.096225</td>\n",
       "      <td>-0.046585</td>\n",
       "      <td>-0.063500</td>\n",
       "      <td>-0.070775</td>\n",
       "      <td>-0.077579</td>\n",
       "      <td>-0.051232</td>\n",
       "      <td>-0.087163</td>\n",
       "      <td>-0.029123</td>\n",
       "      <td>1.000000</td>\n",
       "      <td>-0.096225</td>\n",
       "      <td>-0.051232</td>\n",
       "      <td>-0.055556</td>\n",
       "      <td>-0.035806</td>\n",
       "      <td>-0.035806</td>\n",
       "      <td>0.166591</td>\n",
       "      <td>0.119849</td>\n",
       "      <td>0.155643</td>\n",
       "      <td>0.107514</td>\n",
       "      <td>-0.060939</td>\n",
       "    </tr>\n",
       "    <tr>\n",
       "      <th>Phoenix</th>\n",
       "      <td>-0.096225</td>\n",
       "      <td>-0.166667</td>\n",
       "      <td>-0.080687</td>\n",
       "      <td>-0.109985</td>\n",
       "      <td>-0.122586</td>\n",
       "      <td>-0.134371</td>\n",
       "      <td>-0.088736</td>\n",
       "      <td>-0.150970</td>\n",
       "      <td>-0.050443</td>\n",
       "      <td>-0.096225</td>\n",
       "      <td>1.000000</td>\n",
       "      <td>-0.088736</td>\n",
       "      <td>-0.096225</td>\n",
       "      <td>-0.062017</td>\n",
       "      <td>-0.062017</td>\n",
       "      <td>-0.239431</td>\n",
       "      <td>-0.018871</td>\n",
       "      <td>0.305526</td>\n",
       "      <td>-0.166955</td>\n",
       "      <td>0.007037</td>\n",
       "    </tr>\n",
       "    <tr>\n",
       "      <th>Pittsburgh</th>\n",
       "      <td>-0.051232</td>\n",
       "      <td>-0.088736</td>\n",
       "      <td>-0.042959</td>\n",
       "      <td>-0.058558</td>\n",
       "      <td>-0.065266</td>\n",
       "      <td>-0.071541</td>\n",
       "      <td>-0.047244</td>\n",
       "      <td>-0.080379</td>\n",
       "      <td>-0.026857</td>\n",
       "      <td>-0.051232</td>\n",
       "      <td>-0.088736</td>\n",
       "      <td>1.000000</td>\n",
       "      <td>-0.051232</td>\n",
       "      <td>-0.033019</td>\n",
       "      <td>-0.033019</td>\n",
       "      <td>-0.146543</td>\n",
       "      <td>0.030979</td>\n",
       "      <td>-0.038274</td>\n",
       "      <td>-0.160684</td>\n",
       "      <td>-0.127378</td>\n",
       "    </tr>\n",
       "    <tr>\n",
       "      <th>Portland</th>\n",
       "      <td>-0.055556</td>\n",
       "      <td>-0.096225</td>\n",
       "      <td>-0.046585</td>\n",
       "      <td>-0.063500</td>\n",
       "      <td>-0.070775</td>\n",
       "      <td>-0.077579</td>\n",
       "      <td>-0.051232</td>\n",
       "      <td>-0.087163</td>\n",
       "      <td>-0.029123</td>\n",
       "      <td>-0.055556</td>\n",
       "      <td>-0.096225</td>\n",
       "      <td>-0.051232</td>\n",
       "      <td>1.000000</td>\n",
       "      <td>-0.035806</td>\n",
       "      <td>-0.035806</td>\n",
       "      <td>-0.102790</td>\n",
       "      <td>-0.087163</td>\n",
       "      <td>-0.041505</td>\n",
       "      <td>-0.033366</td>\n",
       "      <td>0.016250</td>\n",
       "    </tr>\n",
       "    <tr>\n",
       "      <th>San+Francisco</th>\n",
       "      <td>-0.035806</td>\n",
       "      <td>-0.062017</td>\n",
       "      <td>-0.030024</td>\n",
       "      <td>-0.040926</td>\n",
       "      <td>-0.045615</td>\n",
       "      <td>-0.050000</td>\n",
       "      <td>-0.033019</td>\n",
       "      <td>-0.056177</td>\n",
       "      <td>-0.018770</td>\n",
       "      <td>-0.035806</td>\n",
       "      <td>-0.062017</td>\n",
       "      <td>-0.033019</td>\n",
       "      <td>-0.035806</td>\n",
       "      <td>1.000000</td>\n",
       "      <td>-0.023077</td>\n",
       "      <td>-0.051781</td>\n",
       "      <td>-0.056177</td>\n",
       "      <td>-0.026750</td>\n",
       "      <td>-0.006372</td>\n",
       "      <td>-0.089025</td>\n",
       "    </tr>\n",
       "    <tr>\n",
       "      <th>Seattle</th>\n",
       "      <td>-0.035806</td>\n",
       "      <td>-0.062017</td>\n",
       "      <td>-0.030024</td>\n",
       "      <td>-0.040926</td>\n",
       "      <td>-0.045615</td>\n",
       "      <td>-0.050000</td>\n",
       "      <td>-0.033019</td>\n",
       "      <td>-0.056177</td>\n",
       "      <td>-0.018770</td>\n",
       "      <td>-0.035806</td>\n",
       "      <td>-0.062017</td>\n",
       "      <td>-0.033019</td>\n",
       "      <td>-0.035806</td>\n",
       "      <td>-0.023077</td>\n",
       "      <td>1.000000</td>\n",
       "      <td>0.049496</td>\n",
       "      <td>-0.056177</td>\n",
       "      <td>-0.026750</td>\n",
       "      <td>-0.006372</td>\n",
       "      <td>-0.089025</td>\n",
       "    </tr>\n",
       "    <tr>\n",
       "      <th>is_high_salary</th>\n",
       "      <td>0.233937</td>\n",
       "      <td>0.061392</td>\n",
       "      <td>0.196162</td>\n",
       "      <td>0.147650</td>\n",
       "      <td>-0.029556</td>\n",
       "      <td>0.022844</td>\n",
       "      <td>-0.074089</td>\n",
       "      <td>-0.141459</td>\n",
       "      <td>0.122635</td>\n",
       "      <td>0.166591</td>\n",
       "      <td>-0.239431</td>\n",
       "      <td>-0.146543</td>\n",
       "      <td>-0.102790</td>\n",
       "      <td>-0.051781</td>\n",
       "      <td>0.049496</td>\n",
       "      <td>1.000000</td>\n",
       "      <td>0.182125</td>\n",
       "      <td>-0.001324</td>\n",
       "      <td>0.230384</td>\n",
       "      <td>-0.107827</td>\n",
       "    </tr>\n",
       "    <tr>\n",
       "      <th>senior</th>\n",
       "      <td>0.016343</td>\n",
       "      <td>0.113228</td>\n",
       "      <td>-0.073088</td>\n",
       "      <td>-0.099627</td>\n",
       "      <td>0.056782</td>\n",
       "      <td>0.033940</td>\n",
       "      <td>0.142337</td>\n",
       "      <td>-0.136752</td>\n",
       "      <td>-0.045693</td>\n",
       "      <td>0.119849</td>\n",
       "      <td>-0.018871</td>\n",
       "      <td>0.030979</td>\n",
       "      <td>-0.087163</td>\n",
       "      <td>-0.056177</td>\n",
       "      <td>-0.056177</td>\n",
       "      <td>0.182125</td>\n",
       "      <td>1.000000</td>\n",
       "      <td>-0.065118</td>\n",
       "      <td>-0.031628</td>\n",
       "      <td>0.101187</td>\n",
       "    </tr>\n",
       "    <tr>\n",
       "      <th>manager</th>\n",
       "      <td>-0.041505</td>\n",
       "      <td>-0.071889</td>\n",
       "      <td>-0.034803</td>\n",
       "      <td>-0.047440</td>\n",
       "      <td>-0.052875</td>\n",
       "      <td>-0.057958</td>\n",
       "      <td>-0.038274</td>\n",
       "      <td>-0.065118</td>\n",
       "      <td>-0.021758</td>\n",
       "      <td>0.155643</td>\n",
       "      <td>0.305526</td>\n",
       "      <td>-0.038274</td>\n",
       "      <td>-0.041505</td>\n",
       "      <td>-0.026750</td>\n",
       "      <td>-0.026750</td>\n",
       "      <td>-0.001324</td>\n",
       "      <td>-0.065118</td>\n",
       "      <td>1.000000</td>\n",
       "      <td>-0.130177</td>\n",
       "      <td>-0.002276</td>\n",
       "    </tr>\n",
       "    <tr>\n",
       "      <th>scientist</th>\n",
       "      <td>0.177954</td>\n",
       "      <td>0.237590</td>\n",
       "      <td>0.101966</td>\n",
       "      <td>0.051321</td>\n",
       "      <td>-0.107770</td>\n",
       "      <td>-0.084426</td>\n",
       "      <td>-0.009117</td>\n",
       "      <td>-0.128329</td>\n",
       "      <td>0.167140</td>\n",
       "      <td>0.107514</td>\n",
       "      <td>-0.166955</td>\n",
       "      <td>-0.160684</td>\n",
       "      <td>-0.033366</td>\n",
       "      <td>-0.006372</td>\n",
       "      <td>-0.006372</td>\n",
       "      <td>0.230384</td>\n",
       "      <td>-0.031628</td>\n",
       "      <td>-0.130177</td>\n",
       "      <td>1.000000</td>\n",
       "      <td>-0.361118</td>\n",
       "    </tr>\n",
       "    <tr>\n",
       "      <th>analyst</th>\n",
       "      <td>-0.060939</td>\n",
       "      <td>-0.042220</td>\n",
       "      <td>-0.025209</td>\n",
       "      <td>-0.020638</td>\n",
       "      <td>0.074340</td>\n",
       "      <td>0.155357</td>\n",
       "      <td>0.038713</td>\n",
       "      <td>0.101187</td>\n",
       "      <td>-0.072410</td>\n",
       "      <td>-0.060939</td>\n",
       "      <td>0.007037</td>\n",
       "      <td>-0.127378</td>\n",
       "      <td>0.016250</td>\n",
       "      <td>-0.089025</td>\n",
       "      <td>-0.089025</td>\n",
       "      <td>-0.107827</td>\n",
       "      <td>0.101187</td>\n",
       "      <td>-0.002276</td>\n",
       "      <td>-0.361118</td>\n",
       "      <td>1.000000</td>\n",
       "    </tr>\n",
       "  </tbody>\n",
       "</table>\n",
       "</div>"
      ],
      "text/plain": [
       "                 Atlanta    Austin   Chicago    Dallas    Denver   Houston  \\\n",
       "Atlanta         1.000000 -0.096225 -0.046585 -0.063500 -0.070775 -0.077579   \n",
       "Austin         -0.096225  1.000000 -0.080687 -0.109985 -0.122586 -0.134371   \n",
       "Chicago        -0.046585 -0.080687  1.000000 -0.053246 -0.059347 -0.065052   \n",
       "Dallas         -0.063500 -0.109985 -0.053246  1.000000 -0.080896 -0.088673   \n",
       "Denver         -0.070775 -0.122586 -0.059347 -0.080896  1.000000 -0.098832   \n",
       "Houston        -0.077579 -0.134371 -0.065052 -0.088673 -0.098832  1.000000   \n",
       "Los+Angeles    -0.051232 -0.088736 -0.042959 -0.058558 -0.065266 -0.071541   \n",
       "Miami          -0.087163 -0.150970 -0.073088 -0.099627 -0.111041 -0.121716   \n",
       "New+York       -0.029123 -0.050443 -0.024421 -0.033288 -0.037102 -0.040669   \n",
       "Philadelphia   -0.055556 -0.096225 -0.046585 -0.063500 -0.070775 -0.077579   \n",
       "Phoenix        -0.096225 -0.166667 -0.080687 -0.109985 -0.122586 -0.134371   \n",
       "Pittsburgh     -0.051232 -0.088736 -0.042959 -0.058558 -0.065266 -0.071541   \n",
       "Portland       -0.055556 -0.096225 -0.046585 -0.063500 -0.070775 -0.077579   \n",
       "San+Francisco  -0.035806 -0.062017 -0.030024 -0.040926 -0.045615 -0.050000   \n",
       "Seattle        -0.035806 -0.062017 -0.030024 -0.040926 -0.045615 -0.050000   \n",
       "is_high_salary  0.233937  0.061392  0.196162  0.147650 -0.029556  0.022844   \n",
       "senior          0.016343  0.113228 -0.073088 -0.099627  0.056782  0.033940   \n",
       "manager        -0.041505 -0.071889 -0.034803 -0.047440 -0.052875 -0.057958   \n",
       "scientist       0.177954  0.237590  0.101966  0.051321 -0.107770 -0.084426   \n",
       "analyst        -0.060939 -0.042220 -0.025209 -0.020638  0.074340  0.155357   \n",
       "\n",
       "                Los+Angeles     Miami  New+York  Philadelphia   Phoenix  \\\n",
       "Atlanta           -0.051232 -0.087163 -0.029123     -0.055556 -0.096225   \n",
       "Austin            -0.088736 -0.150970 -0.050443     -0.096225 -0.166667   \n",
       "Chicago           -0.042959 -0.073088 -0.024421     -0.046585 -0.080687   \n",
       "Dallas            -0.058558 -0.099627 -0.033288     -0.063500 -0.109985   \n",
       "Denver            -0.065266 -0.111041 -0.037102     -0.070775 -0.122586   \n",
       "Houston           -0.071541 -0.121716 -0.040669     -0.077579 -0.134371   \n",
       "Los+Angeles        1.000000 -0.080379 -0.026857     -0.051232 -0.088736   \n",
       "Miami             -0.080379  1.000000 -0.045693     -0.087163 -0.150970   \n",
       "New+York          -0.026857 -0.045693  1.000000     -0.029123 -0.050443   \n",
       "Philadelphia      -0.051232 -0.087163 -0.029123      1.000000 -0.096225   \n",
       "Phoenix           -0.088736 -0.150970 -0.050443     -0.096225  1.000000   \n",
       "Pittsburgh        -0.047244 -0.080379 -0.026857     -0.051232 -0.088736   \n",
       "Portland          -0.051232 -0.087163 -0.029123     -0.055556 -0.096225   \n",
       "San+Francisco     -0.033019 -0.056177 -0.018770     -0.035806 -0.062017   \n",
       "Seattle           -0.033019 -0.056177 -0.018770     -0.035806 -0.062017   \n",
       "is_high_salary    -0.074089 -0.141459  0.122635      0.166591 -0.239431   \n",
       "senior             0.142337 -0.136752 -0.045693      0.119849 -0.018871   \n",
       "manager           -0.038274 -0.065118 -0.021758      0.155643  0.305526   \n",
       "scientist         -0.009117 -0.128329  0.167140      0.107514 -0.166955   \n",
       "analyst            0.038713  0.101187 -0.072410     -0.060939  0.007037   \n",
       "\n",
       "                Pittsburgh  Portland  San+Francisco   Seattle  is_high_salary  \\\n",
       "Atlanta          -0.051232 -0.055556      -0.035806 -0.035806        0.233937   \n",
       "Austin           -0.088736 -0.096225      -0.062017 -0.062017        0.061392   \n",
       "Chicago          -0.042959 -0.046585      -0.030024 -0.030024        0.196162   \n",
       "Dallas           -0.058558 -0.063500      -0.040926 -0.040926        0.147650   \n",
       "Denver           -0.065266 -0.070775      -0.045615 -0.045615       -0.029556   \n",
       "Houston          -0.071541 -0.077579      -0.050000 -0.050000        0.022844   \n",
       "Los+Angeles      -0.047244 -0.051232      -0.033019 -0.033019       -0.074089   \n",
       "Miami            -0.080379 -0.087163      -0.056177 -0.056177       -0.141459   \n",
       "New+York         -0.026857 -0.029123      -0.018770 -0.018770        0.122635   \n",
       "Philadelphia     -0.051232 -0.055556      -0.035806 -0.035806        0.166591   \n",
       "Phoenix          -0.088736 -0.096225      -0.062017 -0.062017       -0.239431   \n",
       "Pittsburgh        1.000000 -0.051232      -0.033019 -0.033019       -0.146543   \n",
       "Portland         -0.051232  1.000000      -0.035806 -0.035806       -0.102790   \n",
       "San+Francisco    -0.033019 -0.035806       1.000000 -0.023077       -0.051781   \n",
       "Seattle          -0.033019 -0.035806      -0.023077  1.000000        0.049496   \n",
       "is_high_salary   -0.146543 -0.102790      -0.051781  0.049496        1.000000   \n",
       "senior            0.030979 -0.087163      -0.056177 -0.056177        0.182125   \n",
       "manager          -0.038274 -0.041505      -0.026750 -0.026750       -0.001324   \n",
       "scientist        -0.160684 -0.033366      -0.006372 -0.006372        0.230384   \n",
       "analyst          -0.127378  0.016250      -0.089025 -0.089025       -0.107827   \n",
       "\n",
       "                  senior   manager  scientist   analyst  \n",
       "Atlanta         0.016343 -0.041505   0.177954 -0.060939  \n",
       "Austin          0.113228 -0.071889   0.237590 -0.042220  \n",
       "Chicago        -0.073088 -0.034803   0.101966 -0.025209  \n",
       "Dallas         -0.099627 -0.047440   0.051321 -0.020638  \n",
       "Denver          0.056782 -0.052875  -0.107770  0.074340  \n",
       "Houston         0.033940 -0.057958  -0.084426  0.155357  \n",
       "Los+Angeles     0.142337 -0.038274  -0.009117  0.038713  \n",
       "Miami          -0.136752 -0.065118  -0.128329  0.101187  \n",
       "New+York       -0.045693 -0.021758   0.167140 -0.072410  \n",
       "Philadelphia    0.119849  0.155643   0.107514 -0.060939  \n",
       "Phoenix        -0.018871  0.305526  -0.166955  0.007037  \n",
       "Pittsburgh      0.030979 -0.038274  -0.160684 -0.127378  \n",
       "Portland       -0.087163 -0.041505  -0.033366  0.016250  \n",
       "San+Francisco  -0.056177 -0.026750  -0.006372 -0.089025  \n",
       "Seattle        -0.056177 -0.026750  -0.006372 -0.089025  \n",
       "is_high_salary  0.182125 -0.001324   0.230384 -0.107827  \n",
       "senior          1.000000 -0.065118  -0.031628  0.101187  \n",
       "manager        -0.065118  1.000000  -0.130177 -0.002276  \n",
       "scientist      -0.031628 -0.130177   1.000000 -0.361118  \n",
       "analyst         0.101187 -0.002276  -0.361118  1.000000  "
      ]
     },
     "execution_count": 42,
     "metadata": {},
     "output_type": "execute_result"
    }
   ],
   "source": [
    "city_dummies.corr()"
   ]
  },
  {
   "cell_type": "code",
   "execution_count": 43,
   "metadata": {
    "collapsed": false
   },
   "outputs": [
    {
     "data": {
      "text/plain": [
       "<matplotlib.axes._subplots.AxesSubplot at 0x7fecdc127d10>"
      ]
     },
     "execution_count": 43,
     "metadata": {},
     "output_type": "execute_result"
    },
    {
     "data": {
      "image/png": "[encoded data removed]",
      "text/plain": [
       "<matplotlib.figure.Figure at 0x7fecdc127f50>"
      ]
     },
     "metadata": {},
     "output_type": "display_data"
    }
   ],
   "source": [
    "sns.heatmap(city_dummies.corr())"
   ]
  },
  {
   "cell_type": "code",
   "execution_count": 44,
   "metadata": {
    "collapsed": false
   },
   "outputs": [
    {
     "data": {
      "text/plain": [
       "<matplotlib.axes._subplots.AxesSubplot at 0x7fecd6a20510>"
      ]
     },
     "execution_count": 44,
     "metadata": {},
     "output_type": "execute_result"
    },
    {
     "data": {
      "image/png": "[encoded data removed]",
      "text/plain": [
       "<matplotlib.figure.Figure at 0x7fecd69e8a90>"
      ]
     },
     "metadata": {},
     "output_type": "display_data"
    }
   ],
   "source": [
    "cormat = city_dummies.corr()\n",
    "sns.heatmap(cormat[-5:])"
   ]
  },
  {
   "cell_type": "markdown",
   "metadata": {},
   "source": [
    "The words 'scientist' or 'senior' being included in the job title tend to correlate with the job having a higher salary. Additionally, some cities, specifically, Atlanta, Chicago, Dallas, New York, and Philadelphia tend to have higher salaries."
   ]
  },
  {
   "cell_type": "markdown",
   "metadata": {
    "focus": false,
    "id": "9367beff-72ba-4768-a0ba-a50b335de61d"
   },
   "source": [
    "#### Use cross-validation in scikit-learn to evaluate the model above. \n",
    "- Evaluate the accuracy, AUC, precision and recall of the model. \n",
    "- Discuss the differences and explain when you want a high-recall or a high-precision model in this scenario."
   ]
  },
  {
   "cell_type": "code",
   "execution_count": 45,
   "metadata": {
    "collapsed": false,
    "focus": false,
    "id": "269b9e7c-60b5-4a06-8255-881d7395bc1b"
   },
   "outputs": [
    {
     "name": "stdout",
     "output_type": "stream",
     "text": [
      "Cross-validated scores: [ 0.5         0.74074074  0.73076923  0.5         0.57692308]\n",
      "Cross-Predicted Accuracy: -0.563998190864\n"
     ]
    }
   ],
   "source": [
    "from sklearn.cross_validation import cross_val_score, cross_val_predict\n",
    "from sklearn import metrics\n",
    "\n",
    "# Perform 5-fold cross validation\n",
    "scores = cross_val_score(logit, X, y, cv=5)\n",
    "print \"Cross-validated scores:\", scores\n",
    "# Make cross validated predictions\n",
    "predictions = cross_val_predict(logit, X, y, cv=5)\n",
    "accuracy = metrics.r2_score(y, predictions)\n",
    "print \"Cross-Predicted Accuracy:\", accuracy"
   ]
  },
  {
   "cell_type": "markdown",
   "metadata": {},
   "source": [
    "The model might be somewhat overfit, however, since it's a relatively small sample size (only ~130 entries with salaries listed), maybe performing a cross-validation results in the individual folds being too small to be consistent/meaningful? Not really sure."
   ]
  },
  {
   "cell_type": "code",
   "execution_count": 46,
   "metadata": {
    "collapsed": false
   },
   "outputs": [
    {
     "name": "stdout",
     "output_type": "stream",
     "text": [
      "0.666666666667\n",
      "0.666666666667\n"
     ]
    }
   ],
   "source": [
    "from sklearn.cross_validation import train_test_split\n",
    "from sklearn.metrics import accuracy_score\n",
    "\n",
    "X_train, X_test, y_train, y_test = train_test_split(X, y, test_size=0.4)\n",
    "\n",
    "model_tt = logit.fit(X_train, y_train)\n",
    "y_predictions = model_tt.predict(X_test)\n",
    "\n",
    "print model_tt.score(X_test, y_test)\n",
    "acc = accuracy_score(y_test, y_predictions)\n",
    "print acc"
   ]
  },
  {
   "cell_type": "markdown",
   "metadata": {},
   "source": [
    "Doing a 60/40 train_test_split looks more promising, though the model is probably slightly overfit."
   ]
  },
  {
   "cell_type": "code",
   "execution_count": 47,
   "metadata": {
    "collapsed": false
   },
   "outputs": [
    {
     "data": {
      "text/html": [
       "<div>\n",
       "<table border=\"1\" class=\"dataframe\">\n",
       "  <thead>\n",
       "    <tr style=\"text-align: right;\">\n",
       "      <th></th>\n",
       "      <th>predicted_high_salary</th>\n",
       "      <th>predicted_not_high_salary</th>\n",
       "    </tr>\n",
       "  </thead>\n",
       "  <tbody>\n",
       "    <tr>\n",
       "      <th>is_high_salary</th>\n",
       "      <td>19</td>\n",
       "      <td>6</td>\n",
       "    </tr>\n",
       "    <tr>\n",
       "      <th>not_high_salary</th>\n",
       "      <td>12</td>\n",
       "      <td>17</td>\n",
       "    </tr>\n",
       "  </tbody>\n",
       "</table>\n",
       "</div>"
      ],
      "text/plain": [
       "                 predicted_high_salary  predicted_not_high_salary\n",
       "is_high_salary                      19                          6\n",
       "not_high_salary                     12                         17"
      ]
     },
     "execution_count": 47,
     "metadata": {},
     "output_type": "execute_result"
    }
   ],
   "source": [
    "from sklearn.metrics import confusion_matrix\n",
    "import numpy as np\n",
    "\n",
    "conmat = np.array(confusion_matrix(y_test, y_predictions))\n",
    "\n",
    "confusion = pd.DataFrame(conmat, index=['is_high_salary', 'not_high_salary'],\n",
    "                         columns=['predicted_high_salary','predicted_not_high_salary'])\n",
    "\n",
    "confusion"
   ]
  },
  {
   "cell_type": "code",
   "execution_count": 48,
   "metadata": {
    "collapsed": false
   },
   "outputs": [
    {
     "data": {
      "text/plain": [
       "[('True Positives', 19),\n",
       " ('False Positives', 12),\n",
       " ('True Negatives', 17),\n",
       " ('False Negatives', 6)]"
      ]
     },
     "execution_count": 48,
     "metadata": {},
     "output_type": "execute_result"
    }
   ],
   "source": [
    "TP = confusion.ix['is_high_salary', 'predicted_high_salary']\n",
    "FP = confusion.ix['not_high_salary', 'predicted_high_salary']\n",
    "TN = confusion.ix['not_high_salary', 'predicted_not_high_salary']\n",
    "FN = confusion.ix['is_high_salary', 'predicted_not_high_salary']\n",
    "\n",
    "zip(['True Positives','False Positives','True Negatives','False Negatives'],\n",
    "          [TP, FP, TN, FN])"
   ]
  },
  {
   "cell_type": "code",
   "execution_count": 49,
   "metadata": {
    "collapsed": false
   },
   "outputs": [
    {
     "name": "stdout",
     "output_type": "stream",
     "text": [
      "             precision    recall  f1-score   support\n",
      "\n",
      "          0       0.61      0.76      0.68        25\n",
      "          1       0.74      0.59      0.65        29\n",
      "\n",
      "avg / total       0.68      0.67      0.67        54\n",
      "\n"
     ]
    }
   ],
   "source": [
    "from sklearn.metrics import classification_report\n",
    "\n",
    "cls_rep = classification_report(y_test, y_predictions)\n",
    "print cls_rep"
   ]
  },
  {
   "cell_type": "code",
   "execution_count": 50,
   "metadata": {
    "collapsed": false
   },
   "outputs": [
    {
     "name": "stdout",
     "output_type": "stream",
     "text": [
      "(array([ 0.  ,  0.  ,  0.  ,  0.12,  0.12,  0.16,  0.16,  0.24,  0.24,\n",
      "        0.28,  0.28,  0.32,  0.36,  0.52,  0.52,  0.56,  0.64,  0.64,\n",
      "        0.84,  0.88,  0.88,  0.96,  1.  ]), array([ 0.03448276,  0.24137931,  0.34482759,  0.44827586,  0.51724138,\n",
      "        0.51724138,  0.55172414,  0.5862069 ,  0.62068966,  0.65517241,\n",
      "        0.72413793,  0.72413793,  0.75862069,  0.75862069,  0.79310345,\n",
      "        0.79310345,  0.79310345,  0.82758621,  0.82758621,  0.86206897,\n",
      "        0.93103448,  0.96551724,  1.        ]), array([  1.96691298e+00,   6.46217016e-01,   5.20450072e-01,\n",
      "         4.23831389e-01,   1.43811323e-01,   8.40441614e-02,\n",
      "         7.06350043e-02,   3.91954699e-02,  -1.68883101e-03,\n",
      "        -2.59836790e-02,  -1.41793215e-01,  -2.00864520e-01,\n",
      "        -3.58916709e-01,  -6.08710377e-01,  -6.50679587e-01,\n",
      "        -8.04259851e-01,  -8.08731777e-01,  -8.90705946e-01,\n",
      "        -9.15000794e-01,  -1.06129525e+00,  -1.45663762e+00,\n",
      "        -1.56290664e+00,  -1.70920109e+00]))\n"
     ]
    },
    {
     "data": {
      "image/png": "[encoded data removed]",
      "text/plain": [
       "<matplotlib.figure.Figure at 0x7fecd6947050>"
      ]
     },
     "metadata": {},
     "output_type": "display_data"
    }
   ],
   "source": [
    "from sklearn.metrics import roc_curve, auc\n",
    "\n",
    "y_score = logit.decision_function(X_test)\n",
    "\n",
    "FPR = dict()\n",
    "TPR = dict()\n",
    "ROC_AUC = dict() # {}\n",
    "\n",
    "print roc_curve(y_test, y_score)\n",
    "\n",
    "FPR[1], TPR[1], _ = roc_curve(y_test, y_score)\n",
    "ROC_AUC[1] = auc(FPR[1], TPR[1])\n",
    "\n",
    "\n",
    "plt.figure(figsize=[11,9])\n",
    "plt.plot(FPR[1], TPR[1], label='ROC curve (area = %0.2f)' % ROC_AUC[1], linewidth=4)\n",
    "plt.plot([0, 1], [0, 1], 'k--', linewidth=4)\n",
    "plt.xlim([0.0, 1.0])\n",
    "plt.ylim([0.0, 1.05])\n",
    "plt.xlabel('False Positive Rate', fontsize=18)\n",
    "plt.ylabel('True Positive Rate', fontsize=18)\n",
    "plt.title('ROC for predicting high salary', fontsize=18)\n",
    "plt.legend(loc=\"lower right\")\n",
    "plt.show()"
   ]
  },
  {
   "cell_type": "markdown",
   "metadata": {
    "focus": false,
    "id": "8c22664b-92e4-4fc2-b7ac-fbac865845d3"
   },
   "source": [
    "#### Compare L1 and L2 regularization for this logistic regression model. What effect does this have on the coefficients learned?"
   ]
  },
  {
   "cell_type": "code",
   "execution_count": 51,
   "metadata": {
    "collapsed": false,
    "focus": false,
    "id": "172fd952-5012-4630-81f4-1206da6eb820"
   },
   "outputs": [
    {
     "name": "stdout",
     "output_type": "stream",
     "text": [
      "0.706766917293\n"
     ]
    }
   ],
   "source": [
    "## L1\n",
    "X = city_dummies.drop(['is_high_salary'], axis=1)\n",
    "y = city_dummies['is_high_salary']\n",
    "\n",
    "logit = LogisticRegression(penalty='l1')\n",
    "model = logit.fit(X, y)\n",
    "predictions = model.predict(X)\n",
    "\n",
    "print model.score(X, y)"
   ]
  },
  {
   "cell_type": "code",
   "execution_count": 52,
   "metadata": {
    "collapsed": false,
    "focus": false,
    "id": "56cc8854-d722-411d-a6c7-e86310710f67"
   },
   "outputs": [
    {
     "name": "stdout",
     "output_type": "stream",
     "text": [
      "0.766917293233\n"
     ]
    }
   ],
   "source": [
    "## L2\n",
    "X = city_dummies.drop(['is_high_salary'], axis=1)\n",
    "y = city_dummies['is_high_salary']\n",
    "\n",
    "logit = LogisticRegression(penalty='l2')\n",
    "model = logit.fit(X, y)\n",
    "predictions = model.predict(X)\n",
    "\n",
    "print model.score(X, y)"
   ]
  },
  {
   "cell_type": "markdown",
   "metadata": {},
   "source": [
    "The Ridge regularization model performs slightly better than the Lasso regularization (with the default C value, I'll do a grid search with different C's below)."
   ]
  },
  {
   "cell_type": "markdown",
   "metadata": {
    "focus": false,
    "id": "fead9b5b-7316-405d-87fd-e144dff0cbeb"
   },
   "source": [
    "#### Continue to incorporate other text features from the title or summary that you believe will predict the salary and examine their coefficients"
   ]
  },
  {
   "cell_type": "markdown",
   "metadata": {},
   "source": [
    "Did this below with Count Vectorizer"
   ]
  },
  {
   "cell_type": "markdown",
   "metadata": {
    "focus": false,
    "id": "12d5edeb-a272-43a0-9977-d951f12fedfb"
   },
   "source": [
    "#### Take ~100 scraped entries with salaries. Convert them to use with your model and predict the salary - which entries have the highest predicted salaries?"
   ]
  },
  {
   "cell_type": "markdown",
   "metadata": {
    "focus": false,
    "id": "3be94357-e551-4094-b784-2df039216d33"
   },
   "source": [
    "### BONUS "
   ]
  },
  {
   "cell_type": "markdown",
   "metadata": {
    "focus": false,
    "id": "db045898-1d2d-4af2-8e79-437c4c7546b4"
   },
   "source": [
    "#### Bonus: Use Count Vectorizer from scikit-learn to create features from the text summaries. \n",
    "- Examine using count or binary features in the model\n",
    "- Re-evaluate the logistic regression model using these. Does this improve the model performance? \n",
    "- What text features are the most valuable? "
   ]
  },
  {
   "cell_type": "code",
   "execution_count": 53,
   "metadata": {
    "collapsed": false,
    "focus": false,
    "id": "4239e458-28bd-4675-8db3-c1d9c02b9854"
   },
   "outputs": [
    {
     "name": "stdout",
     "output_type": "stream",
     "text": [
      "(133, 56)\n"
     ]
    },
    {
     "data": {
      "text/html": [
       "<div>\n",
       "<table border=\"1\" class=\"dataframe\">\n",
       "  <thead>\n",
       "    <tr style=\"text-align: right;\">\n",
       "      <th></th>\n",
       "      <th>Atlanta</th>\n",
       "      <th>Austin</th>\n",
       "      <th>Chicago</th>\n",
       "      <th>Dallas</th>\n",
       "      <th>Denver</th>\n",
       "      <th>Houston</th>\n",
       "      <th>Los+Angeles</th>\n",
       "      <th>Miami</th>\n",
       "      <th>New+York</th>\n",
       "      <th>Philadelphia</th>\n",
       "      <th>...</th>\n",
       "      <th>machine_body</th>\n",
       "      <th>miami</th>\n",
       "      <th>patient</th>\n",
       "      <th>provides</th>\n",
       "      <th>research_body</th>\n",
       "      <th>scientist_body</th>\n",
       "      <th>scientists</th>\n",
       "      <th>south</th>\n",
       "      <th>statistical_body</th>\n",
       "      <th>university</th>\n",
       "    </tr>\n",
       "  </thead>\n",
       "  <tbody>\n",
       "    <tr>\n",
       "      <th>0</th>\n",
       "      <td>0.0</td>\n",
       "      <td>0.0</td>\n",
       "      <td>0.0</td>\n",
       "      <td>0.0</td>\n",
       "      <td>0.0</td>\n",
       "      <td>1.0</td>\n",
       "      <td>0.0</td>\n",
       "      <td>0.0</td>\n",
       "      <td>0.0</td>\n",
       "      <td>0.0</td>\n",
       "      <td>...</td>\n",
       "      <td>0</td>\n",
       "      <td>0</td>\n",
       "      <td>0</td>\n",
       "      <td>0</td>\n",
       "      <td>0</td>\n",
       "      <td>0</td>\n",
       "      <td>0</td>\n",
       "      <td>0</td>\n",
       "      <td>0</td>\n",
       "      <td>0</td>\n",
       "    </tr>\n",
       "    <tr>\n",
       "      <th>1</th>\n",
       "      <td>0.0</td>\n",
       "      <td>0.0</td>\n",
       "      <td>0.0</td>\n",
       "      <td>0.0</td>\n",
       "      <td>0.0</td>\n",
       "      <td>1.0</td>\n",
       "      <td>0.0</td>\n",
       "      <td>0.0</td>\n",
       "      <td>0.0</td>\n",
       "      <td>0.0</td>\n",
       "      <td>...</td>\n",
       "      <td>0</td>\n",
       "      <td>0</td>\n",
       "      <td>1</td>\n",
       "      <td>0</td>\n",
       "      <td>1</td>\n",
       "      <td>0</td>\n",
       "      <td>0</td>\n",
       "      <td>0</td>\n",
       "      <td>0</td>\n",
       "      <td>1</td>\n",
       "    </tr>\n",
       "    <tr>\n",
       "      <th>2</th>\n",
       "      <td>0.0</td>\n",
       "      <td>0.0</td>\n",
       "      <td>0.0</td>\n",
       "      <td>0.0</td>\n",
       "      <td>0.0</td>\n",
       "      <td>1.0</td>\n",
       "      <td>0.0</td>\n",
       "      <td>0.0</td>\n",
       "      <td>0.0</td>\n",
       "      <td>0.0</td>\n",
       "      <td>...</td>\n",
       "      <td>1</td>\n",
       "      <td>0</td>\n",
       "      <td>0</td>\n",
       "      <td>0</td>\n",
       "      <td>0</td>\n",
       "      <td>0</td>\n",
       "      <td>0</td>\n",
       "      <td>0</td>\n",
       "      <td>0</td>\n",
       "      <td>0</td>\n",
       "    </tr>\n",
       "    <tr>\n",
       "      <th>3</th>\n",
       "      <td>0.0</td>\n",
       "      <td>0.0</td>\n",
       "      <td>0.0</td>\n",
       "      <td>0.0</td>\n",
       "      <td>0.0</td>\n",
       "      <td>1.0</td>\n",
       "      <td>0.0</td>\n",
       "      <td>0.0</td>\n",
       "      <td>0.0</td>\n",
       "      <td>0.0</td>\n",
       "      <td>...</td>\n",
       "      <td>0</td>\n",
       "      <td>0</td>\n",
       "      <td>0</td>\n",
       "      <td>0</td>\n",
       "      <td>0</td>\n",
       "      <td>1</td>\n",
       "      <td>0</td>\n",
       "      <td>0</td>\n",
       "      <td>0</td>\n",
       "      <td>0</td>\n",
       "    </tr>\n",
       "    <tr>\n",
       "      <th>4</th>\n",
       "      <td>0.0</td>\n",
       "      <td>0.0</td>\n",
       "      <td>0.0</td>\n",
       "      <td>0.0</td>\n",
       "      <td>0.0</td>\n",
       "      <td>1.0</td>\n",
       "      <td>0.0</td>\n",
       "      <td>0.0</td>\n",
       "      <td>0.0</td>\n",
       "      <td>0.0</td>\n",
       "      <td>...</td>\n",
       "      <td>0</td>\n",
       "      <td>0</td>\n",
       "      <td>0</td>\n",
       "      <td>0</td>\n",
       "      <td>0</td>\n",
       "      <td>0</td>\n",
       "      <td>0</td>\n",
       "      <td>0</td>\n",
       "      <td>0</td>\n",
       "      <td>0</td>\n",
       "    </tr>\n",
       "  </tbody>\n",
       "</table>\n",
       "<p>5 rows × 56 columns</p>\n",
       "</div>"
      ],
      "text/plain": [
       "   Atlanta  Austin  Chicago  Dallas  Denver  Houston  Los+Angeles  Miami  \\\n",
       "0      0.0     0.0      0.0     0.0     0.0      1.0          0.0    0.0   \n",
       "1      0.0     0.0      0.0     0.0     0.0      1.0          0.0    0.0   \n",
       "2      0.0     0.0      0.0     0.0     0.0      1.0          0.0    0.0   \n",
       "3      0.0     0.0      0.0     0.0     0.0      1.0          0.0    0.0   \n",
       "4      0.0     0.0      0.0     0.0     0.0      1.0          0.0    0.0   \n",
       "\n",
       "   New+York  Philadelphia     ...      machine_body  miami  patient  provides  \\\n",
       "0       0.0           0.0     ...                 0      0        0         0   \n",
       "1       0.0           0.0     ...                 0      0        1         0   \n",
       "2       0.0           0.0     ...                 1      0        0         0   \n",
       "3       0.0           0.0     ...                 0      0        0         0   \n",
       "4       0.0           0.0     ...                 0      0        0         0   \n",
       "\n",
       "   research_body  scientist_body  scientists  south  statistical_body  \\\n",
       "0              0               0           0      0                 0   \n",
       "1              1               0           0      0                 0   \n",
       "2              0               0           0      0                 0   \n",
       "3              0               1           0      0                 0   \n",
       "4              0               0           0      0                 0   \n",
       "\n",
       "   university  \n",
       "0           0  \n",
       "1           1  \n",
       "2           0  \n",
       "3           0  \n",
       "4           0  \n",
       "\n",
       "[5 rows x 56 columns]"
      ]
     },
     "execution_count": 53,
     "metadata": {},
     "output_type": "execute_result"
    }
   ],
   "source": [
    "from sklearn.feature_extraction.text import CountVectorizer\n",
    "v = CountVectorizer(\n",
    "    binary=True,  # Create binary features\n",
    "    stop_words='english', # Ignore common words such as 'the', 'and'\n",
    "    max_features=20, # Only use the top 20 most common words\n",
    ")\n",
    "\n",
    "# Remake city_dummies to drop word columns since I'm adding them below\n",
    "city_dummies = pd.get_dummies(has_salary['Search City'])\n",
    "city_dummies['is_high_salary'] = has_salary['is_high_salary']\n",
    "\n",
    "# This builds a matrix with a row per job, and variables based on the top 20 words in the title\n",
    "title_talk = v.fit_transform(has_salary['Title']).todense()\n",
    "title_talk = pd.DataFrame(title_talk, columns=v.get_feature_names())\n",
    "\n",
    "# This builds a matrix with a row per job, and variables based on the top 20 words in the summary\n",
    "body_talk = v.fit_transform(has_salary['Summary']).todense()\n",
    "body_talk = pd.DataFrame(body_talk, columns=v.get_feature_names())\n",
    "\n",
    "# Join the title and summary word variables\n",
    "word_variables = title_talk.join(body_talk, lsuffix='_title', rsuffix='_body')\n",
    "X = city_dummies.join(word_variables)\n",
    "\n",
    "\n",
    "print X.shape\n",
    "X.head()"
   ]
  },
  {
   "cell_type": "code",
   "execution_count": 54,
   "metadata": {
    "collapsed": false
   },
   "outputs": [
    {
     "name": "stdout",
     "output_type": "stream",
     "text": [
      "Index([          u'Atlanta',            u'Austin',           u'Chicago',\n",
      "                  u'Dallas',            u'Denver',           u'Houston',\n",
      "             u'Los+Angeles',             u'Miami',          u'New+York',\n",
      "            u'Philadelphia',           u'Phoenix',        u'Pittsburgh',\n",
      "                u'Portland',     u'San+Francisco',           u'Seattle',\n",
      "          u'is_high_salary',    u'analysis_title',           u'analyst',\n",
      "               u'assistant',         u'associate',        u'data_title',\n",
      "                u'engineer',       u'engineering',                u'ii',\n",
      "                    u'lead',    u'learning_title',     u'machine_title',\n",
      "                 u'program',        u'programmer',      u'quantitative',\n",
      "          u'research_title',   u'scientist_title',            u'senior',\n",
      "              u'specialist',                u'sr', u'statistical_title',\n",
      "           u'analysis_body',             u'based',              u'care',\n",
      "                u'clinical',         u'data_body',              u'edge',\n",
      "              u'experience',            u'health',           u'leading',\n",
      "           u'learning_body',      u'machine_body',             u'miami',\n",
      "                 u'patient',          u'provides',     u'research_body',\n",
      "          u'scientist_body',        u'scientists',             u'south',\n",
      "        u'statistical_body',        u'university'],\n",
      "      dtype='object')\n"
     ]
    }
   ],
   "source": [
    "print X.columns"
   ]
  },
  {
   "cell_type": "code",
   "execution_count": 55,
   "metadata": {
    "collapsed": false
   },
   "outputs": [],
   "source": [
    "corr = X.corr()"
   ]
  },
  {
   "cell_type": "code",
   "execution_count": 56,
   "metadata": {
    "collapsed": false
   },
   "outputs": [
    {
     "data": {
      "text/plain": [
       "<matplotlib.axes._subplots.AxesSubplot at 0x7fecd63b2dd0>"
      ]
     },
     "execution_count": 56,
     "metadata": {},
     "output_type": "execute_result"
    },
    {
     "data": {
      "image/png": "[encoded data removed]",
      "text/plain": [
       "<matplotlib.figure.Figure at 0x7fecd6947210>"
      ]
     },
     "metadata": {},
     "output_type": "display_data"
    }
   ],
   "source": [
    "sns.heatmap(corr)"
   ]
  },
  {
   "cell_type": "code",
   "execution_count": 57,
   "metadata": {
    "collapsed": false
   },
   "outputs": [
    {
     "data": {
      "text/plain": [
       "Atlanta              0.233937\n",
       "Austin               0.061392\n",
       "Chicago              0.196162\n",
       "Dallas               0.147650\n",
       "Denver              -0.029556\n",
       "Houston              0.022844\n",
       "Los+Angeles         -0.074089\n",
       "Miami               -0.141459\n",
       "New+York             0.122635\n",
       "Philadelphia         0.166591\n",
       "Phoenix             -0.239431\n",
       "Pittsburgh          -0.146543\n",
       "Portland            -0.102790\n",
       "San+Francisco       -0.051781\n",
       "Seattle              0.049496\n",
       "is_high_salary       1.000000\n",
       "analysis_title      -0.041016\n",
       "analyst             -0.107827\n",
       "assistant           -0.102790\n",
       "associate           -0.116200\n",
       "data_title           0.294837\n",
       "engineer             0.215729\n",
       "engineering          0.061345\n",
       "ii                  -0.120075\n",
       "lead                 0.215729\n",
       "learning_title       0.196162\n",
       "machine_title        0.196162\n",
       "program             -0.146543\n",
       "programmer           0.038044\n",
       "quantitative         0.196162\n",
       "research_title      -0.351688\n",
       "scientist_title      0.247459\n",
       "senior               0.182125\n",
       "specialist          -0.146543\n",
       "sr                   0.031900\n",
       "statistical_title   -0.065150\n",
       "analysis_body        0.102608\n",
       "based               -0.159831\n",
       "care                -0.147597\n",
       "clinical            -0.084153\n",
       "data_body            0.082768\n",
       "edge                -0.107344\n",
       "experience          -0.022863\n",
       "health              -0.219939\n",
       "leading             -0.107344\n",
       "learning_body        0.291427\n",
       "machine_body         0.306327\n",
       "miami               -0.212319\n",
       "patient             -0.179709\n",
       "provides            -0.212319\n",
       "research_body       -0.124768\n",
       "scientist_body       0.128905\n",
       "scientists          -0.025398\n",
       "south               -0.212319\n",
       "statistical_body    -0.078432\n",
       "university          -0.198583\n",
       "Name: is_high_salary, dtype: float64"
      ]
     },
     "execution_count": 57,
     "metadata": {},
     "output_type": "execute_result"
    }
   ],
   "source": [
    "corr['is_high_salary']"
   ]
  },
  {
   "cell_type": "code",
   "execution_count": 58,
   "metadata": {
    "collapsed": false,
    "scrolled": true
   },
   "outputs": [
    {
     "data": {
      "text/plain": [
       "Index([u'analysis', u'analyst', u'assistant', u'associate', u'data',\n",
       "       u'engineer', u'engineering', u'ii', u'lead', u'learning', u'machine',\n",
       "       u'program', u'programmer', u'quantitative', u'research', u'scientist',\n",
       "       u'senior', u'specialist', u'sr', u'statistical'],\n",
       "      dtype='object')"
      ]
     },
     "execution_count": 58,
     "metadata": {},
     "output_type": "execute_result"
    }
   ],
   "source": [
    "title_talk.columns"
   ]
  },
  {
   "cell_type": "code",
   "execution_count": 59,
   "metadata": {
    "collapsed": false,
    "focus": false,
    "id": "fec80936-37bc-4922-89bd-b5d615566c9c"
   },
   "outputs": [
    {
     "data": {
      "text/plain": [
       "Index([u'analysis', u'based', u'care', u'clinical', u'data', u'edge',\n",
       "       u'experience', u'health', u'leading', u'learning', u'machine', u'miami',\n",
       "       u'patient', u'provides', u'research', u'scientist', u'scientists',\n",
       "       u'south', u'statistical', u'university'],\n",
       "      dtype='object')"
      ]
     },
     "execution_count": 59,
     "metadata": {},
     "output_type": "execute_result"
    }
   ],
   "source": [
    "body_talk.columns"
   ]
  },
  {
   "cell_type": "markdown",
   "metadata": {
    "focus": false,
    "id": "d42b9fd8-39d5-416a-b40b-7410e6396c11"
   },
   "source": [
    "#### Re-test L1 and L2 regularization. You can use LogisticRegressionCV to find the optimal reguarlization parameters. \n",
    "- Re-test what text features are most valuable.  \n",
    "- How do L1 and L2 change the coefficients?"
   ]
  },
  {
   "cell_type": "code",
   "execution_count": 60,
   "metadata": {
    "collapsed": false,
    "focus": false,
    "id": "7570e237-c8cc-4e26-b569-7aee10627e79"
   },
   "outputs": [
    {
     "name": "stdout",
     "output_type": "stream",
     "text": [
      "0.834586466165\n"
     ]
    }
   ],
   "source": [
    "## L1 default C\n",
    "X = X.drop(['is_high_salary'], axis=1)\n",
    "y = city_dummies['is_high_salary']\n",
    "\n",
    "logit = LogisticRegression(penalty='l1')\n",
    "model = logit.fit(X, y)\n",
    "predictions = model.predict(X)\n",
    "\n",
    "print model.score(X, y)"
   ]
  },
  {
   "cell_type": "code",
   "execution_count": 61,
   "metadata": {
    "collapsed": false
   },
   "outputs": [
    {
     "name": "stdout",
     "output_type": "stream",
     "text": [
      "GridSearchCV(cv=None, error_score='raise',\n",
      "       estimator=LogisticRegression(C=1.0, class_weight=None, dual=False, fit_intercept=True,\n",
      "          intercept_scaling=1, max_iter=100, multi_class='ovr', n_jobs=1,\n",
      "          penalty='l1', random_state=None, solver='liblinear', tol=0.0001,\n",
      "          verbose=0, warm_start=False),\n",
      "       fit_params={}, iid=True, n_jobs=1,\n",
      "       param_grid={'C': array([ 1. ,  1.1, ...,  9.8,  9.9]), 'fit_intercept': [True, False]},\n",
      "       pre_dispatch='2*n_jobs', refit=True, scoring=None, verbose=0)\n",
      "0.721804511278\n",
      "5.3\n",
      "False\n"
     ]
    }
   ],
   "source": [
    "# Using grid search to test various alpha values for Lasso and Ridge regularization\n",
    "from sklearn.grid_search import GridSearchCV\n",
    "\n",
    "#Prepare a Range of Alpha Values to Test\n",
    "alphas = np.array(np.arange(1.0,10.0,0.1))\n",
    "\n",
    "#Create and Fit a Lasso Regression Model, Testing Each Alpha\n",
    "model_lasso = LogisticRegression(penalty='l1')\n",
    "# Can check multiple hyperparamters at once with param_grid\n",
    "grid_lasso = GridSearchCV(estimator=model_lasso, param_grid={'C': alphas, 'fit_intercept': [True, False]})\n",
    "grid_lasso.fit(X, y)\n",
    "print grid_lasso\n",
    "\n",
    "#Summarize the Results of the Grid Search\n",
    "print grid_lasso.best_score_\n",
    "print grid_lasso.best_estimator_.C\n",
    "print grid_lasso.best_estimator_.fit_intercept"
   ]
  },
  {
   "cell_type": "code",
   "execution_count": 62,
   "metadata": {
    "collapsed": false,
    "focus": false,
    "id": "e3a0c83d-e3b8-4bed-b864-7e795b34a3d4"
   },
   "outputs": [
    {
     "name": "stdout",
     "output_type": "stream",
     "text": [
      "0.872180451128\n"
     ]
    }
   ],
   "source": [
    "## L2 default C\n",
    "logit = LogisticRegression(penalty='l2')\n",
    "model = logit.fit(X, y)\n",
    "predictions = model.predict(X)\n",
    "\n",
    "print model.score(X, y)"
   ]
  },
  {
   "cell_type": "code",
   "execution_count": 63,
   "metadata": {
    "collapsed": false
   },
   "outputs": [
    {
     "name": "stdout",
     "output_type": "stream",
     "text": [
      "GridSearchCV(cv=None, error_score='raise',\n",
      "       estimator=LogisticRegression(C=1.0, class_weight=None, dual=False, fit_intercept=True,\n",
      "          intercept_scaling=1, max_iter=100, multi_class='ovr', n_jobs=1,\n",
      "          penalty='l2', random_state=None, solver='liblinear', tol=0.0001,\n",
      "          verbose=0, warm_start=False),\n",
      "       fit_params={}, iid=True, n_jobs=1,\n",
      "       param_grid={'C': array([ 1. ,  1.1, ...,  9.8,  9.9]), 'fit_intercept': [True, False]},\n",
      "       pre_dispatch='2*n_jobs', refit=True, scoring=None, verbose=0)\n",
      "0.699248120301\n",
      "1.2\n",
      "False\n"
     ]
    }
   ],
   "source": [
    "# Ridge regularization with a grid search on C values\n",
    "\n",
    "#Prepare a Range of Alpha Values to Test\n",
    "alphas = np.array(np.arange(1.0,10.0,0.1))\n",
    "\n",
    "#Create and Fit a Ridge Regression Model, Testing Each Alpha\n",
    "model_ridge = LogisticRegression(penalty='l2')\n",
    "# Can check multiple hyperparamters at once with param_grid\n",
    "grid_ridge = GridSearchCV(estimator=model_ridge, param_grid={'C': alphas, 'fit_intercept': [True, False]})\n",
    "grid_ridge.fit(X, y)\n",
    "print grid_ridge\n",
    "\n",
    "#Summarize the Results of the Grid Search\n",
    "print grid_ridge.best_score_\n",
    "print grid_ridge.best_estimator_.C\n",
    "print grid_ridge.best_estimator_.fit_intercept"
   ]
  },
  {
   "cell_type": "markdown",
   "metadata": {},
   "source": [
    "Without regularization, adding in the top 20 words in each the job title and the summary increased the score of the model. Adding regularization obviously decreased the score of the model."
   ]
  },
  {
   "cell_type": "code",
   "execution_count": 64,
   "metadata": {
    "collapsed": false
   },
   "outputs": [
    {
     "data": {
      "text/plain": [
       "LogisticRegression(C=5.3, class_weight=None, dual=False, fit_intercept=False,\n",
       "          intercept_scaling=1, max_iter=100, multi_class='ovr', n_jobs=1,\n",
       "          penalty='l1', random_state=None, solver='liblinear', tol=0.0001,\n",
       "          verbose=0, warm_start=False)"
      ]
     },
     "execution_count": 64,
     "metadata": {},
     "output_type": "execute_result"
    }
   ],
   "source": [
    "# Take the best result from the above lasso/ridge grid searches\n",
    "best_model = LogisticRegression(penalty='l1', C=5.3, fit_intercept=False)\n",
    "best_model.fit(X, y)"
   ]
  },
  {
   "cell_type": "code",
   "execution_count": 66,
   "metadata": {
    "collapsed": false
   },
   "outputs": [
    {
     "name": "stdout",
     "output_type": "stream",
     "text": [
      "0.740740740741\n",
      "0.740740740741\n"
     ]
    }
   ],
   "source": [
    "# Train-test model for the best_model\n",
    "X_train, X_test, y_train, y_test = train_test_split(X, y, test_size=0.4)\n",
    "\n",
    "best_model_tt = logit.fit(X_train, y_train)\n",
    "y_predictions = best_model_tt.predict(X_test)\n",
    "\n",
    "print best_model_tt.score(X_test, y_test)\n",
    "acc = accuracy_score(y_test, y_predictions)\n",
    "print acc"
   ]
  },
  {
   "cell_type": "code",
   "execution_count": 67,
   "metadata": {
    "collapsed": false
   },
   "outputs": [
    {
     "data": {
      "text/html": [
       "<div>\n",
       "<table border=\"1\" class=\"dataframe\">\n",
       "  <thead>\n",
       "    <tr style=\"text-align: right;\">\n",
       "      <th></th>\n",
       "      <th>predicted_high_salary</th>\n",
       "      <th>predicted_not_high_salary</th>\n",
       "    </tr>\n",
       "  </thead>\n",
       "  <tbody>\n",
       "    <tr>\n",
       "      <th>is_high_salary</th>\n",
       "      <td>19</td>\n",
       "      <td>3</td>\n",
       "    </tr>\n",
       "    <tr>\n",
       "      <th>not_high_salary</th>\n",
       "      <td>11</td>\n",
       "      <td>21</td>\n",
       "    </tr>\n",
       "  </tbody>\n",
       "</table>\n",
       "</div>"
      ],
      "text/plain": [
       "                 predicted_high_salary  predicted_not_high_salary\n",
       "is_high_salary                      19                          3\n",
       "not_high_salary                     11                         21"
      ]
     },
     "execution_count": 67,
     "metadata": {},
     "output_type": "execute_result"
    }
   ],
   "source": [
    "conmat = np.array(confusion_matrix(y_test, y_predictions))\n",
    "\n",
    "confusion = pd.DataFrame(conmat, index=['is_high_salary', 'not_high_salary'],\n",
    "                         columns=['predicted_high_salary','predicted_not_high_salary'])\n",
    "\n",
    "confusion"
   ]
  },
  {
   "cell_type": "code",
   "execution_count": 68,
   "metadata": {
    "collapsed": false
   },
   "outputs": [
    {
     "data": {
      "text/plain": [
       "[('True Positives', 19),\n",
       " ('False Positives', 11),\n",
       " ('True Negatives', 21),\n",
       " ('False Negatives', 3)]"
      ]
     },
     "execution_count": 68,
     "metadata": {},
     "output_type": "execute_result"
    }
   ],
   "source": [
    "TP = confusion.ix['is_high_salary', 'predicted_high_salary']\n",
    "FP = confusion.ix['not_high_salary', 'predicted_high_salary']\n",
    "TN = confusion.ix['not_high_salary', 'predicted_not_high_salary']\n",
    "FN = confusion.ix['is_high_salary', 'predicted_not_high_salary']\n",
    "\n",
    "zip(['True Positives','False Positives','True Negatives','False Negatives'],\n",
    "          [TP, FP, TN, FN])"
   ]
  },
  {
   "cell_type": "code",
   "execution_count": 69,
   "metadata": {
    "collapsed": false
   },
   "outputs": [
    {
     "name": "stdout",
     "output_type": "stream",
     "text": [
      "             precision    recall  f1-score   support\n",
      "\n",
      "          0       0.63      0.86      0.73        22\n",
      "          1       0.88      0.66      0.75        32\n",
      "\n",
      "avg / total       0.78      0.74      0.74        54\n",
      "\n"
     ]
    }
   ],
   "source": [
    "cls_rep = classification_report(y_test, y_predictions)\n",
    "print cls_rep"
   ]
  },
  {
   "cell_type": "code",
   "execution_count": 70,
   "metadata": {
    "collapsed": false
   },
   "outputs": [
    {
     "name": "stdout",
     "output_type": "stream",
     "text": [
      "(array([ 0.        ,  0.        ,  0.04545455,  0.04545455,  0.09090909,\n",
      "        0.09090909,  0.13636364,  0.13636364,  0.22727273,  0.22727273,\n",
      "        0.27272727,  0.27272727,  0.31818182,  0.31818182,  0.72727273,\n",
      "        0.72727273,  0.77272727,  0.77272727,  1.        ]), array([ 0.03125,  0.4375 ,  0.4375 ,  0.53125,  0.53125,  0.625  ,\n",
      "        0.625  ,  0.75   ,  0.75   ,  0.875  ,  0.875  ,  0.90625,\n",
      "        0.90625,  0.9375 ,  0.9375 ,  0.96875,  0.96875,  1.     ,  1.     ]), array([ 3.16996037,  0.77976238,  0.51808556,  0.318951  ,  0.31357381,\n",
      "        0.08148851,  0.03964515, -0.07708887, -0.12071759, -0.51516583,\n",
      "       -0.59922726, -0.72426173, -0.76502252, -0.8673722 , -1.62898119,\n",
      "       -1.75689206, -1.7814179 , -1.79699499, -2.38412741]))\n"
     ]
    },
    {
     "data": {
      "image/png": "[encoded data removed]",
      "text/plain": [
       "<matplotlib.figure.Figure at 0x7fecd422ba90>"
      ]
     },
     "metadata": {},
     "output_type": "display_data"
    }
   ],
   "source": [
    "y_score = logit.decision_function(X_test)\n",
    "\n",
    "FPR = dict()\n",
    "TPR = dict()\n",
    "ROC_AUC = dict() # {}\n",
    "\n",
    "print roc_curve(y_test, y_score)\n",
    "\n",
    "FPR[1], TPR[1], _ = roc_curve(y_test, y_score)\n",
    "ROC_AUC[1] = auc(FPR[1], TPR[1])\n",
    "\n",
    "\n",
    "plt.figure(figsize=[11,9])\n",
    "plt.plot(FPR[1], TPR[1], label='ROC curve (area = %0.2f)' % ROC_AUC[1], linewidth=4)\n",
    "plt.plot([0, 1], [0, 1], 'k--', linewidth=4)\n",
    "plt.xlim([0.0, 1.0])\n",
    "plt.ylim([0.0, 1.05])\n",
    "plt.xlabel('False Positive Rate', fontsize=18)\n",
    "plt.ylabel('True Positive Rate', fontsize=18)\n",
    "plt.title('ROC for predicting high salary', fontsize=18)\n",
    "plt.legend(loc=\"lower right\")\n",
    "plt.show()"
   ]
  },
  {
   "cell_type": "code",
   "execution_count": 71,
   "metadata": {
    "collapsed": false
   },
   "outputs": [
    {
     "data": {
      "text/html": [
       "<div>\n",
       "<table border=\"1\" class=\"dataframe\">\n",
       "  <thead>\n",
       "    <tr style=\"text-align: right;\">\n",
       "      <th></th>\n",
       "      <th>Unnamed: 0</th>\n",
       "      <th>Company</th>\n",
       "      <th>Location</th>\n",
       "      <th>Salary</th>\n",
       "      <th>Search City</th>\n",
       "      <th>Summary</th>\n",
       "      <th>Title</th>\n",
       "      <th>Yearly Salary</th>\n",
       "    </tr>\n",
       "  </thead>\n",
       "  <tbody>\n",
       "    <tr>\n",
       "      <th>0</th>\n",
       "      <td>0</td>\n",
       "      <td>SYSCO</td>\n",
       "      <td>Houston, TX 77038</td>\n",
       "      <td>NaN</td>\n",
       "      <td>Houston</td>\n",
       "      <td>Build predictive analytics models with Python ...</td>\n",
       "      <td>Sr Data Scientist</td>\n",
       "      <td>NaN</td>\n",
       "    </tr>\n",
       "    <tr>\n",
       "      <th>1</th>\n",
       "      <td>1</td>\n",
       "      <td>alliantgroup</td>\n",
       "      <td>Houston, TX</td>\n",
       "      <td>NaN</td>\n",
       "      <td>Houston</td>\n",
       "      <td>Engineers, and scientists to identify and subs...</td>\n",
       "      <td>Project Associate</td>\n",
       "      <td>NaN</td>\n",
       "    </tr>\n",
       "    <tr>\n",
       "      <th>2</th>\n",
       "      <td>2</td>\n",
       "      <td>Arundo Analytics</td>\n",
       "      <td>Houston, TX</td>\n",
       "      <td>NaN</td>\n",
       "      <td>Houston</td>\n",
       "      <td>Senior Data Scientist with expertise in machin...</td>\n",
       "      <td>Machine Learning Expert</td>\n",
       "      <td>NaN</td>\n",
       "    </tr>\n",
       "    <tr>\n",
       "      <th>3</th>\n",
       "      <td>3</td>\n",
       "      <td>Quantlab Financial</td>\n",
       "      <td>Houston, TX</td>\n",
       "      <td>NaN</td>\n",
       "      <td>Houston</td>\n",
       "      <td>Technology and Scientific Research are central...</td>\n",
       "      <td>Quantitative Research Scientist - Options Stra...</td>\n",
       "      <td>NaN</td>\n",
       "    </tr>\n",
       "    <tr>\n",
       "      <th>4</th>\n",
       "      <td>4</td>\n",
       "      <td>Exxon Mobil</td>\n",
       "      <td>Houston, TX</td>\n",
       "      <td>NaN</td>\n",
       "      <td>Houston</td>\n",
       "      <td>Experience in relevant areas of scientific exp...</td>\n",
       "      <td>Data Scientist</td>\n",
       "      <td>NaN</td>\n",
       "    </tr>\n",
       "  </tbody>\n",
       "</table>\n",
       "</div>"
      ],
      "text/plain": [
       "   Unnamed: 0                 Company           Location Salary Search City  \\\n",
       "0           0                   SYSCO  Houston, TX 77038    NaN     Houston   \n",
       "1           1            alliantgroup        Houston, TX    NaN     Houston   \n",
       "2           2        Arundo Analytics        Houston, TX    NaN     Houston   \n",
       "3           3      Quantlab Financial        Houston, TX    NaN     Houston   \n",
       "4           4             Exxon Mobil        Houston, TX    NaN     Houston   \n",
       "\n",
       "                                             Summary  \\\n",
       "0  Build predictive analytics models with Python ...   \n",
       "1  Engineers, and scientists to identify and subs...   \n",
       "2  Senior Data Scientist with expertise in machin...   \n",
       "3  Technology and Scientific Research are central...   \n",
       "4  Experience in relevant areas of scientific exp...   \n",
       "\n",
       "                                               Title  Yearly Salary  \n",
       "0                                  Sr Data Scientist            NaN  \n",
       "1                                  Project Associate            NaN  \n",
       "2                            Machine Learning Expert            NaN  \n",
       "3  Quantitative Research Scientist - Options Stra...            NaN  \n",
       "4                                     Data Scientist            NaN  "
      ]
     },
     "execution_count": 71,
     "metadata": {},
     "output_type": "execute_result"
    }
   ],
   "source": [
    "# Now attempting to apply this best_model to the original full dataset, df, where not all entries have a salary posted\n",
    "df.head()"
   ]
  },
  {
   "cell_type": "code",
   "execution_count": 72,
   "metadata": {
    "collapsed": false
   },
   "outputs": [
    {
     "data": {
      "text/html": [
       "<div>\n",
       "<table border=\"1\" class=\"dataframe\">\n",
       "  <thead>\n",
       "    <tr style=\"text-align: right;\">\n",
       "      <th></th>\n",
       "      <th>Atlanta</th>\n",
       "      <th>Austin</th>\n",
       "      <th>Chicago</th>\n",
       "      <th>Dallas</th>\n",
       "      <th>Denver</th>\n",
       "      <th>Houston</th>\n",
       "      <th>Los+Angeles</th>\n",
       "      <th>Miami</th>\n",
       "      <th>New+York</th>\n",
       "      <th>Philadelphia</th>\n",
       "      <th>Phoenix</th>\n",
       "      <th>Pittsburgh</th>\n",
       "      <th>Portland</th>\n",
       "      <th>San+Francisco</th>\n",
       "      <th>Seattle</th>\n",
       "    </tr>\n",
       "  </thead>\n",
       "  <tbody>\n",
       "    <tr>\n",
       "      <th>0</th>\n",
       "      <td>0.0</td>\n",
       "      <td>0.0</td>\n",
       "      <td>0.0</td>\n",
       "      <td>0.0</td>\n",
       "      <td>0.0</td>\n",
       "      <td>1.0</td>\n",
       "      <td>0.0</td>\n",
       "      <td>0.0</td>\n",
       "      <td>0.0</td>\n",
       "      <td>0.0</td>\n",
       "      <td>0.0</td>\n",
       "      <td>0.0</td>\n",
       "      <td>0.0</td>\n",
       "      <td>0.0</td>\n",
       "      <td>0.0</td>\n",
       "    </tr>\n",
       "    <tr>\n",
       "      <th>1</th>\n",
       "      <td>0.0</td>\n",
       "      <td>0.0</td>\n",
       "      <td>0.0</td>\n",
       "      <td>0.0</td>\n",
       "      <td>0.0</td>\n",
       "      <td>1.0</td>\n",
       "      <td>0.0</td>\n",
       "      <td>0.0</td>\n",
       "      <td>0.0</td>\n",
       "      <td>0.0</td>\n",
       "      <td>0.0</td>\n",
       "      <td>0.0</td>\n",
       "      <td>0.0</td>\n",
       "      <td>0.0</td>\n",
       "      <td>0.0</td>\n",
       "    </tr>\n",
       "    <tr>\n",
       "      <th>2</th>\n",
       "      <td>0.0</td>\n",
       "      <td>0.0</td>\n",
       "      <td>0.0</td>\n",
       "      <td>0.0</td>\n",
       "      <td>0.0</td>\n",
       "      <td>1.0</td>\n",
       "      <td>0.0</td>\n",
       "      <td>0.0</td>\n",
       "      <td>0.0</td>\n",
       "      <td>0.0</td>\n",
       "      <td>0.0</td>\n",
       "      <td>0.0</td>\n",
       "      <td>0.0</td>\n",
       "      <td>0.0</td>\n",
       "      <td>0.0</td>\n",
       "    </tr>\n",
       "    <tr>\n",
       "      <th>3</th>\n",
       "      <td>0.0</td>\n",
       "      <td>0.0</td>\n",
       "      <td>0.0</td>\n",
       "      <td>0.0</td>\n",
       "      <td>0.0</td>\n",
       "      <td>1.0</td>\n",
       "      <td>0.0</td>\n",
       "      <td>0.0</td>\n",
       "      <td>0.0</td>\n",
       "      <td>0.0</td>\n",
       "      <td>0.0</td>\n",
       "      <td>0.0</td>\n",
       "      <td>0.0</td>\n",
       "      <td>0.0</td>\n",
       "      <td>0.0</td>\n",
       "    </tr>\n",
       "    <tr>\n",
       "      <th>4</th>\n",
       "      <td>0.0</td>\n",
       "      <td>0.0</td>\n",
       "      <td>0.0</td>\n",
       "      <td>0.0</td>\n",
       "      <td>0.0</td>\n",
       "      <td>1.0</td>\n",
       "      <td>0.0</td>\n",
       "      <td>0.0</td>\n",
       "      <td>0.0</td>\n",
       "      <td>0.0</td>\n",
       "      <td>0.0</td>\n",
       "      <td>0.0</td>\n",
       "      <td>0.0</td>\n",
       "      <td>0.0</td>\n",
       "      <td>0.0</td>\n",
       "    </tr>\n",
       "  </tbody>\n",
       "</table>\n",
       "</div>"
      ],
      "text/plain": [
       "   Atlanta  Austin  Chicago  Dallas  Denver  Houston  Los+Angeles  Miami  \\\n",
       "0      0.0     0.0      0.0     0.0     0.0      1.0          0.0    0.0   \n",
       "1      0.0     0.0      0.0     0.0     0.0      1.0          0.0    0.0   \n",
       "2      0.0     0.0      0.0     0.0     0.0      1.0          0.0    0.0   \n",
       "3      0.0     0.0      0.0     0.0     0.0      1.0          0.0    0.0   \n",
       "4      0.0     0.0      0.0     0.0     0.0      1.0          0.0    0.0   \n",
       "\n",
       "   New+York  Philadelphia  Phoenix  Pittsburgh  Portland  San+Francisco  \\\n",
       "0       0.0           0.0      0.0         0.0       0.0            0.0   \n",
       "1       0.0           0.0      0.0         0.0       0.0            0.0   \n",
       "2       0.0           0.0      0.0         0.0       0.0            0.0   \n",
       "3       0.0           0.0      0.0         0.0       0.0            0.0   \n",
       "4       0.0           0.0      0.0         0.0       0.0            0.0   \n",
       "\n",
       "   Seattle  \n",
       "0      0.0  \n",
       "1      0.0  \n",
       "2      0.0  \n",
       "3      0.0  \n",
       "4      0.0  "
      ]
     },
     "execution_count": 72,
     "metadata": {},
     "output_type": "execute_result"
    }
   ],
   "source": [
    "# get dummy variables for city\n",
    "full_city_dummies = pd.get_dummies(df['Search City'])\n",
    "full_city_dummies.head()"
   ]
  },
  {
   "cell_type": "code",
   "execution_count": 73,
   "metadata": {
    "collapsed": false
   },
   "outputs": [
    {
     "name": "stdout",
     "output_type": "stream",
     "text": [
      "(1739, 55)\n"
     ]
    },
    {
     "data": {
      "text/html": [
       "<div>\n",
       "<table border=\"1\" class=\"dataframe\">\n",
       "  <thead>\n",
       "    <tr style=\"text-align: right;\">\n",
       "      <th></th>\n",
       "      <th>Atlanta</th>\n",
       "      <th>Austin</th>\n",
       "      <th>Chicago</th>\n",
       "      <th>Dallas</th>\n",
       "      <th>Denver</th>\n",
       "      <th>Houston</th>\n",
       "      <th>Los+Angeles</th>\n",
       "      <th>Miami</th>\n",
       "      <th>New+York</th>\n",
       "      <th>Philadelphia</th>\n",
       "      <th>...</th>\n",
       "      <th>mining</th>\n",
       "      <th>research_body</th>\n",
       "      <th>science_body</th>\n",
       "      <th>scientist_body</th>\n",
       "      <th>scientists</th>\n",
       "      <th>statistical_body</th>\n",
       "      <th>team</th>\n",
       "      <th>visualization</th>\n",
       "      <th>work</th>\n",
       "      <th>years</th>\n",
       "    </tr>\n",
       "  </thead>\n",
       "  <tbody>\n",
       "    <tr>\n",
       "      <th>0</th>\n",
       "      <td>0.0</td>\n",
       "      <td>0.0</td>\n",
       "      <td>0.0</td>\n",
       "      <td>0.0</td>\n",
       "      <td>0.0</td>\n",
       "      <td>1.0</td>\n",
       "      <td>0.0</td>\n",
       "      <td>0.0</td>\n",
       "      <td>0.0</td>\n",
       "      <td>0.0</td>\n",
       "      <td>...</td>\n",
       "      <td>0</td>\n",
       "      <td>0</td>\n",
       "      <td>0</td>\n",
       "      <td>0</td>\n",
       "      <td>0</td>\n",
       "      <td>0</td>\n",
       "      <td>0</td>\n",
       "      <td>0</td>\n",
       "      <td>0</td>\n",
       "      <td>0</td>\n",
       "    </tr>\n",
       "    <tr>\n",
       "      <th>1</th>\n",
       "      <td>0.0</td>\n",
       "      <td>0.0</td>\n",
       "      <td>0.0</td>\n",
       "      <td>0.0</td>\n",
       "      <td>0.0</td>\n",
       "      <td>1.0</td>\n",
       "      <td>0.0</td>\n",
       "      <td>0.0</td>\n",
       "      <td>0.0</td>\n",
       "      <td>0.0</td>\n",
       "      <td>...</td>\n",
       "      <td>0</td>\n",
       "      <td>0</td>\n",
       "      <td>0</td>\n",
       "      <td>0</td>\n",
       "      <td>1</td>\n",
       "      <td>0</td>\n",
       "      <td>1</td>\n",
       "      <td>0</td>\n",
       "      <td>1</td>\n",
       "      <td>0</td>\n",
       "    </tr>\n",
       "    <tr>\n",
       "      <th>2</th>\n",
       "      <td>0.0</td>\n",
       "      <td>0.0</td>\n",
       "      <td>0.0</td>\n",
       "      <td>0.0</td>\n",
       "      <td>0.0</td>\n",
       "      <td>1.0</td>\n",
       "      <td>0.0</td>\n",
       "      <td>0.0</td>\n",
       "      <td>0.0</td>\n",
       "      <td>0.0</td>\n",
       "      <td>...</td>\n",
       "      <td>0</td>\n",
       "      <td>0</td>\n",
       "      <td>0</td>\n",
       "      <td>1</td>\n",
       "      <td>0</td>\n",
       "      <td>1</td>\n",
       "      <td>0</td>\n",
       "      <td>0</td>\n",
       "      <td>0</td>\n",
       "      <td>0</td>\n",
       "    </tr>\n",
       "    <tr>\n",
       "      <th>3</th>\n",
       "      <td>0.0</td>\n",
       "      <td>0.0</td>\n",
       "      <td>0.0</td>\n",
       "      <td>0.0</td>\n",
       "      <td>0.0</td>\n",
       "      <td>1.0</td>\n",
       "      <td>0.0</td>\n",
       "      <td>0.0</td>\n",
       "      <td>0.0</td>\n",
       "      <td>0.0</td>\n",
       "      <td>...</td>\n",
       "      <td>0</td>\n",
       "      <td>1</td>\n",
       "      <td>0</td>\n",
       "      <td>0</td>\n",
       "      <td>0</td>\n",
       "      <td>0</td>\n",
       "      <td>0</td>\n",
       "      <td>0</td>\n",
       "      <td>0</td>\n",
       "      <td>0</td>\n",
       "    </tr>\n",
       "    <tr>\n",
       "      <th>4</th>\n",
       "      <td>0.0</td>\n",
       "      <td>0.0</td>\n",
       "      <td>0.0</td>\n",
       "      <td>0.0</td>\n",
       "      <td>0.0</td>\n",
       "      <td>1.0</td>\n",
       "      <td>0.0</td>\n",
       "      <td>0.0</td>\n",
       "      <td>0.0</td>\n",
       "      <td>0.0</td>\n",
       "      <td>...</td>\n",
       "      <td>0</td>\n",
       "      <td>0</td>\n",
       "      <td>0</td>\n",
       "      <td>0</td>\n",
       "      <td>0</td>\n",
       "      <td>0</td>\n",
       "      <td>0</td>\n",
       "      <td>0</td>\n",
       "      <td>0</td>\n",
       "      <td>0</td>\n",
       "    </tr>\n",
       "  </tbody>\n",
       "</table>\n",
       "<p>5 rows × 55 columns</p>\n",
       "</div>"
      ],
      "text/plain": [
       "   Atlanta  Austin  Chicago  Dallas  Denver  Houston  Los+Angeles  Miami  \\\n",
       "0      0.0     0.0      0.0     0.0     0.0      1.0          0.0    0.0   \n",
       "1      0.0     0.0      0.0     0.0     0.0      1.0          0.0    0.0   \n",
       "2      0.0     0.0      0.0     0.0     0.0      1.0          0.0    0.0   \n",
       "3      0.0     0.0      0.0     0.0     0.0      1.0          0.0    0.0   \n",
       "4      0.0     0.0      0.0     0.0     0.0      1.0          0.0    0.0   \n",
       "\n",
       "   New+York  Philadelphia  ...    mining  research_body  science_body  \\\n",
       "0       0.0           0.0  ...         0              0             0   \n",
       "1       0.0           0.0  ...         0              0             0   \n",
       "2       0.0           0.0  ...         0              0             0   \n",
       "3       0.0           0.0  ...         0              1             0   \n",
       "4       0.0           0.0  ...         0              0             0   \n",
       "\n",
       "   scientist_body  scientists  statistical_body  team  visualization  work  \\\n",
       "0               0           0                 0     0              0     0   \n",
       "1               0           1                 0     1              0     1   \n",
       "2               1           0                 1     0              0     0   \n",
       "3               0           0                 0     0              0     0   \n",
       "4               0           0                 0     0              0     0   \n",
       "\n",
       "   years  \n",
       "0      0  \n",
       "1      0  \n",
       "2      0  \n",
       "3      0  \n",
       "4      0  \n",
       "\n",
       "[5 rows x 55 columns]"
      ]
     },
     "execution_count": 73,
     "metadata": {},
     "output_type": "execute_result"
    }
   ],
   "source": [
    "# Create an X using the full dataset, consisting of dummy variables for the city and the most common words\n",
    "# Same as above, but I'm doing this for the full dataset so I can use the model to predict whether or not the \n",
    "# salaries are high for the listings with no salary posted\n",
    "v = CountVectorizer(\n",
    "    binary=True,  # Create binary features\n",
    "    stop_words='english', # Ignore common words such as 'the', 'and'\n",
    "    max_features=20, # Only use the top 20 most common words\n",
    ")\n",
    "\n",
    "# This builds a matrix with a row per job, and variables based on the top 20 words in the title\n",
    "full_title_talk = v.fit_transform(df['Title']).todense()\n",
    "full_title_talk = pd.DataFrame(full_title_talk, columns=v.get_feature_names())\n",
    "\n",
    "# This builds a matrix with a row per job, and variables based on the top 20 words in the summary\n",
    "full_body_talk = v.fit_transform(df['Summary']).todense()\n",
    "full_body_talk = pd.DataFrame(full_body_talk, columns=v.get_feature_names())\n",
    "\n",
    "# Join the title and summary word variables\n",
    "full_word_variables = full_title_talk.join(full_body_talk, lsuffix='_title', rsuffix='_body')\n",
    "X_full = full_city_dummies.join(full_word_variables)\n",
    "\n",
    "\n",
    "print X_full.shape\n",
    "X_full.head()"
   ]
  },
  {
   "cell_type": "code",
   "execution_count": 74,
   "metadata": {
    "collapsed": false
   },
   "outputs": [
    {
     "name": "stdout",
     "output_type": "stream",
     "text": [
      "0.53421506613\n"
     ]
    }
   ],
   "source": [
    "# Now predicting is_high_salary for the full dataset, using the best model I found above\n",
    "full_predictions = best_model.predict(X_full)\n",
    "print full_predictions.mean()"
   ]
  },
  {
   "cell_type": "markdown",
   "metadata": {},
   "source": [
    "When applying the model to the full dataset, 53% of the results are predicted to be high salary. "
   ]
  },
  {
   "cell_type": "code",
   "execution_count": null,
   "metadata": {
    "collapsed": true
   },
   "outputs": [],
   "source": []
  },
  {
   "cell_type": "markdown",
   "metadata": {},
   "source": [
    "Executive summary:\n",
    "    http://nick-dsi.blogspot.com/2016/10/project-4-web-scraping-logistic.html"
   ]
  },
  {
   "cell_type": "code",
   "execution_count": null,
   "metadata": {
    "collapsed": true
   },
   "outputs": [],
   "source": []
  }
 ],
 "metadata": {
  "anaconda-cloud": {},
  "kernelspec": {
   "display_name": "Python [default]",
   "language": "python",
   "name": "python2"
  },
  "language_info": {
   "codemirror_mode": {
    "name": "ipython",
    "version": 2
   },
   "file_extension": ".py",
   "mimetype": "text/x-python",
   "name": "python",
   "nbconvert_exporter": "python",
   "pygments_lexer": "ipython2",
   "version": "2.7.12"
  }
 },
 "nbformat": 4,
 "nbformat_minor": 0
}
